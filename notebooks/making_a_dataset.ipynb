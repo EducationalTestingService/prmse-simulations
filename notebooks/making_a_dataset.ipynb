{
 "cells": [
  {
   "cell_type": "markdown",
   "metadata": {},
   "source": [
    "## Validation & Descriptive Analyses\n",
    "\n",
    "In this notebook, we run some sanity checks to make sure that the ``Dataset`` class behaves as expected and we also run some descriptive analyses whose results can be used later, e.g., in the accompnaying paper."
   ]
  },
  {
   "cell_type": "code",
   "execution_count": 12,
   "metadata": {},
   "outputs": [],
   "source": [
    "import json\n",
    "import pandas as pd\n",
    "import numpy as np\n",
    "import seaborn as sns\n",
    "\n",
    "from matplotlib import pyplot as plt\n",
    "from scipy.stats import pearsonr, norm\n",
    "from numpy import linalg\n",
    "from sklearn.metrics import r2_score\n",
    "\n",
    "from simulation.dataset import Dataset"
   ]
  },
  {
   "cell_type": "markdown",
   "metadata": {},
   "source": [
    "### Generating a Simulated Dataset \n",
    "\n",
    "The first thing to do is to generate a simulated dataset via the ``Dataset`` class. We choose to create one with:\n",
    "- 10,000 hypothetical responses\n",
    "- possible score range of $[1, 6]$\n",
    "- simulated \"true\" (or gold-standard scores) sampled from $\\mathcal{N}(\\mu=3.844, \\sigma=0.74)$.\n",
    "- 50 human raters simulated in each of 4 categories with \"low\" ($\\rho=0.4$), \"moderate\" ($\\rho=0.55$), \"average\" ($\\rho=0.65$), and \"high\" ($\\rho=0.8$) inter-rater agreement respectively (total 200 human raters).\n",
    "- 5 scoring systems simulated in each of 5 categories with \"poor\" ($R^2=0$), \"low\" ($R^2=0.4$), \"medium\" ($R^2=0.65$), \"high\" ($R^2=0.8$), and \"perfect\" ($R^2=0.99$) performance respectively (total 25 systems). For all systems $R^2$ is computed against the \"true\" or gold-standard scores.\n",
    "\n",
    "These properties can be changed by editing the `dataset.json` file. "
   ]
  },
  {
   "cell_type": "code",
   "execution_count": 13,
   "metadata": {},
   "outputs": [],
   "source": [
    "# load the default dataset settings from `dataset.json`\n",
    "settings = json.load(open('dataset.json', 'r'))\n",
    "\n",
    "# instantiate a dataset instance from these settings\n",
    "dataset = Dataset.from_dict(settings)"
   ]
  },
  {
   "cell_type": "markdown",
   "metadata": {},
   "source": [
    "Next, we populate the dataset by calling the ``generate()`` method which will generate all of the simulated scores. Once this is done, we call the ``to_frames()`` method to get pandas data frames that represent the simulated information in an organized fashion."
   ]
  },
  {
   "cell_type": "code",
   "execution_count": 14,
   "metadata": {},
   "outputs": [
    {
     "name": "stderr",
     "output_type": "stream",
     "text": [
      "generating true scores ...\n",
      "generating rater scores and metadata ...\n",
      "generating system scores and metadata ...\n"
     ]
    }
   ],
   "source": [
    "# generate the dataset scores\n",
    "dataset.generate()\n",
    "\n",
    "# now get the data frames representing this dataset\n",
    "df_scores, df_rater_metadata, df_system_metadata = dataset.to_frames()"
   ]
  },
  {
   "cell_type": "markdown",
   "metadata": {},
   "source": [
    "### Distribution of true scores\n",
    "\n",
    "Let's first check that the distribution of the simulated true scores in the dataset looks as expected."
   ]
  },
  {
   "cell_type": "code",
   "execution_count": 15,
   "metadata": {},
   "outputs": [
    {
     "data": {
      "image/png": "[encoded data removed]",
      "text/plain": [
       "<Figure size 432x288 with 1 Axes>"
      ]
     },
     "metadata": {
      "needs_background": "light"
     },
     "output_type": "display_data"
    }
   ],
   "source": [
    "p = sns.distplot(df_scores['true'])\n",
    "p.set_xlabel('true score')\n",
    "plt.show()"
   ]
  },
  {
   "cell_type": "markdown",
   "metadata": {},
   "source": [
    "As expected, the simulated true scores exhibit a normal distribution with the expected mean and standard deviation."
   ]
  },
  {
   "cell_type": "markdown",
   "metadata": {},
   "source": [
    "### Relationship between error & inter-rater correlations\n",
    "\n",
    "Another thing that would be interesting to look at is the effect of the error term (as sampled from $\\mathcal{N}(0, \\sigma$) on simulater inter-rater correlations as we vary $\\sigma$. This is handled by the private method `_find_best_error_sd_for_rho()` of the dataset instance which basically varies $\\sigma$ along a line to find the one that simulates the rater scores with average inter-rater correlation closest to the desired value of the given $\\rho$. However, this method also returns the values of the inter-rater correlations and $\\sigma$ computed as part of the search. So, we can simply plot these two values to see the relationship between them."
   ]
  },
  {
   "cell_type": "code",
   "execution_count": 16,
   "metadata": {},
   "outputs": [
    {
     "data": {
      "image/png": "[encoded data removed]",
      "text/plain": [
       "<Figure size 432x288 with 1 Axes>"
      ]
     },
     "metadata": {
      "needs_background": "light"
     },
     "output_type": "display_data"
    }
   ],
   "source": [
    "# call the private method - note that the actual value of rho doesn' matter since we are just\n",
    "# just interested in the error values searched the average inter-rater correlations for the\n",
    "# corresponding simulated rater scores\n",
    "error_sds, mean_inter_rater_correlations, _ = dataset._find_best_error_sd_for_rho(0.4, 100)\n",
    "p = sns.scatterplot(x=error_sds, y=mean_inter_rater_correlations)\n",
    "p.set_xlabel(r'error std. dev.')\n",
    "p.set_ylabel('mean inter-rater correlation')\n",
    "plt.show()"
   ]
  },
  {
   "cell_type": "markdown",
   "metadata": {},
   "source": [
    "As expected, the average inter-rater correlation monotonically decreases as larger error terms are added to the true scores to simulate the rater scores."
   ]
  },
  {
   "cell_type": "markdown",
   "metadata": {},
   "source": [
    "### Inter-rater correlations in each rater category\n",
    "\n",
    "The next thing we want to check is whether the mean average inter-rater correlations in the 4 simulated human rater categories are actually what we expect them to be. Recall that we wanted four rater categories -  \"low\" ($\\rho=0.4$), \"moderate\" ($\\rho=0.55$), \"average\" ($\\rho=0.65$), and \"high\" ($\\rho=0.8$), each with 50 simulated raters. So, we want to check whether our simulated rhos match these desired rhos."
   ]
  },
  {
   "cell_type": "code",
   "execution_count": 17,
   "metadata": {},
   "outputs": [
    {
     "data": {
      "text/html": [
       "<div>\n",
       "<style scoped>\n",
       "    .dataframe tbody tr th:only-of-type {\n",
       "        vertical-align: middle;\n",
       "    }\n",
       "\n",
       "    .dataframe tbody tr th {\n",
       "        vertical-align: top;\n",
       "    }\n",
       "\n",
       "    .dataframe thead th {\n",
       "        text-align: right;\n",
       "    }\n",
       "</style>\n",
       "<table border=\"1\" class=\"dataframe\">\n",
       "  <thead>\n",
       "    <tr style=\"text-align: right;\">\n",
       "      <th></th>\n",
       "      <th>low</th>\n",
       "      <th>moderate</th>\n",
       "      <th>average</th>\n",
       "      <th>high</th>\n",
       "    </tr>\n",
       "  </thead>\n",
       "  <tbody>\n",
       "    <tr>\n",
       "      <th>expected</th>\n",
       "      <td>0.400000</td>\n",
       "      <td>0.550000</td>\n",
       "      <td>0.650000</td>\n",
       "      <td>0.800000</td>\n",
       "    </tr>\n",
       "    <tr>\n",
       "      <th>simulated</th>\n",
       "      <td>0.401045</td>\n",
       "      <td>0.551284</td>\n",
       "      <td>0.648225</td>\n",
       "      <td>0.801706</td>\n",
       "    </tr>\n",
       "  </tbody>\n",
       "</table>\n",
       "</div>"
      ],
      "text/plain": [
       "                low  moderate   average      high\n",
       "expected   0.400000  0.550000  0.650000  0.800000\n",
       "simulated  0.401045  0.551284  0.648225  0.801706"
      ]
     },
     "execution_count": 17,
     "metadata": {},
     "output_type": "execute_result"
    }
   ],
   "source": [
    "# the first thing we will do is to compute the correlations between all raters, all systems, and the true scores\n",
    "# by doing this, we will save a lot of work below by not having to compute the correlations again and again\n",
    "df_all_correlations = df_scores.corr()\n",
    "\n",
    "# first we extract all of the columns containing scores from human raters\n",
    "# these columns all have names of the form `h_X`\n",
    "rater_columns = [column for column in df_scores.columns if column.startswith('h_')]\n",
    "\n",
    "# get the correlations between every rater and every other rater and re-organize\n",
    "# the data frame such that each row corresponds to a pair of raters\n",
    "df_all_rater_correlations = df_all_correlations.loc[rater_columns, rater_columns]\n",
    "df_pairwise_rater_correlations = df_all_rater_correlations.unstack().reset_index()\n",
    "df_pairwise_rater_correlations.columns = ['rater1', 'rater2', 'correlation']\n",
    "\n",
    "# exclude correlations between the scores from the same rater\n",
    "different_raters = df_pairwise_rater_correlations['rater1'] != df_pairwise_rater_correlations['rater2']\n",
    "df_pairwise_rater_correlations = df_pairwise_rater_correlations[different_raters]\n",
    "\n",
    "# now merge with the categories from the rater metadata data frame; \n",
    "# we need to do this twice once for each rater of the pair\n",
    "df_pairwise_rater_correlations_with_categories = pd.merge(df_pairwise_rater_correlations,\n",
    "                                                          df_rater_metadata,\n",
    "                                                          left_on ='rater1',\n",
    "                                                          right_on='rater_id')\n",
    "df_pairwise_rater_correlations_with_categories = pd.merge(df_pairwise_rater_correlations_with_categories,\n",
    "                                                          df_rater_metadata,\n",
    "                                                          left_on='rater2',\n",
    "                                                          right_on='rater_id',\n",
    "                                                          suffixes=['_1', '_2'])\n",
    "\n",
    "# now trim away any rows where the raters are not in the same cateogry\n",
    "# since we want to compute within-category mean inter-rater correlations\n",
    "same_category = df_pairwise_rater_correlations_with_categories['rater_category_1'] == df_pairwise_rater_correlations_with_categories['rater_category_2']\n",
    "df_pairwise_rater_correlations_same_category = df_pairwise_rater_correlations_with_categories[same_category]\n",
    "\n",
    "# now group by the category and compute the average correlations\n",
    "simulated_mean_correlations = df_pairwise_rater_correlations_same_category.groupby('rater_category_1')['correlation'].mean()\n",
    "\n",
    "# now print out a data frame comparing our simulated values to the values we expected\n",
    "expected_mean_correlations = pd.Series(dict(zip(dataset.rater_categories, dataset.rater_rho_per_category)))\n",
    "pd.DataFrame([expected_mean_correlations, simulated_mean_correlations], index=['expected', 'simulated'])"
   ]
  },
  {
   "cell_type": "markdown",
   "metadata": {},
   "source": [
    "We can see that our the average within-category inter-rater correlations for our simulated raters are quite close to what we expect. We can also visually compare the distributions of all within-category inter-rater correlations to those of all across-category inter-rater correlations."
   ]
  },
  {
   "cell_type": "code",
   "execution_count": 18,
   "metadata": {},
   "outputs": [
    {
     "data": {
      "image/png": "[encoded data removed]",
      "text/plain": [
       "<Figure size 432x288 with 1 Axes>"
      ]
     },
     "metadata": {
      "needs_background": "light"
     },
     "output_type": "display_data"
    }
   ],
   "source": [
    "# we already have the within-category inter-rater correlations\n",
    "# we just need to get the rows that are the opposite - where the two raters are in different categories\n",
    "different_category = df_pairwise_rater_correlations_with_categories['rater_category_1'] != df_pairwise_rater_correlations_with_categories['rater_category_2']\n",
    "df_pairwise_rater_correlations_different_category = df_pairwise_rater_correlations_with_categories[different_category]\n",
    "\n",
    "# plot the distributions of both types of inter-rater correlations\n",
    "sns.distplot(df_pairwise_rater_correlations_same_category['correlation'], kde=False, color='green', label='Same category')\n",
    "sns.distplot(df_pairwise_rater_correlations_different_category['correlation'], kde=False, color='red', label='Different category')\n",
    "plt.title(\"H-H inter-rater correlation\")\n",
    "plt.legend()\n",
    "plt.show()"
   ]
  },
  {
   "cell_type": "code",
   "execution_count": 19,
   "metadata": {},
   "outputs": [
    {
     "data": {
      "text/html": [
       "<div>\n",
       "<style scoped>\n",
       "    .dataframe tbody tr th:only-of-type {\n",
       "        vertical-align: middle;\n",
       "    }\n",
       "\n",
       "    .dataframe tbody tr th {\n",
       "        vertical-align: top;\n",
       "    }\n",
       "\n",
       "    .dataframe thead th {\n",
       "        text-align: right;\n",
       "    }\n",
       "</style>\n",
       "<table border=\"1\" class=\"dataframe\">\n",
       "  <thead>\n",
       "    <tr style=\"text-align: right;\">\n",
       "      <th></th>\n",
       "      <th>N raters</th>\n",
       "      <th>correlation</th>\n",
       "      <th>mean</th>\n",
       "      <th>std</th>\n",
       "    </tr>\n",
       "  </thead>\n",
       "  <tbody>\n",
       "    <tr>\n",
       "      <th>low</th>\n",
       "      <td>50</td>\n",
       "      <td>0.401045</td>\n",
       "      <td>3.826802</td>\n",
       "      <td>1.136638</td>\n",
       "    </tr>\n",
       "    <tr>\n",
       "      <th>moderate</th>\n",
       "      <td>50</td>\n",
       "      <td>0.551284</td>\n",
       "      <td>3.832834</td>\n",
       "      <td>0.988477</td>\n",
       "    </tr>\n",
       "    <tr>\n",
       "      <th>average</th>\n",
       "      <td>50</td>\n",
       "      <td>0.648225</td>\n",
       "      <td>3.833874</td>\n",
       "      <td>0.914957</td>\n",
       "    </tr>\n",
       "    <tr>\n",
       "      <th>high</th>\n",
       "      <td>50</td>\n",
       "      <td>0.801706</td>\n",
       "      <td>3.833890</td>\n",
       "      <td>0.828453</td>\n",
       "    </tr>\n",
       "  </tbody>\n",
       "</table>\n",
       "</div>"
      ],
      "text/plain": [
       "          N raters  correlation      mean       std\n",
       "low             50     0.401045  3.826802  1.136638\n",
       "moderate        50     0.551284  3.832834  0.988477\n",
       "average         50     0.648225  3.833874  0.914957\n",
       "high            50     0.801706  3.833890  0.828453"
      ]
     },
     "execution_count": 19,
     "metadata": {},
     "output_type": "execute_result"
    }
   ],
   "source": [
    "# Finally, let's create a table summarizing various information about rater categories.\n",
    "\n",
    "df_human_long = df_scores[rater_columns].melt(var_name='rater_id', value_name='score')\n",
    "df_human_with_metadata = pd.merge(df_human_long, df_rater_metadata)\n",
    "\n",
    "df_descriptives = df_human_with_metadata.groupby('rater_category')['score'].describe()[['mean', 'std']]\n",
    "df_descriptives_with_corr = pd.concat([df_descriptives, simulated_mean_correlations], axis=1)\n",
    "\n",
    "df_descriptives_with_corr['N raters'] = dataset.num_raters_per_category\n",
    "column_order = ['N raters', 'correlation', 'mean', 'std']\n",
    "human_rater_description = df_descriptives_with_corr.loc[dataset.rater_categories, column_order]\n",
    "human_rater_description"
   ]
  },
  {
   "cell_type": "code",
   "execution_count": null,
   "metadata": {},
   "outputs": [],
   "source": []
  },
  {
   "cell_type": "code",
   "execution_count": 20,
   "metadata": {},
   "outputs": [
    {
     "name": "stdout",
     "output_type": "stream",
     "text": [
      "\\begin{tabular}{lrrrr}\n",
      "\\toprule\n",
      "{} &  N raters &  correlation &  mean &  std \\\\\n",
      "\\midrule\n",
      "low      &        50 &         0.40 &  3.83 & 1.14 \\\\\n",
      "moderate &        50 &         0.55 &  3.83 & 0.99 \\\\\n",
      "average  &        50 &         0.65 &  3.83 & 0.91 \\\\\n",
      "high     &        50 &         0.80 &  3.83 & 0.83 \\\\\n",
      "\\bottomrule\n",
      "\\end{tabular}\n",
      "\n"
     ]
    }
   ],
   "source": [
    "print(human_rater_description.to_latex(float_format='%.2f'))"
   ]
  },
  {
   "cell_type": "markdown",
   "metadata": {},
   "source": [
    "### Correlation between simulated system performance and true scores\n",
    "\n",
    "The next thing we want to look at is the correlation between the various automated systems we have simulated in each category and the correlation of these systems' scores with the true scores."
   ]
  },
  {
   "cell_type": "code",
   "execution_count": 21,
   "metadata": {},
   "outputs": [
    {
     "data": {
      "image/png": "[encoded data removed]",
      "text/plain": [
       "<Figure size 432x288 with 1 Axes>"
      ]
     },
     "metadata": {
      "needs_background": "light"
     },
     "output_type": "display_data"
    }
   ],
   "source": [
    "# first we extract all of the columns containing scores from human raters\n",
    "# these columns all have names of the form `sys_X`; note that we also need\n",
    "# the true score column\n",
    "system_columns = [column for column in df_scores.columns if column.startswith('sys_')]\n",
    "\n",
    "# get the correlations we are interested in\n",
    "df_system_true_score_correlations = df_all_correlations[system_columns + ['true']]\n",
    "\n",
    "# extract only the correlations with the true score\n",
    "df_true_score_correlations = df_system_true_score_correlations['true'].reset_index(name='true_score_correlation')\n",
    "\n",
    "# now merge these with the system metadata so we can easily make the boxplot we need\n",
    "df_system_metadata_with_true_score_correlations = pd.merge(df_system_metadata,\n",
    "                                                           df_true_score_correlations,\n",
    "                                                           left_on='system_id',\n",
    "                                                           right_on='index')\n",
    "# len(df_system_metadata_with_true_score_correlations)\n",
    "p = sns.boxplot(x='expected_r2_true', y='true_score_correlation', data=df_system_metadata_with_true_score_correlations)\n",
    "p.set_xlabel('Expected R^2')\n",
    "p.set_ylabel('Correlation with true score')\n",
    "plt.show()"
   ]
  },
  {
   "cell_type": "markdown",
   "metadata": {},
   "source": [
    "As expected, the systems with higher performance are more correlated with the underlying true score."
   ]
  },
  {
   "cell_type": "markdown",
   "metadata": {},
   "source": [
    "### RMSE and $R^2$ between system scores and true scores\n",
    "\n",
    "In a similar vein to the previous analysis, we can also compute the averege $R^2$ and RMSE values between the simulated system scores in each system category and the true scores."
   ]
  },
  {
   "cell_type": "code",
   "execution_count": 22,
   "metadata": {},
   "outputs": [
    {
     "data": {
      "image/png": "[encoded data removed]",
      "text/plain": [
       "<Figure size 421.125x360 with 1 Axes>"
      ]
     },
     "metadata": {
      "needs_background": "light"
     },
     "output_type": "display_data"
    }
   ],
   "source": [
    "# first let's compute the RMSE between the system scores and the true scores, per system category\n",
    "\n",
    "# first we extract the scores for each simulated system and the true scores\n",
    "df_system_and_true_scores = df_scores[system_columns + ['true']]\n",
    "\n",
    "# next we merge in the system categories \n",
    "df_system_and_true_scores = df_system_and_true_scores.melt(id_vars=['true'],\n",
    "                                                           var_name='system_id',\n",
    "                                                           value_name='score')\n",
    "\n",
    "# next we compute the squared error between each simulated system's score for each response and the corresponding true score\n",
    "df_system_and_true_scores['se'] = (df_system_and_true_scores['true'] - df_system_and_true_scores['score']) ** 2\n",
    "\n",
    "# finally we compute the RMSE for each system\n",
    "df_rmse_by_system = df_system_and_true_scores.groupby('system_id')['se'].apply(lambda se: np.sqrt(np.mean(se))).reset_index(name='rmse')\n",
    "\n",
    "# now let's merge in the categories and plot the RMSE value\n",
    "df_rmse_by_system_with_categories = df_rmse_by_system.merge(df_system_metadata, left_on='system_id', right_on='system_id')\n",
    "\n",
    "# next let's compute the R^2 values for each system\n",
    "df_r2_by_system = df_system_and_true_scores.groupby('system_id').apply(lambda row: r2_score(row['true'], row['score'])).reset_index(name='r2')\n",
    "\n",
    "# now merge in the r2 and rmse data frames and re-orient it so that we can do a single plot with two metrics\n",
    "df_rmse_r2_with_categories = df_rmse_by_system_with_categories.merge(df_r2_by_system)\n",
    "df_rmse_r2_with_categories = df_rmse_r2_with_categories[['system_id', 'r2', 'rmse', 'system_category']].melt(id_vars=['system_id', 'system_category'],\n",
    "                                                                                                             var_name='metric')\n",
    "\n",
    "# now plot both the metric values in a single plot\n",
    "sns.lmplot(x='system_category', y='value', hue='metric', data=df_rmse_r2_with_categories, fit_reg=False)\n",
    "plt.show()"
   ]
  },
  {
   "cell_type": "markdown",
   "metadata": {},
   "source": [
    "### Correlations between system scores and rater scores\n",
    "\n",
    "Next, we want to examine the average correlations between the simulated scores for the systems in each system category and the simulated scores for the raters in each rater category."
   ]
  },
  {
   "cell_type": "code",
   "execution_count": 23,
   "metadata": {},
   "outputs": [
    {
     "data": {
      "text/html": [
       "<div>\n",
       "<style scoped>\n",
       "    .dataframe tbody tr th:only-of-type {\n",
       "        vertical-align: middle;\n",
       "    }\n",
       "\n",
       "    .dataframe tbody tr th {\n",
       "        vertical-align: top;\n",
       "    }\n",
       "\n",
       "    .dataframe thead th {\n",
       "        text-align: right;\n",
       "    }\n",
       "</style>\n",
       "<table border=\"1\" class=\"dataframe\">\n",
       "  <thead>\n",
       "    <tr style=\"text-align: right;\">\n",
       "      <th>system_category</th>\n",
       "      <th>poor</th>\n",
       "      <th>low</th>\n",
       "      <th>medium</th>\n",
       "      <th>high</th>\n",
       "      <th>perfect</th>\n",
       "    </tr>\n",
       "    <tr>\n",
       "      <th>rater_category</th>\n",
       "      <th></th>\n",
       "      <th></th>\n",
       "      <th></th>\n",
       "      <th></th>\n",
       "      <th></th>\n",
       "    </tr>\n",
       "  </thead>\n",
       "  <tbody>\n",
       "    <tr>\n",
       "      <th>low</th>\n",
       "      <td>0.448462</td>\n",
       "      <td>0.501075</td>\n",
       "      <td>0.545229</td>\n",
       "      <td>0.578107</td>\n",
       "      <td>0.629919</td>\n",
       "    </tr>\n",
       "    <tr>\n",
       "      <th>moderate</th>\n",
       "      <td>0.526030</td>\n",
       "      <td>0.587710</td>\n",
       "      <td>0.639470</td>\n",
       "      <td>0.678007</td>\n",
       "      <td>0.738710</td>\n",
       "    </tr>\n",
       "    <tr>\n",
       "      <th>average</th>\n",
       "      <td>0.570367</td>\n",
       "      <td>0.637270</td>\n",
       "      <td>0.693415</td>\n",
       "      <td>0.735222</td>\n",
       "      <td>0.801093</td>\n",
       "    </tr>\n",
       "    <tr>\n",
       "      <th>high</th>\n",
       "      <td>0.631518</td>\n",
       "      <td>0.705556</td>\n",
       "      <td>0.767683</td>\n",
       "      <td>0.813938</td>\n",
       "      <td>0.886787</td>\n",
       "    </tr>\n",
       "  </tbody>\n",
       "</table>\n",
       "</div>"
      ],
      "text/plain": [
       "system_category      poor       low    medium      high   perfect\n",
       "rater_category                                                   \n",
       "low              0.448462  0.501075  0.545229  0.578107  0.629919\n",
       "moderate         0.526030  0.587710  0.639470  0.678007  0.738710\n",
       "average          0.570367  0.637270  0.693415  0.735222  0.801093\n",
       "high             0.631518  0.705556  0.767683  0.813938  0.886787"
      ]
     },
     "execution_count": 23,
     "metadata": {},
     "output_type": "execute_result"
    }
   ],
   "source": [
    "# get the correlations between the simulated human rater scores and the simualted system scores\n",
    "df_system_rater_correlations = df_all_correlations.loc[rater_columns, system_columns]\n",
    "\n",
    "# now re-orient the data frame so we have pairwise correlations on each row\n",
    "df_pairwise_system_rater_correlations = df_system_rater_correlations.unstack().reset_index()\n",
    "df_pairwise_system_rater_correlations.columns = ['system_id', 'rater_id', 'correlation']\n",
    "\n",
    "# now merge in the rater category and system category labels from the two metadata frames\n",
    "df_pairwise_system_rater_correlations_with_categories = pd.merge(df_pairwise_system_rater_correlations,\n",
    "                                                                 df_rater_metadata,\n",
    "                                                                 left_on='rater_id',\n",
    "                                                                 right_on='rater_id').merge(df_system_metadata,\n",
    "                                                                                            right_on='system_id',\n",
    "                                                                                            left_on='system_id')\n",
    "\n",
    "\n",
    "# now group the raters and systems by categories and compute \n",
    "# the mean correlations for each rater category x each system cateogry\n",
    "grouper = df_pairwise_system_rater_correlations_with_categories.groupby(['rater_category', 'system_category'])['correlation']\n",
    "df_mean_system_rater_correlations = grouper.mean().unstack()\n",
    "\n",
    "# reorder the columns in order of agreement/performance instead of alphabetical\n",
    "df_mean_system_rater_correlations.loc[dataset.rater_categories, dataset.system_categories]"
   ]
  },
  {
   "cell_type": "markdown",
   "metadata": {},
   "source": [
    "As we can see, systems that have been simulated to have poor performance actually vary quite a lot in performance depending on the inter-rater correlations of the human raters against which they are being evaluated. This means that correlation is not a very stable metric. We can also see this visually via a boxplot."
   ]
  },
  {
   "cell_type": "code",
   "execution_count": 24,
   "metadata": {
    "scrolled": true
   },
   "outputs": [
    {
     "data": {
      "image/png": "[encoded data removed]",
      "text/plain": [
       "<Figure size 432x288 with 1 Axes>"
      ]
     },
     "metadata": {
      "needs_background": "light"
     },
     "output_type": "display_data"
    }
   ],
   "source": [
    "sns.boxplot(x='rater_category', y='correlation', hue='system_category', data=df_pairwise_system_rater_correlations_with_categories)\n",
    "plt.show()"
   ]
  },
  {
   "cell_type": "code",
   "execution_count": 25,
   "metadata": {},
   "outputs": [
    {
     "ename": "NameError",
     "evalue": "name 'tab_res' is not defined",
     "output_type": "error",
     "traceback": [
      "\u001b[0;31m---------------------------------------------------------------------------\u001b[0m",
      "\u001b[0;31mNameError\u001b[0m                                 Traceback (most recent call last)",
      "\u001b[0;32m<ipython-input-25-11d27ba7a6a4>\u001b[0m in \u001b[0;36m<module>\u001b[0;34m\u001b[0m\n\u001b[1;32m     11\u001b[0m \u001b[0mdf_all_systems_mean\u001b[0m\u001b[0;34m.\u001b[0m\u001b[0mcolumns\u001b[0m \u001b[0;34m=\u001b[0m \u001b[0;34m[\u001b[0m\u001b[0;34m'R2 (GS)'\u001b[0m\u001b[0;34m,\u001b[0m \u001b[0;34m'RMSE (GS)'\u001b[0m\u001b[0;34m,\u001b[0m \u001b[0;34m\"r (`average`)\"\u001b[0m\u001b[0;34m,\u001b[0m \u001b[0;34m'r (GS)'\u001b[0m\u001b[0;34m]\u001b[0m\u001b[0;34m\u001b[0m\u001b[0;34m\u001b[0m\u001b[0m\n\u001b[1;32m     12\u001b[0m \u001b[0mdf_all_systems_mean\u001b[0m\u001b[0;34m[\u001b[0m\u001b[0;34m'N systems'\u001b[0m\u001b[0;34m]\u001b[0m \u001b[0;34m=\u001b[0m \u001b[0mdataset\u001b[0m\u001b[0;34m.\u001b[0m\u001b[0mnum_systems_per_category\u001b[0m\u001b[0;34m\u001b[0m\u001b[0;34m\u001b[0m\u001b[0m\n\u001b[0;32m---> 13\u001b[0;31m system_description = tab_res[['N systems',\n\u001b[0m\u001b[1;32m     14\u001b[0m                \u001b[0;34m'R2 (GS)'\u001b[0m\u001b[0;34m,\u001b[0m\u001b[0;34m\u001b[0m\u001b[0;34m\u001b[0m\u001b[0m\n\u001b[1;32m     15\u001b[0m                \u001b[0;34m'r (GS)'\u001b[0m\u001b[0;34m,\u001b[0m\u001b[0;34m\u001b[0m\u001b[0;34m\u001b[0m\u001b[0m\n",
      "\u001b[0;31mNameError\u001b[0m: name 'tab_res' is not defined"
     ]
    }
   ],
   "source": [
    "# Finally, let's make a table that summarizes everything about the systems.\n",
    "\n",
    "# we first compute average by category for all metrics\n",
    "df_r2_mean = df_rmse_r2_with_categories.groupby(['system_category', 'metric'])['value'].mean().unstack()\n",
    "df_corr_average_mean = df_pairwise_system_rater_correlations_with_categories.groupby(['rater_category',\n",
    "                                                                                  'system_category'])['correlation'].mean().unstack().loc['average'].transpose()\n",
    "df_corr_true_mean = df_system_metadata_with_true_score_correlations.groupby('system_category')['true_score_correlation'].mean()\n",
    "\n",
    "# We then combine them together and rename the columns\n",
    "df_all_systems_mean = pd.concat([df_r2_mean, df_corr_average_mean, df_corr_true_mean], axis=1)\n",
    "df_all_systems_mean.columns = ['R2 (GS)', 'RMSE (GS)', \"r (`average`)\", 'r (GS)']\n",
    "df_all_systems_mean['N systems'] = dataset.num_systems_per_category\n",
    "system_description = tab_res[['N systems',\n",
    "               'R2 (GS)',\n",
    "               'r (GS)', \n",
    "               \"r (`average`)\"]].loc[dataset.system_categories]\n",
    "system_description"
   ]
  },
  {
   "cell_type": "code",
   "execution_count": null,
   "metadata": {},
   "outputs": [],
   "source": [
    "# remove before release\n",
    "print(system_description.to_latex(float_format='%.2f'))"
   ]
  },
  {
   "cell_type": "markdown",
   "metadata": {},
   "source": [
    "### Save dataset and frames to disk\n",
    "\n",
    "Now let's save this dataset instance to disk so that we can reuse it for additional analyses in other notebooks. \n",
    "If you want to save your dataset in a standard tabular format, you can use `dataset.save_frames(output_dir)`.\n",
    "\n",
    "**Note**: The dataset frames are only saved for convenience. Any changes made to these CSV files will _not_ affect any of the analyses in the other notebook since they only use the `.dataset` file."
   ]
  },
  {
   "cell_type": "code",
   "execution_count": null,
   "metadata": {},
   "outputs": [],
   "source": [
    "# first save the full dataset instance\n",
    "dataset.save('../data/default.dataset')\n",
    "\n",
    "# remove before release. We only keep our data in .csv so that the user always has it for reference\n",
    "# even if they play with the settings\n",
    "dataset.save_frames('../data')"
   ]
  }
 ],
 "metadata": {
  "kernelspec": {
   "display_name": "Python 3",
   "language": "python",
   "name": "python3"
  },
  "language_info": {
   "codemirror_mode": {
    "name": "ipython",
    "version": 3
   },
   "file_extension": ".py",
   "mimetype": "text/x-python",
   "name": "python",
   "nbconvert_exporter": "python",
   "pygments_lexer": "ipython3",
   "version": "3.7.6"
  }
 },
 "nbformat": 4,
 "nbformat_minor": 4
}
