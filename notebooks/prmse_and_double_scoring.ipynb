{
 "cells": [
  {
   "cell_type": "markdown",
   "metadata": {},
   "source": [
    "## Exploring the impact of double-scoring on PRMSE\n",
    "\n",
    "In previous notebooks, we have seen that in order to compute PRMSE, we need the responses to have scores from two human raters. However, it may not be practical to have every single repsonses double-scored. In this notebook, we examine how PRMSE depends on the percentage/number of double-scored responses that may be available in the dataset.\n",
    "\n",
    "To do this, we randomly choose a fixed number of rater pairs in each rater category, then simulate scenarios with a different percentage of double-scored responses for each of those rater pairs, and compute PRMSE for a pre-determined in each scenario."
   ]
  },
  {
   "cell_type": "code",
   "execution_count": 1,
   "metadata": {},
   "outputs": [],
   "source": [
    "import itertools\n",
    "import json\n",
    "import pandas as pd\n",
    "import numpy as np\n",
    "import seaborn as sns\n",
    "\n",
    "from matplotlib import pyplot as plt\n",
    "from pathlib import Path\n",
    "from rsmtool.utils.prmse import prmse_true\n",
    "from simulation.dataset import Dataset\n",
    "from simulation.utils import (compute_agreement_one_system_one_rater_pair,\n",
    "                               get_rater_pairs,\n",
    "                               simulate_percent_double_scored)\n",
    "from sklearn.metrics import r2_score"
   ]
  },
  {
   "cell_type": "markdown",
   "metadata": {},
   "source": [
    "### Step 1: Setup\n",
    "\n",
    "To set up the experiment, we first load the dataset we have already created and saved in the `making_a_dataset.ipynb` notebook and use that for this experiment.\n",
    "\n",
    "For convenience and replicability, we have pre-computed many of the parameters that are used in our notebooks and saved them in the file `settings.json`. We load this file below."
   ]
  },
  {
   "cell_type": "code",
   "execution_count": 2,
   "metadata": {},
   "outputs": [
    {
     "name": "stdout",
     "output_type": "stream",
     "text": [
      "Dataset (10000 responses, scores in [1, 6], 4 rater categories, 50 raters/category, 5 system categories, 5 systems/category)\n"
     ]
    }
   ],
   "source": [
    "# load the dataset file\n",
    "dataset = Dataset.from_file('../data/default.dataset')\n",
    "\n",
    "# let's remind ourselves what the dataset looks like\n",
    "print(dataset)"
   ]
  },
  {
   "cell_type": "code",
   "execution_count": 3,
   "metadata": {},
   "outputs": [],
   "source": [
    "# load the experimental settings file\n",
    "experiment_settings = json.load(open('settings.json', 'r'))"
   ]
  },
  {
   "cell_type": "code",
   "execution_count": 4,
   "metadata": {},
   "outputs": [],
   "source": [
    "# now get the data frames for our loaded dataset\n",
    "df_scores, df_rater_metadata, df_system_metadata = dataset.to_frames()"
   ]
  },
  {
   "cell_type": "code",
   "execution_count": 5,
   "metadata": {},
   "outputs": [],
   "source": [
    "# get the ID of the simulated system that we have chosen\n",
    "# as the source of our single automated score\n",
    "chosen_system = experiment_settings['sample_system']\n",
    "\n",
    "# get the number of fixed human-rater pairs per category that we want to use\n",
    "rater_pairs_per_category = experiment_settings['rater_pairs_per_category']\n",
    "\n",
    "# get the various percentages of double-scored responses we want to simulate\n",
    "double_scored_percentages = experiment_settings['double_scored_percentages']\n",
    "\n",
    "# now let's get the pre-determined number of randomly-sampled pairs of raters in each rater category\n",
    "rater_category_pairs = df_rater_metadata.groupby('rater_category').apply(lambda row: get_rater_pairs(row['rater_id'], rater_pairs_per_category))"
   ]
  },
  {
   "cell_type": "markdown",
   "metadata": {},
   "source": [
    "### Step 2: Simulate various percentages of double-scored responses\n",
    "Now, for each chosen pair of simulated raters, we randomly mask out a fixed percentage of the second rater's scores, and then compute the PRMSE (and other conventional agreement metrics) for the chosen system against this modified set of rater scores. Another thing worth checking is whether it's the _percentage_ of double-scored responses that matters or simply the _number_ of double-scored responses in the dataset. To do this, we also compute a second PRMSE value over only the double-scored repsonses available in each case. For example, if we are simulating the scenario where we only have 10% of the responses double-scored, then we compute two PRMSE values: (a) over the full dataset with 10% double-scores and 90% single-scored responses and (b) over a smaller dataset that has only the 10% double-scored responses.\n",
    "\n",
    "Note that since we are computing a number of metrics for a dataset of 10,000 responses multiple times in the cell below, it will take a while."
   ]
  },
  {
   "cell_type": "code",
   "execution_count": 6,
   "metadata": {},
   "outputs": [],
   "source": [
    "# create a chained iterator over all of the chosen pairs\n",
    "# so that we can iterate over all 200 of them at once\n",
    "rater_pairs = list(itertools.chain.from_iterable(rater_category_pairs.values))"
   ]
  },
  {
   "cell_type": "code",
   "execution_count": 7,
   "metadata": {},
   "outputs": [],
   "source": [
    "# initialize a list that will hold the information for each rater pair x percentavge\n",
    "metric_values = []\n",
    "\n",
    "# iterate over the cross-product of the 200 rater pairs and the percentages\n",
    "for (rater_id1, rater_id2), percent_double_scored in itertools.product(rater_pairs, double_scored_percentages):\n",
    "    \n",
    "    # get a data frame that only has the scores from the two given raters\n",
    "    # with a given percentage of the second rater's scores masked out; \n",
    "    # this function also returns the actual number of double scored\n",
    "    # responses in the returned data frame\n",
    "    (df_percent_double_scored,\n",
    "     num_double_scored) = simulate_percent_double_scored(df_scores,\n",
    "                                                         rater_id1,\n",
    "                                                         rater_id2,\n",
    "                                                         percent_double_scored)\n",
    "    \n",
    "    # add the system scores into the same data frame for convenience\n",
    "    df_percent_double_scored[chosen_system] = df_scores[chosen_system]\n",
    "\n",
    "    # also compute another version of this data frame where the double-scored responses#\n",
    "    # are the only responses; we need this to check whether what matters is the % of\n",
    "    # double-scored responses or just the sheer *number* of double-scored responses\n",
    "    df_only_double_scores = df_percent_double_scored.dropna()\n",
    "    \n",
    "    # compute the PRMSE using this dataset with only ``percentage``-percent double scored responses\n",
    "    prmse_percent = prmse_true(df_percent_double_scored[chosen_system],\n",
    "                               df_percent_double_scored[[rater_id1, rater_id2]])\n",
    "    \n",
    "    # also compute the PRMSE using the double-scores only dataset\n",
    "    prmse_number = prmse_true(df_only_double_scores[chosen_system],\n",
    "                              df_only_double_scores[[rater_id1, rater_id2]])\n",
    "    \n",
    "    # compute the other conventional agreement metrics for the same dataset\n",
    "    agreement_metrics = compute_agreement_one_system_one_rater_pair(df_percent_double_scored,\n",
    "                                                                    chosen_system,\n",
    "                                                                    rater_id1,\n",
    "                                                                    rater_id2,\n",
    "                                                                    include_mean=True)[0]\n",
    "    \n",
    "    # save the PRMSE value along with other metadata\n",
    "    metric_values.append({'rater_id1': rater_id1,\n",
    "                          'rater_id2': rater_id2, \n",
    "                          'percent_double_scored': percent_double_scored, \n",
    "                          'num_double_scored': num_double_scored,\n",
    "                          'r': agreement_metrics['r'],\n",
    "                          'QWK': agreement_metrics['QWK'],\n",
    "                          'R2': agreement_metrics['R2'],\n",
    "                          'prmse_percent': prmse_percent,\n",
    "                          'prmse_number': prmse_number})"
   ]
  },
  {
   "cell_type": "markdown",
   "metadata": {},
   "source": [
    "### Step 3: Examine impact of double-scoring\n",
    "\n",
    "Now we use some plots to examine the actual impact of double-scoring on the PRMSE metric. "
   ]
  },
  {
   "cell_type": "code",
   "execution_count": 8,
   "metadata": {},
   "outputs": [],
   "source": [
    "# now create a data frame from the PRMSE list\n",
    "df_metrics_double_scored = pd.DataFrame(metric_values)\n",
    "\n",
    "# also add in the rater category from the rater metadata since we need that for our plots\n",
    "# note that since both the raters in any pair are from the same category, we can just \n",
    "# merge on the first rater ID\n",
    "df_metrics_double_scored_with_categories = df_metrics_double_scored.merge(df_rater_metadata,\n",
    "                                                                          left_on=['rater_id1'],\n",
    "                                                                          right_on=['rater_id'])"
   ]
  },
  {
   "cell_type": "markdown",
   "metadata": {},
   "source": [
    "So, the first plot we look at is that of the two PRMSE values: (a) one computed over datasets with varying percentage of double-scored responses and (b) the other computed over datasets of varying sizes that only-contain double-scored responses. We also facet both plots by the rater category -- i.e., the average inter-rater agreement between the two simulated raters."
   ]
  },
  {
   "cell_type": "code",
   "execution_count": 9,
   "metadata": {},
   "outputs": [
    {
     "data": {
      "image/png": "[encoded data removed]",
      "text/plain": [
       "<Figure size 1440x360 with 2 Axes>"
      ]
     },
     "metadata": {
      "needs_background": "light"
     },
     "output_type": "display_data"
    }
   ],
   "source": [
    "# create a figure with 2 subplots\n",
    "fig, axes = plt.subplots(1, 2);\n",
    "fig.set_size_inches(20, 5)\n",
    "\n",
    "with sns.plotting_context('notebook', font_scale=1.3):\n",
    "\n",
    "    for prmse_type, ax in zip(['percent', 'number'], axes):\n",
    "\n",
    "\n",
    "        # choose what goes on the x and y axes\n",
    "        x_column = 'percent_double_scored' if prmse_type == 'percent' else 'num_double_scored'\n",
    "        y_column = 'prmse_percent' if prmse_type == 'percent' else 'prmse_number'\n",
    "\n",
    "        # set the x-axis labels and tick labels appropriately\n",
    "        x_label = \"% (n) double-scored responses\" if prmse_type == 'percent' else 'Number of responses (all double-scored)'\n",
    "\n",
    "        percent_ticklabels = [f\"{pct}%\\n({num})\" for pct, num in zip(double_scored_percentages,\n",
    "                                                                      df_metrics_double_scored_with_categories['num_double_scored'])]\n",
    "        number_ticklabels = df_metrics_double_scored_with_categories['num_double_scored'].tolist()\n",
    "        x_ticklabels = percent_ticklabels if prmse_type == 'percent' else number_ticklabels\n",
    "\n",
    "        # now add the the boxplot of the PRMSE values\n",
    "        sns.boxplot(x=x_column,\n",
    "                    y=y_column,\n",
    "                    hue='rater_category',\n",
    "                    hue_order=dataset.rater_categories,\n",
    "                    data=df_metrics_double_scored_with_categories,\n",
    "                    ax=ax)\n",
    "\n",
    "        # and set the axis labels\n",
    "        ax.set_xlabel(x_label, fontsize=14)\n",
    "        ax.set_ylabel(\"PRMSE\", fontsize=14)\n",
    "        ax.set_xticklabels(x_ticklabels)\n",
    "        ax.tick_params('x', labelsize=14)\n",
    "\n",
    "        # There are several outlier values of PRMSE at 1.6. We remove them to reduce the white space on the plots\n",
    "        # and make a note in the caption.\n",
    "        # We'll add them back before release. \n",
    "        ax.set_ylim(0.4, 1.2)\n",
    "\n",
    "        # we also want to add in a line showing the R2 score between the simulated true scores\n",
    "        # and the scores from our chosen simulated system\n",
    "        r2_true_system_score = r2_score(df_scores['true'], df_scores[chosen_system])\n",
    "        ax.axhline(r2_true_system_score, color='black', ls=':')\n",
    "   \n",
    "    plt.show()"
   ]
  },
  {
   "cell_type": "markdown",
   "metadata": {},
   "source": [
    "These plots shows that PRMSE scores are much more stable with a larger percentage of double-scored responses and what matters is the number of double scored responses, not the percentage. A good rule of thumb is to have at least 1000 double-scored responses. \n",
    "\n",
    "We can also look at the same data in tabular format. For simplicity, we will use the range of values as the measure of spread."
   ]
  },
  {
   "cell_type": "code",
   "execution_count": 10,
   "metadata": {},
   "outputs": [
    {
     "data": {
      "text/html": [
       "<div>\n",
       "<style scoped>\n",
       "    .dataframe tbody tr th:only-of-type {\n",
       "        vertical-align: middle;\n",
       "    }\n",
       "\n",
       "    .dataframe tbody tr th {\n",
       "        vertical-align: top;\n",
       "    }\n",
       "\n",
       "    .dataframe thead th {\n",
       "        text-align: right;\n",
       "    }\n",
       "</style>\n",
       "<table border=\"1\" class=\"dataframe\">\n",
       "  <thead>\n",
       "    <tr style=\"text-align: right;\">\n",
       "      <th>rater_category</th>\n",
       "      <th>low</th>\n",
       "      <th>moderate</th>\n",
       "      <th>average</th>\n",
       "      <th>high</th>\n",
       "    </tr>\n",
       "    <tr>\n",
       "      <th>percent_double_scored</th>\n",
       "      <th></th>\n",
       "      <th></th>\n",
       "      <th></th>\n",
       "      <th></th>\n",
       "    </tr>\n",
       "  </thead>\n",
       "  <tbody>\n",
       "    <tr>\n",
       "      <th>1.0</th>\n",
       "      <td>1.010176</td>\n",
       "      <td>0.405627</td>\n",
       "      <td>0.260800</td>\n",
       "      <td>0.122973</td>\n",
       "    </tr>\n",
       "    <tr>\n",
       "      <th>2.5</th>\n",
       "      <td>0.455254</td>\n",
       "      <td>0.302736</td>\n",
       "      <td>0.150803</td>\n",
       "      <td>0.088995</td>\n",
       "    </tr>\n",
       "    <tr>\n",
       "      <th>5.0</th>\n",
       "      <td>0.326148</td>\n",
       "      <td>0.170422</td>\n",
       "      <td>0.122148</td>\n",
       "      <td>0.069175</td>\n",
       "    </tr>\n",
       "    <tr>\n",
       "      <th>10.0</th>\n",
       "      <td>0.240592</td>\n",
       "      <td>0.127596</td>\n",
       "      <td>0.084640</td>\n",
       "      <td>0.055022</td>\n",
       "    </tr>\n",
       "    <tr>\n",
       "      <th>25.0</th>\n",
       "      <td>0.180157</td>\n",
       "      <td>0.092271</td>\n",
       "      <td>0.067730</td>\n",
       "      <td>0.030554</td>\n",
       "    </tr>\n",
       "    <tr>\n",
       "      <th>50.0</th>\n",
       "      <td>0.083217</td>\n",
       "      <td>0.066545</td>\n",
       "      <td>0.037641</td>\n",
       "      <td>0.024934</td>\n",
       "    </tr>\n",
       "    <tr>\n",
       "      <th>100.0</th>\n",
       "      <td>0.059957</td>\n",
       "      <td>0.034016</td>\n",
       "      <td>0.022005</td>\n",
       "      <td>0.020628</td>\n",
       "    </tr>\n",
       "  </tbody>\n",
       "</table>\n",
       "</div>"
      ],
      "text/plain": [
       "rater_category              low  moderate   average      high\n",
       "percent_double_scored                                        \n",
       "1.0                    1.010176  0.405627  0.260800  0.122973\n",
       "2.5                    0.455254  0.302736  0.150803  0.088995\n",
       "5.0                    0.326148  0.170422  0.122148  0.069175\n",
       "10.0                   0.240592  0.127596  0.084640  0.055022\n",
       "25.0                   0.180157  0.092271  0.067730  0.030554\n",
       "50.0                   0.083217  0.066545  0.037641  0.024934\n",
       "100.0                  0.059957  0.034016  0.022005  0.020628"
      ]
     },
     "execution_count": 10,
     "metadata": {},
     "output_type": "execute_result"
    }
   ],
   "source": [
    "# group the metrics by the double-scoring percentage and then by rater category\n",
    "grouper = df_metrics_double_scored_with_categories.groupby(['percent_double_scored', \n",
    "                                                            'rater_category'])\n",
    "# compute the descriptives over the groups, for the PRMSE metric\n",
    "df_prmse_descriptives = grouper['prmse_percent'].describe()\n",
    "\n",
    "# compute the range as the difference between the maximum PRMSE value and the minimum\n",
    "df_prmse_descriptives['range'] = df_prmse_descriptives['max'] - df_prmse_descriptives['min']\n",
    "\n",
    "# get the range as a separate dataframe and print out in rater category order\n",
    "df_prmse_range = df_prmse_descriptives['range'].unstack()[dataset.rater_categories]\n",
    "df_prmse_range"
   ]
  },
  {
   "cell_type": "markdown",
   "metadata": {},
   "source": [
    "Next, we look at the other conventional agrement metrics to see how they vary with the number of double-scored responses available."
   ]
  },
  {
   "cell_type": "code",
   "execution_count": 11,
   "metadata": {},
   "outputs": [
    {
     "data": {
      "image/png": "[encoded data removed]",
      "text/plain": [
       "<Figure size 1164.38x360 with 3 Axes>"
      ]
     },
     "metadata": {
      "needs_background": "light"
     },
     "output_type": "display_data"
    }
   ],
   "source": [
    "# extract out only the agreement metrics columns along with the percentage and the rater category\n",
    "df_agreement_double_scored = df_metrics_double_scored_with_categories[['rater_category', 'r', 'QWK', 'R2', 'percent_double_scored']]\n",
    "\n",
    "# now create a longer version of this data frame that's more amenable to plotting\n",
    "df_agreement_double_scored_long = df_agreement_double_scored.melt(id_vars=['percent_double_scored', 'rater_category'],\n",
    "                                                                  var_name='metric')\n",
    "# make the plot\n",
    "g = sns.catplot(x='percent_double_scored',\n",
    "                y='value',\n",
    "                col='metric',\n",
    "                hue='rater_category',\n",
    "                hue_order=dataset.rater_categories,\n",
    "                kind='box',\n",
    "                sharey=False,\n",
    "                data=df_agreement_double_scored_long)\n",
    "g.set_axis_labels(\"% double-scored responses\", \"value\")\n",
    "g._legend.set_title('rater category')\n",
    "plt.show()"
   ]
  },
  {
   "cell_type": "markdown",
   "metadata": {},
   "source": [
    "These plots show that the agreement metrics are not as stable as PRMSE even with more double-scored responses and still depend significantly on how well the two raters agreed with each other."
   ]
  }
 ],
 "metadata": {
  "kernelspec": {
   "display_name": "prmse",
   "language": "python",
   "name": "prmse"
  },
  "language_info": {
   "codemirror_mode": {
    "name": "ipython",
    "version": 3
   },
   "file_extension": ".py",
   "mimetype": "text/x-python",
   "name": "python",
   "nbconvert_exporter": "python",
   "pygments_lexer": "ipython3",
   "version": "3.7.6"
  }
 },
 "nbformat": 4,
 "nbformat_minor": 4
}
