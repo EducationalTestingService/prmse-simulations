{
 "cells": [
  {
   "cell_type": "markdown",
   "metadata": {},
   "source": [
    "# 1. Simulate the data\n",
    "\n",
    "This notebook contains the code to simulate the data for the experiments. "
   ]
  },
  {
   "cell_type": "code",
   "execution_count": 34,
   "metadata": {},
   "outputs": [],
   "source": [
    "import pandas as pd\n",
    "import numpy as np"
   ]
  },
  {
   "cell_type": "code",
   "execution_count": 43,
   "metadata": {},
   "outputs": [],
   "source": [
    "### This is a placeholder code till we have code from Matt/Dan\n",
    "\n",
    "np.random.seed(100)\n",
    "true_scores = np.random.normal(2.692, 0.691, 10000)\n",
    "df = pd.DataFrame({'id': ['id_{}'.format(i) for i in range(10000)],\n",
    "                  'true': true_scores})\n",
    "raters = []\n",
    "\n",
    "for i in range(0, 1000):\n",
    "    error = np.random.choice([0.1, 0.5, 1])\n",
    "    rater_error = np.random.normal(0,error,10000)\n",
    "    df['h_{}'.format(i)] = np.round(true_scores+rater_error)\n",
    "    df_rater = pd.DataFrame({'rater_id': ['h_{}'.format(i)],\n",
    "                            'error': error})\n",
    "    raters.append(df_rater)\n",
    "\n",
    "df_raters = pd.concat(raters)\n",
    "\n",
    "systems = []\n",
    "\n",
    "for j in range(0, 10):\n",
    "    error = np.random.choice([0.1, 0.5, 1])\n",
    "    system_error = np.random.normal(0,error,10000)\n",
    "    df['sys_{}'.format(j)] = true_scores+system_error\n",
    "    df_rater = pd.DataFrame({'system_id': ['sys_{}'.format(j)],\n",
    "                            'error': error})\n",
    "    systems.append(df_rater)\n",
    "\n",
    "df_systems = pd.concat(systems)"
   ]
  },
  {
   "cell_type": "code",
   "execution_count": 45,
   "metadata": {},
   "outputs": [],
   "source": [
    "df.to_csv('../data/data.csv', index=False)\n",
    "df_raters.to_csv('../data/raters.csv', index=False)\n",
    "df_systems.to_csv('../data/systems.csv', index=False)"
   ]
  }
 ],
 "metadata": {
  "kernelspec": {
   "display_name": "Python 3",
   "language": "python",
   "name": "python3"
  },
  "language_info": {
   "codemirror_mode": {
    "name": "ipython",
    "version": 3
   },
   "file_extension": ".py",
   "mimetype": "text/x-python",
   "name": "python",
   "nbconvert_exporter": "python",
   "pygments_lexer": "ipython3",
   "version": "3.7.6"
  }
 },
 "nbformat": 4,
 "nbformat_minor": 4
}
