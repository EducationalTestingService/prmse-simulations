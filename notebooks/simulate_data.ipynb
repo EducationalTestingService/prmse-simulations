{
 "cells": [
  {
   "cell_type": "markdown",
   "metadata": {},
   "source": [
    "# Simulate the data\n",
    "\n",
    "This notebook contains the code to simulate the data for the experiments. "
   ]
  },
  {
   "cell_type": "code",
   "execution_count": 1,
   "metadata": {},
   "outputs": [],
   "source": [
    "import pandas as pd\n",
    "import numpy as np\n",
    "import json\n",
    "import seaborn as sns\n",
    "from matplotlib import pyplot as plt\n",
    "from scipy.stats import pearsonr, norm\n",
    "import numpy as np\n",
    "import matplotlib.pyplot as plt\n",
    "import scipy.stats as stats\n",
    "from numpy import linalg\n",
    "from sklearn.metrics import r2_score"
   ]
  },
  {
   "cell_type": "code",
   "execution_count": 2,
   "metadata": {},
   "outputs": [],
   "source": [
    "# load the settings that we store externally\n",
    "config = json.load(open('settings.json'))\n",
    "N_responses = config['N_responses']\n",
    "rater_rhos = config['rater_rhos']\n",
    "n_raters = config['n_raters']\n",
    "n_systems = config['n_systems']\n",
    "score_range = config['score_range']"
   ]
  },
  {
   "cell_type": "code",
   "execution_count": 3,
   "metadata": {},
   "outputs": [],
   "source": [
    "# We first generate true/golden standard score with a given distribution\n",
    "# We also truncate the scores to score range.\n",
    "np.random.seed(100)\n",
    "true_scores = np.random.normal(config['true_score_mean'], config['true_score_sd'], N_responses)\n",
    "true_scores = np.where(true_scores >= score_range[1], score_range[1],\n",
    "                      np.where(true_scores <= score_range[0], score_range[0],\n",
    "                      true_scores))"
   ]
  },
  {
   "cell_type": "code",
   "execution_count": 4,
   "metadata": {},
   "outputs": [
    {
     "data": {
      "text/plain": [
       "<matplotlib.axes._subplots.AxesSubplot at 0x116de0910>"
      ]
     },
     "execution_count": 4,
     "metadata": {},
     "output_type": "execute_result"
    },
    {
     "data": {
      "image/png": "[encoded data removed]",
      "text/plain": [
       "<Figure size 432x288 with 1 Axes>"
      ]
     },
     "metadata": {
      "needs_background": "light"
     },
     "output_type": "display_data"
    }
   ],
   "source": [
    "# let's check their distribution to make sure it looks as expected.\n",
    "sns.distplot(true_scores)"
   ]
  },
  {
   "cell_type": "markdown",
   "metadata": {},
   "source": [
    "We now want to generate human scores which will be generated as np.round(true_score + error). We are going to generate several categories of raters with pre-determined correlation within each group. The error is sampled from the normal distribution with mean = 0 and sd = error_sd. We are going to empirically figure out what error_sd gives us an expected correlation."
   ]
  },
  {
   "cell_type": "code",
   "execution_count": 5,
   "metadata": {},
   "outputs": [],
   "source": [
    "def get_rater_score(true_score, error_sd, seed):\n",
    "    '''\n",
    "    Compute discrte rater score using true scores and a given errror\n",
    "    '''\n",
    "    np.random.seed(seed)\n",
    "    rater_error = np.random.normal(0, error_sd, N_responses)\n",
    "    rater_round = rater = np.round(true_score + rater_error)\n",
    "    rater_truncated = pd.Series(np.where(rater > score_range[1], score_range[1],\n",
    "                                np.where(rater < score_range[0], score_range[0],\n",
    "                                rater)))\n",
    "    return rater_truncated"
   ]
  },
  {
   "cell_type": "code",
   "execution_count": 6,
   "metadata": {},
   "outputs": [
    {
     "data": {
      "text/plain": [
       "<matplotlib.axes._subplots.AxesSubplot at 0x116280950>"
      ]
     },
     "execution_count": 6,
     "metadata": {},
     "output_type": "execute_result"
    },
    {
     "data": {
      "image/png": "[encoded data removed]",
      "text/plain": [
       "<Figure size 432x288 with 1 Axes>"
      ]
     },
     "metadata": {
      "needs_background": "light"
     },
     "output_type": "display_data"
    }
   ],
   "source": [
    "# Look at relationship between the error and the correlation between raters\n",
    "corrs = []\n",
    "errors = np.arange(0.01, 1.5, step=0.01)\n",
    "seed = 100\n",
    "for error_sd in errors:\n",
    "    raters = []\n",
    "    for i in range(0, 50):\n",
    "        rater = get_rater_score(true_scores, error_sd, seed + i*25)\n",
    "        raters.append(rater)\n",
    "    df_raters = pd.concat(raters, axis=1)\n",
    "    corr_error = df_raters.corr().values\n",
    "    mean_corr = corr_error[corr_error != 1].mean()\n",
    "    corrs.append(mean_corr)\n",
    "sns.scatterplot(x=errors, y=corrs)   "
   ]
  },
  {
   "cell_type": "code",
   "execution_count": 7,
   "metadata": {},
   "outputs": [
    {
     "name": "stdout",
     "output_type": "stream",
     "text": [
      "Expected inter-rater rho: 0.4, simulated rho: 0.4016214794913189, Error sd: 0.87\n",
      "Expected inter-rater rho: 0.55, simulated rho: 0.546943780912957, Error sd: 0.62\n",
      "Expected inter-rater rho: 0.65, simulated rho: 0.6491138881877759, Error sd: 0.47000000000000003\n",
      "Expected inter-rater rho: 0.8, simulated rho: 0.7991382675357793, Error sd: 0.25\n"
     ]
    }
   ],
   "source": [
    "# now get the error corresponding to the desired rho in our configuration file\n",
    "human_errors = []\n",
    "for rho in rater_rhos:\n",
    "    i = (np.abs(np.array(corrs)-rho)).argmin()\n",
    "    error_sd = errors[i]\n",
    "    print(\"Expected inter-rater rho: {}, simulated rho: {}, Error sd: {}\".format(rho, corrs[i], error_sd))\n",
    "    human_errors.append(error_sd)"
   ]
  },
  {
   "cell_type": "code",
   "execution_count": 8,
   "metadata": {},
   "outputs": [],
   "source": [
    "### Now simulate the data we will use for our experiments\n",
    "\n",
    "df = pd.DataFrame({'id': ['id_{}'.format(i) for i in range(N_responses)],\n",
    "                  'true': true_scores})\n",
    "\n",
    "# First simulate the human raters using the rater errors that we identified at previous step\n",
    "raters = []\n",
    "rater_index = 1 # we start index from 1 because it makes it easier later to aggregate scores across multiple raters.\n",
    "\n",
    "seed = 232626\n",
    "for i in range(len(n_raters)):\n",
    "    error_sd = human_errors[i]\n",
    "    for j in range(0, n_raters[i]):\n",
    "        rater_name = 'h_{}'.format(rater_index)\n",
    "        rater_scores = get_rater_score(true_scores, error_sd, seed + j*23532)\n",
    "        df[rater_name] = rater_scores\n",
    "        df_rater = pd.DataFrame({'rater_id': [rater_name],\n",
    "                                'error_sd': error_sd,\n",
    "                                'category': config['rater_categories'][i],\n",
    "                                'expected_rho': config['rater_rhos'][i]})\n",
    "        raters.append(df_rater)\n",
    "        rater_index +=1\n",
    "\n",
    "df_raters = pd.concat(raters)\n",
    "\n",
    "# Now simulate system score. Since we already pre-defined expected R2 with true \n",
    "# scores in our config file, we compute the standard deviation used to sample the error\n",
    "# by taking advantage of the \n",
    "# fact that R2 = 1 - Var(MSE)/Var(True)\n",
    "\n",
    "systems = []\n",
    "system_index = 1\n",
    "\n",
    "seed = 726262\n",
    "for i in range(0, len(n_systems)):\n",
    "    system_r2 = config['system_r2'][i]\n",
    "    error = np.sqrt(np.var(true_scores) * (1 - system_r2))\n",
    "    for j in range(0, n_systems[i]):\n",
    "        system_name = 'sys_{}'.format(system_index) \n",
    "        np.random.seed(seed + j*3426)\n",
    "        system_error = np.random.normal(0, error, N_responses)\n",
    "        df[system_name] = true_scores + system_error\n",
    "        df_system = pd.DataFrame({'system_id': [system_name],\n",
    "                                  'exp_r2_true': config['system_r2'][i],\n",
    "                                  'system_category': config['system_categories'][i]})\n",
    "        systems.append(df_system)\n",
    "        system_index += 1\n",
    "\n",
    "df_systems = pd.concat(systems)"
   ]
  },
  {
   "cell_type": "markdown",
   "metadata": {},
   "source": [
    "# Check human score correlations\n",
    "\n",
    "Finally, we do several sanity checks to make sure everything worked as expected and create descriptive analyses for the paper. "
   ]
  },
  {
   "cell_type": "code",
   "execution_count": 9,
   "metadata": {},
   "outputs": [],
   "source": [
    "# let's identify columns with human scores\n",
    "human_scores = df_raters['rater_id'].values"
   ]
  },
  {
   "cell_type": "code",
   "execution_count": 10,
   "metadata": {},
   "outputs": [
    {
     "name": "stdout",
     "output_type": "stream",
     "text": [
      "Expected correlations: [0.4, 0.55, 0.65, 0.8]\n",
      "Simulated correlations:\n"
     ]
    },
    {
     "data": {
      "text/html": [
       "<div>\n",
       "<style scoped>\n",
       "    .dataframe tbody tr th:only-of-type {\n",
       "        vertical-align: middle;\n",
       "    }\n",
       "\n",
       "    .dataframe tbody tr th {\n",
       "        vertical-align: top;\n",
       "    }\n",
       "\n",
       "    .dataframe thead th {\n",
       "        text-align: right;\n",
       "    }\n",
       "</style>\n",
       "<table border=\"1\" class=\"dataframe\">\n",
       "  <thead>\n",
       "    <tr style=\"text-align: right;\">\n",
       "      <th>category_r2</th>\n",
       "      <th>low</th>\n",
       "      <th>moderate</th>\n",
       "      <th>average</th>\n",
       "      <th>high</th>\n",
       "    </tr>\n",
       "    <tr>\n",
       "      <th>category_r1</th>\n",
       "      <th></th>\n",
       "      <th></th>\n",
       "      <th></th>\n",
       "      <th></th>\n",
       "    </tr>\n",
       "  </thead>\n",
       "  <tbody>\n",
       "    <tr>\n",
       "      <th>low</th>\n",
       "      <td>0.394381</td>\n",
       "      <td>0.470978</td>\n",
       "      <td>0.511361</td>\n",
       "      <td>0.562844</td>\n",
       "    </tr>\n",
       "    <tr>\n",
       "      <th>moderate</th>\n",
       "      <td>0.470978</td>\n",
       "      <td>0.540528</td>\n",
       "      <td>0.597002</td>\n",
       "      <td>0.657783</td>\n",
       "    </tr>\n",
       "    <tr>\n",
       "      <th>average</th>\n",
       "      <td>0.511361</td>\n",
       "      <td>0.597002</td>\n",
       "      <td>0.644031</td>\n",
       "      <td>0.717764</td>\n",
       "    </tr>\n",
       "    <tr>\n",
       "      <th>high</th>\n",
       "      <td>0.562844</td>\n",
       "      <td>0.657783</td>\n",
       "      <td>0.717764</td>\n",
       "      <td>0.797603</td>\n",
       "    </tr>\n",
       "  </tbody>\n",
       "</table>\n",
       "</div>"
      ],
      "text/plain": [
       "category_r2       low  moderate   average      high\n",
       "category_r1                                        \n",
       "low          0.394381  0.470978  0.511361  0.562844\n",
       "moderate     0.470978  0.540528  0.597002  0.657783\n",
       "average      0.511361  0.597002  0.644031  0.717764\n",
       "high         0.562844  0.657783  0.717764  0.797603"
      ]
     },
     "execution_count": 10,
     "metadata": {},
     "output_type": "execute_result"
    }
   ],
   "source": [
    "# First we check that the correlations within each group are approximately what we wanted them to be.\n",
    "\n",
    "human_corr = df[human_scores].corr().unstack().reset_index()\n",
    "human_corr.columns = ['r1', 'r2', 'corr']\n",
    "# exclude correlation between the scores from the same rater\n",
    "human_corr = human_corr[human_corr['r1'] != human_corr['r2']]\n",
    "df_with_category = pd.merge(human_corr, df_raters, left_on ='r1', right_on='rater_id')\n",
    "df_with_category = pd.merge(df_with_category, df_raters, left_on='r2', right_on='rater_id', \n",
    "                           suffixes = ['_r1', '_r2'])\n",
    "df_with_category['same_group'] = np.where(df_with_category['category_r1'] == df_with_category['category_r2'],\n",
    "                                         'yes', 'no')\n",
    "print(\"Expected correlations:\", rater_rhos)\n",
    "print(\"Simulated correlations:\")\n",
    "df_with_category.groupby(['category_r1', 'category_r2'])['corr'].mean().unstack().loc[config['rater_categories'],\n",
    "                                                                                      config['rater_categories']]"
   ]
  },
  {
   "cell_type": "code",
   "execution_count": 11,
   "metadata": {},
   "outputs": [
    {
     "data": {
      "text/plain": [
       "<matplotlib.legend.Legend at 0x122e6c710>"
      ]
     },
     "execution_count": 11,
     "metadata": {},
     "output_type": "execute_result"
    },
    {
     "data": {
      "image/png": "[encoded data removed]",
      "text/plain": [
       "<Figure size 432x288 with 1 Axes>"
      ]
     },
     "metadata": {
      "needs_background": "light"
     },
     "output_type": "display_data"
    }
   ],
   "source": [
    "# Distribution of correlations within and across groups\n",
    "\n",
    "df_same_group = df_with_category[df_with_category['same_group']=='yes'].groupby('category_r1')['corr'].mean()\n",
    "sns.distplot(df_with_category[df_with_category['same_group']=='yes']['corr'],\n",
    "            color=\"red\", label=\"Same category\", kde=False)\n",
    "sns.distplot(df_with_category[df_with_category['same_group']=='no']['corr'],\n",
    "            color=\"green\", label=\"Different categories\", kde=False)\n",
    "plt.title(\"H-H correlation\")\n",
    "plt.legend()"
   ]
  },
  {
   "cell_type": "code",
   "execution_count": 12,
   "metadata": {},
   "outputs": [],
   "source": [
    "# create the table for the paper showing descriptive stats for each group\n",
    "\n",
    "df_human = df[human_scores].melt(var_name='rater_id', value_name='score')\n",
    "df_h_with_category = pd.merge(df_human, df_raters)"
   ]
  },
  {
   "cell_type": "code",
   "execution_count": 13,
   "metadata": {},
   "outputs": [
    {
     "name": "stdout",
     "output_type": "stream",
     "text": [
      "\\begin{tabular}{lrrrr}\n",
      "\\toprule\n",
      "{} &  N raters &  corr &  mean &  std \\\\\n",
      "\\midrule\n",
      "low      &        50 &  0.39 &  3.83 & 1.15 \\\\\n",
      "moderate &        50 &  0.54 &  3.84 & 1.00 \\\\\n",
      "average  &        50 &  0.64 &  3.84 & 0.92 \\\\\n",
      "high     &        50 &  0.80 &  3.84 & 0.84 \\\\\n",
      "\\bottomrule\n",
      "\\end{tabular}\n",
      "\n"
     ]
    }
   ],
   "source": [
    "df_desc = df_h_with_category.groupby('category')['score'].describe()[['mean', 'std']]\n",
    "df_desc_with_corr = pd.concat([df_desc, df_same_group], axis=1)\n",
    "#df_desc_with_corr['count'] = df_desc_with_corr['count'].astype(int)\n",
    "df_desc_with_corr['N raters'] = config['n_raters']\n",
    "cols_for_table = ['N raters', 'corr', 'mean', 'std']\n",
    "print(df_desc_with_corr.loc[config['rater_categories'], cols_for_table].to_latex(float_format='%.2f'))"
   ]
  },
  {
   "cell_type": "markdown",
   "metadata": {},
   "source": [
    "## Now look at system scores"
   ]
  },
  {
   "cell_type": "code",
   "execution_count": 14,
   "metadata": {},
   "outputs": [],
   "source": [
    "df_system_corr = df.corr().unstack().reset_index()\n",
    "df_system_corr.columns = ['system', 'reference', 'corr']\n",
    "df_system_corr = df_system_corr[df_system_corr['system'].isin(df_systems['system_id'])]"
   ]
  },
  {
   "cell_type": "code",
   "execution_count": 15,
   "metadata": {},
   "outputs": [
    {
     "data": {
      "text/plain": [
       "<matplotlib.axes._subplots.AxesSubplot at 0x119188d10>"
      ]
     },
     "execution_count": 15,
     "metadata": {},
     "output_type": "execute_result"
    },
    {
     "data": {
      "image/png": "[encoded data removed]",
      "text/plain": [
       "<Figure size 432x288 with 1 Axes>"
      ]
     },
     "metadata": {
      "needs_background": "light"
     },
     "output_type": "display_data"
    }
   ],
   "source": [
    "# correlation with true score\n",
    "df_system_true = df_system_corr[df_system_corr['reference']=='true']\n",
    "df_true_with_cat = pd.merge(df_system_true, df_systems, left_on='system', right_on='system_id')\n",
    "sns.boxplot(x='exp_r2_true', y='corr', data=df_true_with_cat)"
   ]
  },
  {
   "cell_type": "code",
   "execution_count": 16,
   "metadata": {},
   "outputs": [
    {
     "data": {
      "text/html": [
       "<div>\n",
       "<style scoped>\n",
       "    .dataframe tbody tr th:only-of-type {\n",
       "        vertical-align: middle;\n",
       "    }\n",
       "\n",
       "    .dataframe tbody tr th {\n",
       "        vertical-align: top;\n",
       "    }\n",
       "\n",
       "    .dataframe thead th {\n",
       "        text-align: right;\n",
       "    }\n",
       "</style>\n",
       "<table border=\"1\" class=\"dataframe\">\n",
       "  <thead>\n",
       "    <tr style=\"text-align: right;\">\n",
       "      <th>system_category</th>\n",
       "      <th>high</th>\n",
       "      <th>low</th>\n",
       "      <th>medium</th>\n",
       "      <th>perfect</th>\n",
       "      <th>poor</th>\n",
       "    </tr>\n",
       "    <tr>\n",
       "      <th>category</th>\n",
       "      <th></th>\n",
       "      <th></th>\n",
       "      <th></th>\n",
       "      <th></th>\n",
       "      <th></th>\n",
       "    </tr>\n",
       "  </thead>\n",
       "  <tbody>\n",
       "    <tr>\n",
       "      <th>low</th>\n",
       "      <td>0.573209</td>\n",
       "      <td>0.496658</td>\n",
       "      <td>0.540538</td>\n",
       "      <td>0.624600</td>\n",
       "      <td>0.444385</td>\n",
       "    </tr>\n",
       "    <tr>\n",
       "      <th>moderate</th>\n",
       "      <td>0.671267</td>\n",
       "      <td>0.581601</td>\n",
       "      <td>0.632997</td>\n",
       "      <td>0.731476</td>\n",
       "      <td>0.520375</td>\n",
       "    </tr>\n",
       "    <tr>\n",
       "      <th>average</th>\n",
       "      <td>0.732892</td>\n",
       "      <td>0.635024</td>\n",
       "      <td>0.691123</td>\n",
       "      <td>0.798588</td>\n",
       "      <td>0.568193</td>\n",
       "    </tr>\n",
       "    <tr>\n",
       "      <th>high</th>\n",
       "      <td>0.812477</td>\n",
       "      <td>0.703981</td>\n",
       "      <td>0.766173</td>\n",
       "      <td>0.885310</td>\n",
       "      <td>0.629892</td>\n",
       "    </tr>\n",
       "  </tbody>\n",
       "</table>\n",
       "</div>"
      ],
      "text/plain": [
       "system_category      high       low    medium   perfect      poor\n",
       "category                                                         \n",
       "low              0.573209  0.496658  0.540538  0.624600  0.444385\n",
       "moderate         0.671267  0.581601  0.632997  0.731476  0.520375\n",
       "average          0.732892  0.635024  0.691123  0.798588  0.568193\n",
       "high             0.812477  0.703981  0.766173  0.885310  0.629892"
      ]
     },
     "execution_count": 16,
     "metadata": {},
     "output_type": "execute_result"
    }
   ],
   "source": [
    "# Mean correlations between systems in different groups and different categories of raters\n",
    "\n",
    "df_system_corr_with_category = pd.merge(df_system_corr, df_raters, left_on='reference', right_on='rater_id')\n",
    "df_sys_human = pd.merge(df_system_corr_with_category, df_systems, left_on='system', right_on='system_id')\n",
    "df_sys_human.groupby(['category', 'system_category'])['corr'].mean().unstack().loc[config['rater_categories']]"
   ]
  },
  {
   "cell_type": "code",
   "execution_count": 17,
   "metadata": {},
   "outputs": [
    {
     "data": {
      "text/plain": [
       "<matplotlib.axes._subplots.AxesSubplot at 0x11940f350>"
      ]
     },
     "execution_count": 17,
     "metadata": {},
     "output_type": "execute_result"
    },
    {
     "data": {
      "image/png": "[encoded data removed]",
      "text/plain": [
       "<Figure size 432x288 with 1 Axes>"
      ]
     },
     "metadata": {
      "needs_background": "light"
     },
     "output_type": "display_data"
    }
   ],
   "source": [
    "sns.boxplot(x='category', y='corr', hue='system_category', data=df_sys_human)"
   ]
  },
  {
   "cell_type": "code",
   "execution_count": 18,
   "metadata": {},
   "outputs": [
    {
     "data": {
      "text/plain": [
       "<seaborn.axisgrid.FacetGrid at 0x121ef1090>"
      ]
     },
     "execution_count": 18,
     "metadata": {},
     "output_type": "execute_result"
    },
    {
     "data": {
      "image/png": "[encoded data removed]",
      "text/plain": [
       "<Figure size 360x360 with 1 Axes>"
      ]
     },
     "metadata": {
      "needs_background": "light"
     },
     "output_type": "display_data"
    }
   ],
   "source": [
    "# rmse with true score\n",
    "df_long = df.melt(id_vars = ['true'],\n",
    "                 value_vars = df_systems['system_id'].values,\n",
    "                 var_name = 'system_id',\n",
    "                 value_name = 'score')\n",
    "df_long['se'] = (df_long['score'] - df_long['true'])**2\n",
    "df_by_system = df_long.groupby('system_id')['se'].apply(lambda x: np.sqrt(np.mean(x))).reset_index()\n",
    "df_long_with_mse = pd.merge(df_by_system, df_systems)\n",
    "sns.lmplot(x='system_category', y='se', data=df_long_with_mse, fit_reg=False)"
   ]
  },
  {
   "cell_type": "code",
   "execution_count": 19,
   "metadata": {},
   "outputs": [
    {
     "data": {
      "text/plain": [
       "<matplotlib.axes._subplots.AxesSubplot at 0x1220055d0>"
      ]
     },
     "execution_count": 19,
     "metadata": {},
     "output_type": "execute_result"
    },
    {
     "data": {
      "image/png": "[encoded data removed]",
      "text/plain": [
       "<Figure size 432x288 with 1 Axes>"
      ]
     },
     "metadata": {
      "needs_background": "light"
     },
     "output_type": "display_data"
    }
   ],
   "source": [
    "# r2 with true score\n",
    "df_r2 = df_long.groupby('system_id').apply(lambda x: r2_score(x['true'], x['score'])).reset_index()\n",
    "df_r2.columns = ['system_id', 'r2']\n",
    "df_r2_with_mse = pd.merge(df_r2, df_systems)\n",
    "sns.scatterplot(x='system_category', y='r2', data=df_r2_with_mse)"
   ]
  },
  {
   "cell_type": "code",
   "execution_count": 22,
   "metadata": {
    "scrolled": true
   },
   "outputs": [
    {
     "name": "stdout",
     "output_type": "stream",
     "text": [
      "\\begin{tabular}{lrrrr}\n",
      "\\toprule\n",
      "{} &  N systems &  R2 (GS) &  r (GS) &  r (`average`) \\\\\n",
      "system\\_category &            &          &         &                \\\\\n",
      "\\midrule\n",
      "poor            &          5 &     0.00 &    0.71 &           0.57 \\\\\n",
      "low             &          5 &     0.40 &    0.79 &           0.64 \\\\\n",
      "medium          &          5 &     0.65 &    0.86 &           0.69 \\\\\n",
      "high            &          5 &     0.80 &    0.91 &           0.73 \\\\\n",
      "perfect         &          5 &     0.99 &    1.00 &           0.80 \\\\\n",
      "\\bottomrule\n",
      "\\end{tabular}\n",
      "\n"
     ]
    }
   ],
   "source": [
    "# create a table for the paper\n",
    "\n",
    "tab_r2 = df_r2_with_mse.groupby('system_category')['r2'].mean()\n",
    "tab_rmse = df_long_with_mse.groupby('system_category')['se'].mean()\n",
    "tab_corr_average = df_sys_human.groupby(['category', 'system_category'])['corr'].mean().unstack().loc['average'].transpose()\n",
    "tab_corr_true = df_true_with_cat.groupby('system_category')['corr'].mean()\n",
    "tab_res = pd.concat([tab_r2, tab_rmse, tab_corr_average, tab_corr_true], axis=1)\n",
    "tab_res.columns = ['R2 (GS)', 'RMSE (GS)', \"r (`average`)\", 'r (GS)']\n",
    "tab_res['N systems'] = config['n_systems']\n",
    "print(tab_res[['N systems',\n",
    "               'R2 (GS)',\n",
    "               'r (GS)', \n",
    "               \"r (`average`)\"]].loc[config['system_categories']].to_latex(float_format='%.2f'))"
   ]
  },
  {
   "cell_type": "code",
   "execution_count": 23,
   "metadata": {},
   "outputs": [],
   "source": [
    "df.to_csv('../data/data.csv', index=False)\n",
    "df_raters.to_csv('../data/raters.csv', index=False)\n",
    "df_systems.to_csv('../data/systems.csv', index=False)"
   ]
  }
 ],
 "metadata": {
  "kernelspec": {
   "display_name": "Python 3",
   "language": "python",
   "name": "python3"
  },
  "language_info": {
   "codemirror_mode": {
    "name": "ipython",
    "version": 3
   },
   "file_extension": ".py",
   "mimetype": "text/x-python",
   "name": "python",
   "nbconvert_exporter": "python",
   "pygments_lexer": "ipython3",
   "version": "3.7.6"
  }
 },
 "nbformat": 4,
 "nbformat_minor": 4
}
