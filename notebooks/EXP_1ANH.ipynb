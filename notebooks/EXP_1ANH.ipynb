{
 "cells": [
  {
   "cell_type": "markdown",
   "metadata": {},
   "source": [
    "# Experiment 1ANH\n",
    "\n",
    "We repeat 1A2H but gradually increase the number of raters we sample from 2 to N. We show that other metrics also approach true score value. "
   ]
  },
  {
   "cell_type": "code",
   "execution_count": 10,
   "metadata": {},
   "outputs": [],
   "source": [
    "import pandas as pd\n",
    "import seaborn as sns\n",
    "from scipy.stats import pearsonr\n",
    "from sklearn.metrics import r2_score\n",
    "\n",
    "import json\n",
    "\n",
    "#from rsmtool.prmse_utils import compute_prmse_generalized\n",
    "%matplotlib inline"
   ]
  },
  {
   "cell_type": "code",
   "execution_count": 4,
   "metadata": {},
   "outputs": [],
   "source": [
    "df = pd.read_csv('../data/data.csv')\n",
    "df['system'] = df['sys_7']\n",
    "config = json.load(open('settings.json'))\n",
    "N_responses = config['N_responses']\n",
    "N_raters = config['N_raters']"
   ]
  },
  {
   "cell_type": "code",
   "execution_count": 5,
   "metadata": {},
   "outputs": [],
   "source": [
    "# compute the cumulative mean of human scores\n",
    "human_columns = ['h_{}'.format(h) for h in range(1, N_raters+1)]\n",
    "df_agg = df[human_columns].expanding(min_periods=1, axis=1).mean()"
   ]
  },
  {
   "cell_type": "code",
   "execution_count": 6,
   "metadata": {},
   "outputs": [
    {
     "data": {
      "text/plain": [
       "(0.8093209148854923, 0.4767431000540935)"
      ]
     },
     "execution_count": 6,
     "metadata": {},
     "output_type": "execute_result"
    }
   ],
   "source": [
    "# baseline\n",
    "# baseline: system correlation with true score. \n",
    "true_corr = pearsonr(df['system'], df['true'])[0]\n",
    "true_r2 = r2_score(df['true'], df['system'])\n",
    "true_corr, true_r2"
   ]
  },
  {
   "cell_type": "code",
   "execution_count": 7,
   "metadata": {},
   "outputs": [],
   "source": [
    "# We compute various metrics for an increasing N raters\n",
    "# compute correlations with aggregated scores (we already did this for Exp Trivial)\n",
    "df_agg.index=df.index\n",
    "corrs_mean = df_agg.corrwith(df['system'])\n",
    "corrs_mean.index=range(1, N_raters+1)"
   ]
  },
  {
   "cell_type": "code",
   "execution_count": 13,
   "metadata": {},
   "outputs": [
    {
     "data": {
      "text/plain": [
       "<matplotlib.lines.Line2D at 0x11c3c3cd0>"
      ]
     },
     "execution_count": 13,
     "metadata": {},
     "output_type": "execute_result"
    },
    {
     "data": {
      "image/png": "[encoded data removed]",
      "text/plain": [
       "<Figure size 432x288 with 1 Axes>"
      ]
     },
     "metadata": {
      "needs_background": "light"
     },
     "output_type": "display_data"
    }
   ],
   "source": [
    "ax=sns.scatterplot(data=corrs_mean)\n",
    "ax.axhline(true_corr, color='red')"
   ]
  },
  {
   "cell_type": "code",
   "execution_count": 16,
   "metadata": {},
   "outputs": [],
   "source": [
    "# compute r2 with aggregated scores\n",
    "r2_mean = []\n",
    "for h in human_columns:\n",
    "    r2_mean.append(r2_score(df_agg[h], df['system']))\n",
    "r2_mean = pd.Series(r2_mean)"
   ]
  },
  {
   "cell_type": "code",
   "execution_count": 18,
   "metadata": {},
   "outputs": [
    {
     "data": {
      "text/plain": [
       "<matplotlib.lines.Line2D at 0x127680710>"
      ]
     },
     "execution_count": 18,
     "metadata": {},
     "output_type": "execute_result"
    },
    {
     "data": {
      "image/png": "[encoded data removed]",
      "text/plain": [
       "<Figure size 432x288 with 1 Axes>"
      ]
     },
     "metadata": {
      "needs_background": "light"
     },
     "output_type": "display_data"
    }
   ],
   "source": [
    "ax=sns.scatterplot(data=r2_mean)\n",
    "ax.axhline(true_r2, color='red')"
   ]
  },
  {
   "cell_type": "code",
   "execution_count": null,
   "metadata": {},
   "outputs": [],
   "source": [
    "# now compute prmse for increasing number of raters\n",
    "prmse = []\n",
    "for i in range(2, min(50, N_raters):\n",
    "    if i%10 == 0:\n",
    "        print(i)\n",
    "    prmse.append(compute_prmse_generalized(df, human_score_columns=human_columns[0:i],\n",
    "                                          system_score_columns=['system']))\n",
    "df_prmse = pd.concat(prmse)"
   ]
  },
  {
   "cell_type": "code",
   "execution_count": null,
   "metadata": {},
   "outputs": [],
   "source": [
    "df_prmse"
   ]
  }
 ],
 "metadata": {
  "kernelspec": {
   "display_name": "Python 3",
   "language": "python",
   "name": "python3"
  },
  "language_info": {
   "codemirror_mode": {
    "name": "ipython",
    "version": 3
   },
   "file_extension": ".py",
   "mimetype": "text/x-python",
   "name": "python",
   "nbconvert_exporter": "python",
   "pygments_lexer": "ipython3",
   "version": "3.7.6"
  }
 },
 "nbformat": 4,
 "nbformat_minor": 4
}
