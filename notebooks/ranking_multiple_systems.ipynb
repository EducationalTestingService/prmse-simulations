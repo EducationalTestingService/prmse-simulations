{
 "cells": [
  {
   "cell_type": "markdown",
   "metadata": {},
   "source": [
    "### Ranking multiple systems\n",
    "\n",
    "In this notebook, we consider the situation where we have scores from multiple different automated scoring systems, each with different levels of performance.  We evaluate these systems against the same as well as different pairs of raters and show that:\n",
    "\n",
    "1. When using the same pair of raters to evaluate all of the systems, all metrics including PRMSE are able to rank the systems accurately.\n",
    "2. However, when a different pair of raters is chosen for each system, the conventional agreement metrics are not able to rank the systems accurately whereas PRMSE still does."
   ]
  },
  {
   "cell_type": "code",
   "execution_count": 1,
   "metadata": {},
   "outputs": [],
   "source": [
    "import itertools\n",
    "import json\n",
    "import pandas as pd\n",
    "import numpy as np\n",
    "import seaborn as sns\n",
    "\n",
    "from matplotlib import pyplot as plt\n",
    "from pathlib import Path\n",
    "from rsmtool.utils.prmse import prmse_true\n",
    "from simulation.dataset import Dataset\n",
    "from simulation.utils import (compute_agreement_one_system_one_rater_pair,\n",
    "                               compute_agreement_multiple_systems_one_rater_pair,\n",
    "                               compute_ranks_from_metrics)\n",
    "\n",
    "# define a directory to save figures\n",
    "figure_dir = Path('../paper_overleaf/figures')"
   ]
  },
  {
   "cell_type": "markdown",
   "metadata": {},
   "source": [
    "### Step 1: Setup\n",
    "\n",
    "To set up the experiment, we first load the dataset we have already created and saved in the `making_a_dataset.ipynb` notebook and use that for this experiment.\n",
    "\n",
    "For convenience and replicability, we have pre-defined many of the parameters that are used in our notebooks and saved them in the file `settings.json`. We load this file below."
   ]
  },
  {
   "cell_type": "code",
   "execution_count": 2,
   "metadata": {},
   "outputs": [
    {
     "name": "stdout",
     "output_type": "stream",
     "text": [
      "Dataset (10000 responses, scores in [1, 6], 4 rater categories, 50 raters/category, 5 system categories, 5 systems/category)\n"
     ]
    }
   ],
   "source": [
    "# load the dataset file\n",
    "dataset = Dataset.from_file('../data/default.dataset')\n",
    "\n",
    "# let's remind ourselves what the dataset looks like\n",
    "print(dataset)"
   ]
  },
  {
   "cell_type": "code",
   "execution_count": 3,
   "metadata": {},
   "outputs": [],
   "source": [
    "# load the experimental settings file\n",
    "experiment_settings = json.load(open('settings.json', 'r'))"
   ]
  },
  {
   "cell_type": "code",
   "execution_count": 4,
   "metadata": {},
   "outputs": [],
   "source": [
    "# now get the data frames for our loaded dataset\n",
    "df_scores, df_rater_metadata, df_system_metadata = dataset.to_frames()"
   ]
  },
  {
   "cell_type": "markdown",
   "metadata": {},
   "source": [
    "### Step 2: Evaluate all systems against same pair of raters\n",
    "\n",
    "First, we evaluate the scores assigned by all our simulated systems in the dataset against the same pair of simulated human raters from the dataset. To simulate the more usual scenario, we sample two raters from the \"average\" rater category."
   ]
  },
  {
   "cell_type": "code",
   "execution_count": 5,
   "metadata": {},
   "outputs": [
    {
     "name": "stdout",
     "output_type": "stream",
     "text": [
      "we chose the rater pair: ['h_107', 'h_101']\n"
     ]
    }
   ],
   "source": [
    "# define our pre-selected rater category\n",
    "chosen_rater_category = \"average\"\n",
    "\n",
    "# get the list of rater IDs in this category\n",
    "rater_ids = df_rater_metadata[df_rater_metadata['rater_category'] == chosen_rater_category]['rater_id']\n",
    "\n",
    "# choose 2 rater IDs randomly from these\n",
    "chosen_rater_pair = rater_id1, rater_id2 = rater_ids.sample(n=2, random_state=1234567890).values.tolist()\n",
    "\n",
    "# Print this pair out\n",
    "print(f'we chose the rater pair: {chosen_rater_pair}')"
   ]
  },
  {
   "cell_type": "markdown",
   "metadata": {},
   "source": [
    "Now, we compute the agreement metrics as well as the PRMSE values for all of the simulated systems in our dataset against our pre-selected rater pair."
   ]
  },
  {
   "cell_type": "code",
   "execution_count": 6,
   "metadata": {},
   "outputs": [],
   "source": [
    "# initialize some lists that will hold our metric and PRMSE values for each category\n",
    "metric_dfs = []\n",
    "prmse_series = []\n",
    "\n",
    "# iterate over each system category\n",
    "for system_category in dataset.system_categories:\n",
    "    \n",
    "    # get the system IDs that belong to this system category\n",
    "    system_ids_for_category = df_system_metadata[df_system_metadata['system_category'] == system_category]['system_id']\n",
    "    \n",
    "    # compute the agreement metrics for all of the systems in this category against our chosen rater pair\n",
    "    df_metrics_for_category = compute_agreement_multiple_systems_one_rater_pair(df_scores,\n",
    "                                                                                system_ids_for_category,\n",
    "                                                                                chosen_rater_pair[0],\n",
    "                                                                                chosen_rater_pair[1],\n",
    "                                                                                include_mean=True)\n",
    "\n",
    "    # note that `compute_agreement_multiple_systems_one_rater_pair()` returns the metric values\n",
    "    # against both the average of the two raters' scores as well as the first rater's scores;\n",
    "    # for this analysis, we choose to use only the metric values against the average\n",
    "    df_metrics_for_category = df_metrics_for_category[df_metrics_for_category['reference'] == 'h1-h2 mean']\n",
    "    df_metrics_for_category.drop('reference', axis=1, inplace=True)\n",
    "\n",
    "    \n",
    "    # save the system category in the data frame too since we need it for plotting\n",
    "    df_metrics_for_category['system_category'] = system_category\n",
    "\n",
    "    # save this metrics dataframe in the list\n",
    "    metric_dfs.append(df_metrics_for_category)\n",
    "\n",
    "\n",
    "    # compute the PRMSE values for all of the systems in this category against our chosen ratr pair\n",
    "    prmse_series_for_category = system_ids_for_category.apply(lambda system_id: prmse_true(df_scores[system_id],\n",
    "                                                                                            df_scores[[rater_id1, rater_id2]]))\n",
    "    # save these PRMES values in the list\n",
    "    prmse_series.append(prmse_series_for_category)\n",
    "    \n",
    "\n",
    "# combine all of the per-category agreement metric values into a single data frame\n",
    "df_metrics_same_rater_pair_with_categories = pd.concat(metric_dfs).reset_index(drop=True)\n",
    "\n",
    "# and combine all of the per-category PRMSE values and add it as another column in the same data frame\n",
    "df_metrics_same_rater_pair_with_categories['PRMSE'] = pd.concat(prmse_series)"
   ]
  },
  {
   "cell_type": "markdown",
   "metadata": {},
   "source": [
    "Now, we need to use each metric to compute the ranks of each of the systems based on the values."
   ]
  },
  {
   "cell_type": "code",
   "execution_count": 7,
   "metadata": {},
   "outputs": [],
   "source": [
    "# compute the ranks given the metric values\n",
    "df_ranks_same_rater_pair = compute_ranks_from_metrics(df_metrics_same_rater_pair_with_categories)\n",
    "\n",
    "# now compute a longer verssion of this rank data frame that is more amenable to plotting\n",
    "df_ranks_same_rater_pair_long = df_ranks_same_rater_pair.melt(id_vars=['system_category', 'system_id'],\n",
    "                                                              var_name='metric',\n",
    "                                                              value_name='rank')"
   ]
  },
  {
   "cell_type": "code",
   "execution_count": 8,
   "metadata": {},
   "outputs": [
    {
     "data": {
      "image/png": "[encoded data removed]",
      "text/plain": [
       "<Figure size 1800x360 with 5 Axes>"
      ]
     },
     "metadata": {
      "needs_background": "light"
     },
     "output_type": "display_data"
    }
   ],
   "source": [
    "# plot the ranks\n",
    "sns.catplot(x='system_category', y='rank', data=df_ranks_same_rater_pair_long,\n",
    "           col='metric', kind='box')\n",
    "plt.show()"
   ]
  },
  {
   "cell_type": "markdown",
   "metadata": {},
   "source": [
    "As expected, this plot shows that all of the agreement metrics as well as PRMSE ranks the systems correctly since all of them are being computed against the same rater pair. Note that systems known to have better performance rank \"higher\". "
   ]
  },
  {
   "cell_type": "markdown",
   "metadata": {},
   "source": [
    "### Step 3: Evaluate each systems against a different pair of raters\n",
    "\n",
    "Now, we change things up and evaluate the scores assigned by each of our simulated systems in the dataset against a _different_ pair of simulated human raters from the dataset. We always sample both human raters from the same category but different _pairs_ of raters are sampled from different categories so that each system is evaluated against rater pairs with a different level of average inter-rater agreement. "
   ]
  },
  {
   "cell_type": "code",
   "execution_count": 9,
   "metadata": {},
   "outputs": [],
   "source": [
    "# first let's get rater pairs within each category\n",
    "rater_pairs_per_category = df_rater_metadata.groupby('rater_category')['rater_id'].apply(lambda values: itertools.combinations(values, 2))\n",
    "\n",
    "# next let's combine all possible rater pairs across the categories\n",
    "combined_rater_pairs = [f\"{rater_id1}+{rater_id2}\" for rater_id1, rater_id2 in itertools.chain.from_iterable(rater_pairs_per_category.values)]\n",
    "\n",
    "# finally sample a rater pair for each of the systems\n",
    "prng = np.random.RandomState(1234567890)\n",
    "num_systems = dataset.num_systems_per_category * len(dataset.system_categories)\n",
    "rater_pairs_for_systems = prng.choice(combined_rater_pairs, size=num_systems, replace=False)\n",
    "rater_pairs_for_systems = [rater_pair.split('+') for rater_pair in rater_pairs_for_systems]"
   ]
  },
  {
   "cell_type": "markdown",
   "metadata": {},
   "source": [
    "Before we proceed, let's see how the different system categories are distributed across different rater pairs. "
   ]
  },
  {
   "cell_type": "code",
   "execution_count": 10,
   "metadata": {},
   "outputs": [
    {
     "data": {
      "text/html": [
       "<div>\n",
       "<style scoped>\n",
       "    .dataframe tbody tr th:only-of-type {\n",
       "        vertical-align: middle;\n",
       "    }\n",
       "\n",
       "    .dataframe tbody tr th {\n",
       "        vertical-align: top;\n",
       "    }\n",
       "\n",
       "    .dataframe thead th {\n",
       "        text-align: right;\n",
       "    }\n",
       "</style>\n",
       "<table border=\"1\" class=\"dataframe\">\n",
       "  <thead>\n",
       "    <tr style=\"text-align: right;\">\n",
       "      <th>rater_category</th>\n",
       "      <th>low</th>\n",
       "      <th>moderate</th>\n",
       "      <th>average</th>\n",
       "      <th>high</th>\n",
       "    </tr>\n",
       "    <tr>\n",
       "      <th>system_category</th>\n",
       "      <th></th>\n",
       "      <th></th>\n",
       "      <th></th>\n",
       "      <th></th>\n",
       "    </tr>\n",
       "  </thead>\n",
       "  <tbody>\n",
       "    <tr>\n",
       "      <th>poor</th>\n",
       "      <td>1</td>\n",
       "      <td>3</td>\n",
       "      <td>0</td>\n",
       "      <td>1</td>\n",
       "    </tr>\n",
       "    <tr>\n",
       "      <th>low</th>\n",
       "      <td>0</td>\n",
       "      <td>0</td>\n",
       "      <td>2</td>\n",
       "      <td>3</td>\n",
       "    </tr>\n",
       "    <tr>\n",
       "      <th>medium</th>\n",
       "      <td>3</td>\n",
       "      <td>0</td>\n",
       "      <td>1</td>\n",
       "      <td>1</td>\n",
       "    </tr>\n",
       "    <tr>\n",
       "      <th>high</th>\n",
       "      <td>2</td>\n",
       "      <td>1</td>\n",
       "      <td>1</td>\n",
       "      <td>1</td>\n",
       "    </tr>\n",
       "    <tr>\n",
       "      <th>perfect</th>\n",
       "      <td>2</td>\n",
       "      <td>0</td>\n",
       "      <td>2</td>\n",
       "      <td>1</td>\n",
       "    </tr>\n",
       "  </tbody>\n",
       "</table>\n",
       "</div>"
      ],
      "text/plain": [
       "rater_category   low  moderate  average  high\n",
       "system_category                              \n",
       "poor               1         3        0     1\n",
       "low                0         0        2     3\n",
       "medium             3         0        1     1\n",
       "high               2         1        1     1\n",
       "perfect            2         0        2     1"
      ]
     },
     "execution_count": 10,
     "metadata": {},
     "output_type": "execute_result"
    }
   ],
   "source": [
    "# create a dataframe from our rater pairs with h1 and h2 as the two columns\n",
    "df_rater_pairs_with_categories = pd.DataFrame(data=rater_pairs_for_systems, columns=['h1', 'h2'])\n",
    "\n",
    "# add in the system metadata \n",
    "df_rater_pairs_with_categories['system_id'] = df_system_metadata['system_id']\n",
    "df_rater_pairs_with_categories['system_category'] = df_system_metadata['system_category']\n",
    "\n",
    "# merge in the rater metadata\n",
    "# we can use h1 since the pairs are always drawn from the same category of raters\n",
    "df_rater_pairs_with_categories = pd.merge(df_rater_pairs_with_categories,\n",
    "                                          df_rater_metadata,\n",
    "                                          left_on='h1',\n",
    "                                          right_on='rater_id' )\n",
    "\n",
    "system_category_by_rater_category_table = pd.crosstab(df_rater_pairs_with_categories['system_category'],\n",
    "                                                      df_rater_pairs_with_categories['rater_category']).loc[dataset.system_categories,\n",
    "                                                                                                            dataset.rater_categories]\n",
    "system_category_by_rater_category_table"
   ]
  },
  {
   "cell_type": "markdown",
   "metadata": {},
   "source": [
    "As the table shows, we see that systems in different categories were evaluated against rater pairs with different level of agreement. For example, 3 out of 5 systems in \"low\" category were evaluated against raters with \"high\" agreement. At the same time for systems in \"medium\" category, 3 out of 5 systems were evaluated against raters with \"low\" agreement. "
   ]
  },
  {
   "cell_type": "code",
   "execution_count": 11,
   "metadata": {},
   "outputs": [
    {
     "name": "stdout",
     "output_type": "stream",
     "text": [
      "\\begin{tabular}{lrrrr}\n",
      "\\toprule\n",
      "rater\\_category &  low &  moderate &  average &  high \\\\\n",
      "system\\_category &      &           &          &       \\\\\n",
      "\\midrule\n",
      "poor            &    1 &         3 &        0 &     1 \\\\\n",
      "low             &    0 &         0 &        2 &     3 \\\\\n",
      "medium          &    3 &         0 &        1 &     1 \\\\\n",
      "high            &    2 &         1 &        1 &     1 \\\\\n",
      "perfect         &    2 &         0 &        2 &     1 \\\\\n",
      "\\bottomrule\n",
      "\\end{tabular}\n",
      "\n"
     ]
    }
   ],
   "source": [
    "# TODO: remove from final release\n",
    "print(system_category_by_rater_category_table.to_latex())"
   ]
  },
  {
   "cell_type": "markdown",
   "metadata": {},
   "source": [
    "Next, we compute the values of the conventional agreement metrics and PRMSE for each system against its corresponding rater pair."
   ]
  },
  {
   "cell_type": "code",
   "execution_count": 12,
   "metadata": {},
   "outputs": [],
   "source": [
    "# initialize an empty list to hold the metric values for each system ID\n",
    "metric_values_list = []\n",
    "\n",
    "# iterate over each system ID\n",
    "for system_id, rater_id1, rater_id2 in zip(df_rater_pairs_with_categories['system_id'],\n",
    "                                           df_rater_pairs_with_categories['h1'],\n",
    "                                           df_rater_pairs_with_categories['h2']):\n",
    "        \n",
    "    # compute the agreement metrics for all of the systems in this category against our chosen rater pair\n",
    "    metric_values, _ = compute_agreement_one_system_one_rater_pair(df_scores,\n",
    "                                                                   system_id,\n",
    "                                                                   rater_id1,\n",
    "                                                                   rater_id2,\n",
    "                                                                   include_mean=True)\n",
    "\n",
    "    # now compute  the PRMSE value of the system against the two raters\n",
    "    metric_values['PRMSE'] = prmse_true(df_scores[system_id], df_scores[[rater_id1, rater_id2]])\n",
    "    \n",
    "    # save the system ID since we will need it later\n",
    "    metric_values['system_id'] = system_id\n",
    "    \n",
    "    # save this list of metrics in the list\n",
    "    metric_values_list.append(metric_values)\n",
    "\n",
    "# now create a data frame with all of the metric values for all system IDs\n",
    "df_metrics_different_rater_pairs = pd.DataFrame(metric_values_list)\n",
    "\n",
    "# merge in the system category from the metadata since we need that for plotting\n",
    "df_metrics_different_rater_pairs_with_categories = df_metrics_different_rater_pairs.merge(df_system_metadata,\n",
    "                                                                                          left_on='system_id',\n",
    "                                                                                          right_on='system_id')\n",
    "\n",
    "# keep only the columns we need\n",
    "df_metrics_different_rater_pairs_with_categories = df_metrics_different_rater_pairs_with_categories[['system_id',\n",
    "                                                                                                     'system_category',\n",
    "                                                                                                     'r',\n",
    "                                                                                                     'QWK',\n",
    "                                                                                                     'R2',\n",
    "                                                                                                     'degradation',\n",
    "                                                                                                     'PRMSE']]"
   ]
  },
  {
   "cell_type": "markdown",
   "metadata": {},
   "source": [
    "Now that we have computed the metrics, we can plot each simulated system's measured performance via each of the metrics against its known performance, as indicated by its system category."
   ]
  },
  {
   "cell_type": "code",
   "execution_count": 13,
   "metadata": {},
   "outputs": [
    {
     "data": {
      "image/png": "[encoded data removed]",
      "text/plain": [
       "<Figure size 1800x360 with 5 Axes>"
      ]
     },
     "metadata": {
      "needs_background": "light"
     },
     "output_type": "display_data"
    }
   ],
   "source": [
    "# now create a longer version of this data frame that's more amenable to plotting\n",
    "df_metrics_different_rater_pairs_with_categories_long = df_metrics_different_rater_pairs_with_categories.melt(id_vars=['system_id', 'system_category'],\n",
    "                                                                                                  var_name='metric')\n",
    "# plot the metric values by system category\n",
    "ax = sns.catplot(col='metric',\n",
    "                 y='value',\n",
    "                 x='system_category',\n",
    "                 data=df_metrics_different_rater_pairs_with_categories_long,\n",
    "                 kind='box',\n",
    "                 order=dataset.system_categories)\n",
    "plt.show()"
   ]
  },
  {
   "cell_type": "markdown",
   "metadata": {},
   "source": [
    "From this plot, we can see that only PRMSE values accurately separate the systems from each other whereas the other metrics are not able to do. Next, let's plot how the different systems are ranked by each of the metrics and also compare these ranks to the ranks from the same-rater scenario."
   ]
  },
  {
   "cell_type": "code",
   "execution_count": 14,
   "metadata": {},
   "outputs": [],
   "source": [
    "# get the ranks for the metrics\n",
    "df_ranks_different_rater_pairs = compute_ranks_from_metrics(df_metrics_different_rater_pairs_with_categories)\n",
    "\n",
    "# and now get a longer version of this data frame that's more amenable to plotting\n",
    "df_ranks_different_rater_pairs_long = df_ranks_different_rater_pairs.melt(id_vars=['system_category', 'system_id'],\n",
    "                                                                          var_name='metric',\n",
    "                                                                          value_name='rank')\n",
    "\n",
    "# we also merge in the ranks from the same-rater scenario and distinguish the two sets of ranks with suffixes\n",
    "df_all_ranks_long = df_ranks_different_rater_pairs_long.merge(df_ranks_same_rater_pair_long,\n",
    "                                                              left_on=['system_id', 'system_category', 'metric'],\n",
    "                                                              right_on=['system_id', 'system_category', 'metric'],\n",
    "                                                              suffixes=('_diff', '_same'))"
   ]
  },
  {
   "cell_type": "code",
   "execution_count": 15,
   "metadata": {},
   "outputs": [
    {
     "data": {
      "image/png": "[encoded data removed]",
      "text/plain": [
       "<Figure size 864x288 with 5 Axes>"
      ]
     },
     "metadata": {
      "needs_background": "light"
     },
     "output_type": "display_data"
    }
   ],
   "source": [
    "# now make a plot that shows the comparison of the two sets of ranks\n",
    "g = sns.FacetGrid(df_all_ranks_long, col='metric', height=4, aspect=0.6)\n",
    "g.map(sns.boxplot, 'system_category', 'rank_diff', order=dataset.system_categories, color='grey')\n",
    "g.map(sns.stripplot, 'system_category', 'rank_same', order=dataset.system_categories, color='red', jitter=False)\n",
    "(g.set_xticklabels(dataset.system_categories, rotation=90)\n",
    "  .set(xlabel='system category')\n",
    "  .set(ylabel='rank'))\n",
    "plt.tight_layout(h_pad=1.0)\n",
    "plt.savefig(figure_dir / 'system_comparison.png')\n",
    "plt.show()"
   ]
  },
  {
   "cell_type": "markdown",
   "metadata": {},
   "source": [
    "As this plot shows, only the PRMSE metric is still able to rank the systems accurately whereas all the other metrics are not. We can also make another plot that shows a more direct comparison between $R^2$ and PRMSE."
   ]
  },
  {
   "cell_type": "code",
   "execution_count": 16,
   "metadata": {},
   "outputs": [
    {
     "data": {
      "image/png": "[encoded data removed]",
      "text/plain": [
       "<Figure size 432x288 with 1 Axes>"
      ]
     },
     "metadata": {
      "needs_background": "light"
     },
     "output_type": "display_data"
    }
   ],
   "source": [
    "# plot PRMSE and R2 ranks only\n",
    "df_r2_prmse_ranks_long = df_all_ranks_long[df_all_ranks_long['metric'].isin(['R2', 'PRMSE'])]\n",
    "ax = sns.boxplot(x='system_category',\n",
    "                 y='rank_diff',\n",
    "                 hue='metric',\n",
    "                 hue_order=['R2', 'PRMSE'],\n",
    "                 data=df_r2_prmse_ranks_long,)\n",
    "ax.set_xlabel('system category')\n",
    "ax.set_ylabel('rank')\n",
    "plt.savefig(figure_dir / 'prmse_comparison.png')\n",
    "plt.show()"
   ]
  },
  {
   "cell_type": "markdown",
   "metadata": {},
   "source": [
    "Again, this plot shows that PRMSE is much better behaved when it comes to comparing/ranking systems than $R^2$."
   ]
  }
 ],
 "metadata": {
  "kernelspec": {
   "display_name": "prmse",
   "language": "python",
   "name": "prmse"
  },
  "language_info": {
   "codemirror_mode": {
    "name": "ipython",
    "version": 3
   },
   "file_extension": ".py",
   "mimetype": "text/x-python",
   "name": "python",
   "nbconvert_exporter": "python",
   "pygments_lexer": "ipython3",
   "version": "3.7.6"
  }
 },
 "nbformat": 4,
 "nbformat_minor": 4
}
