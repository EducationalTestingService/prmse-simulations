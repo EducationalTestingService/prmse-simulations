{
 "cells": [
  {
   "cell_type": "markdown",
   "metadata": {},
   "source": [
    "# Experiment 1A2H\n",
    "\n",
    "Randomly sample 2 raters N times. \n",
    "Evaluate automated scores against different pairs of raters. \n",
    "Show wide spread in r but more stable PRMSE. Hopefully it will be close to what we know to be true PRMSE. "
   ]
  },
  {
   "cell_type": "code",
   "execution_count": 10,
   "metadata": {},
   "outputs": [],
   "source": [
    "import pandas as pd\n",
    "import seaborn as sns\n",
    "from scipy.stats import pearsonr\n",
    "from sklearn.metrics import r2_score\n",
    "\n",
    "import numpy as np\n",
    "\n",
    "import itertools\n",
    "\n",
    "from rsmtool.prmse_utils import compute_prmse\n",
    "\n",
    "import json\n",
    "\n",
    "%matplotlib inline"
   ]
  },
  {
   "cell_type": "code",
   "execution_count": 11,
   "metadata": {},
   "outputs": [],
   "source": [
    "config = json.load(open('settings.json'))\n",
    "N_responses = config['N_responses']\n",
    "N_raters = config['N_raters']"
   ]
  },
  {
   "cell_type": "code",
   "execution_count": 12,
   "metadata": {},
   "outputs": [],
   "source": [
    "df = pd.read_csv('../data/data.csv')\n",
    "df['system'] = df['sys_7']"
   ]
  },
  {
   "cell_type": "code",
   "execution_count": 13,
   "metadata": {},
   "outputs": [],
   "source": [
    "# generate all possible pairs of raters\n",
    "raters = ['h_{}'.format(h) for h in range(1, N_raters+1)]\n",
    "# we do the following to keep the array unidimensional\n",
    "rater_pairs = ['{}+{}'.format(p[0], p[1]) for p in itertools.combinations(raters, 2)]"
   ]
  },
  {
   "cell_type": "code",
   "execution_count": 14,
   "metadata": {},
   "outputs": [],
   "source": [
    "# randomly sample X pairs\n",
    "N_pairs = 100\n",
    "np.random.seed(100)\n",
    "selected_pairs = np.random.choice(rater_pairs, N_pairs, replace=False)"
   ]
  },
  {
   "cell_type": "code",
   "execution_count": 15,
   "metadata": {},
   "outputs": [],
   "source": [
    "# we make one long DF to speed up computation\n",
    "data = []\n",
    "for p in selected_pairs:\n",
    "    (h1, h2) = p.split('+')\n",
    "    df_p = pd.DataFrame({'pair': p,\n",
    "                          'h1': df[h1],\n",
    "                          'h2': df[h2],\n",
    "                          'system': df['system']})\n",
    "    data.append(df_p)\n",
    "df_long = pd.concat(data)"
   ]
  },
  {
   "cell_type": "code",
   "execution_count": 16,
   "metadata": {},
   "outputs": [],
   "source": [
    "# compute mean score\n",
    "df_long['h_mean'] = (df_long['h1'] + df_long['h2'])/2"
   ]
  },
  {
   "cell_type": "markdown",
   "metadata": {},
   "source": [
    "## Correlations"
   ]
  },
  {
   "cell_type": "code",
   "execution_count": 17,
   "metadata": {},
   "outputs": [
    {
     "data": {
      "text/plain": [
       "0.8093209148854923"
      ]
     },
     "execution_count": 17,
     "metadata": {},
     "output_type": "execute_result"
    }
   ],
   "source": [
    "true_corr = pearsonr(df['system'], df['true'])[0]\n",
    "true_corr"
   ]
  },
  {
   "cell_type": "code",
   "execution_count": 18,
   "metadata": {},
   "outputs": [
    {
     "data": {
      "text/plain": [
       "100"
      ]
     },
     "execution_count": 18,
     "metadata": {},
     "output_type": "execute_result"
    }
   ],
   "source": [
    "# let's compute correlations\n",
    "df_corr = df_long.groupby('pair').corr().unstack().sort_values(by=('h1', 'h2'))\n",
    "df_corr.columns = ['_'.join(col) for col in df_corr.columns]\n",
    "len(df_corr)"
   ]
  },
  {
   "cell_type": "code",
   "execution_count": 19,
   "metadata": {},
   "outputs": [
    {
     "data": {
      "text/plain": [
       "<seaborn.axisgrid.FacetGrid at 0x11e0a24d0>"
      ]
     },
     "execution_count": 19,
     "metadata": {},
     "output_type": "execute_result"
    },
    {
     "data": {
      "image/png": "[encoded data removed]",
      "text/plain": [
       "<Figure size 360x360 with 1 Axes>"
      ]
     },
     "metadata": {
      "needs_background": "light"
     },
     "output_type": "display_data"
    }
   ],
   "source": [
    "sns.lmplot(x='h1_h2', y='h_mean_system', data=df_corr, fit_reg=False)"
   ]
  },
  {
   "cell_type": "markdown",
   "metadata": {},
   "source": [
    "## R2"
   ]
  },
  {
   "cell_type": "code",
   "execution_count": 20,
   "metadata": {},
   "outputs": [
    {
     "data": {
      "text/plain": [
       "0.4767431000540935"
      ]
     },
     "execution_count": 20,
     "metadata": {},
     "output_type": "execute_result"
    }
   ],
   "source": [
    "# baseline: system r2 with true score.\n",
    "true_r2 = r2_score(df['true'], df['system'])\n",
    "true_r2"
   ]
  },
  {
   "cell_type": "code",
   "execution_count": 21,
   "metadata": {},
   "outputs": [],
   "source": [
    "df_r2 = pd.DataFrame(df_long.groupby('pair').apply(lambda x: r2_score(x['h_mean'], x['system'])))\n",
    "df_r2.columns=['value']\n",
    "df_r2['Metrics'] = 'R2_mean'"
   ]
  },
  {
   "cell_type": "code",
   "execution_count": 22,
   "metadata": {},
   "outputs": [],
   "source": [
    "df_r2_h1 = pd.DataFrame(df_long.groupby('pair').apply(lambda x: r2_score(x['h1'], x['system'])))\n",
    "df_r2_h1.columns=['value']\n",
    "df_r2_h1['Metrics'] = 'R2_h1'"
   ]
  },
  {
   "cell_type": "code",
   "execution_count": 23,
   "metadata": {},
   "outputs": [],
   "source": [
    "df_prmse_all = df_long.groupby('pair').apply(lambda x: compute_prmse(x,\n",
    "                                                                 system_score_columns=['system'],\n",
    "                                                                 h1_column='h1',\n",
    "                                                                 h2_column='h2')).reset_index(level=1, drop=True)\n",
    "df_prmse = df_prmse_all[['prmse_true']].copy()\n",
    "df_prmse.columns = ['value']\n",
    "df_prmse['Metrics'] = 'PRMSE'"
   ]
  },
  {
   "cell_type": "code",
   "execution_count": 24,
   "metadata": {},
   "outputs": [],
   "source": [
    "df_res = pd.concat([df_r2, df_prmse], sort=True)"
   ]
  },
  {
   "cell_type": "code",
   "execution_count": 25,
   "metadata": {},
   "outputs": [
    {
     "data": {
      "text/plain": [
       "<matplotlib.lines.Line2D at 0x120196550>"
      ]
     },
     "execution_count": 25,
     "metadata": {},
     "output_type": "execute_result"
    },
    {
     "data": {
      "image/png": "[encoded data removed]",
      "text/plain": [
       "<Figure size 432x288 with 1 Axes>"
      ]
     },
     "metadata": {
      "needs_background": "light"
     },
     "output_type": "display_data"
    }
   ],
   "source": [
    "ax=sns.boxplot(x='Metrics', y='value', data=df_res)\n",
    "ax.axhline(true_r2, color='red')"
   ]
  },
  {
   "cell_type": "code",
   "execution_count": 26,
   "metadata": {},
   "outputs": [
    {
     "data": {
      "text/html": [
       "<div>\n",
       "<style scoped>\n",
       "    .dataframe tbody tr th:only-of-type {\n",
       "        vertical-align: middle;\n",
       "    }\n",
       "\n",
       "    .dataframe tbody tr th {\n",
       "        vertical-align: top;\n",
       "    }\n",
       "\n",
       "    .dataframe thead th {\n",
       "        text-align: right;\n",
       "    }\n",
       "</style>\n",
       "<table border=\"1\" class=\"dataframe\">\n",
       "  <thead>\n",
       "    <tr style=\"text-align: right;\">\n",
       "      <th></th>\n",
       "      <th>count</th>\n",
       "      <th>mean</th>\n",
       "      <th>std</th>\n",
       "      <th>min</th>\n",
       "      <th>25%</th>\n",
       "      <th>50%</th>\n",
       "      <th>75%</th>\n",
       "      <th>max</th>\n",
       "    </tr>\n",
       "    <tr>\n",
       "      <th>Metrics</th>\n",
       "      <th></th>\n",
       "      <th></th>\n",
       "      <th></th>\n",
       "      <th></th>\n",
       "      <th></th>\n",
       "      <th></th>\n",
       "      <th></th>\n",
       "      <th></th>\n",
       "    </tr>\n",
       "  </thead>\n",
       "  <tbody>\n",
       "    <tr>\n",
       "      <th>PRMSE</th>\n",
       "      <td>100.0</td>\n",
       "      <td>0.482192</td>\n",
       "      <td>0.019159</td>\n",
       "      <td>0.436578</td>\n",
       "      <td>0.473486</td>\n",
       "      <td>0.483084</td>\n",
       "      <td>0.496483</td>\n",
       "      <td>0.529058</td>\n",
       "    </tr>\n",
       "    <tr>\n",
       "      <th>R2_mean</th>\n",
       "      <td>100.0</td>\n",
       "      <td>0.324230</td>\n",
       "      <td>0.064487</td>\n",
       "      <td>0.212124</td>\n",
       "      <td>0.279896</td>\n",
       "      <td>0.310500</td>\n",
       "      <td>0.391212</td>\n",
       "      <td>0.430442</td>\n",
       "    </tr>\n",
       "  </tbody>\n",
       "</table>\n",
       "</div>"
      ],
      "text/plain": [
       "         count      mean       std       min       25%       50%       75%  \\\n",
       "Metrics                                                                      \n",
       "PRMSE    100.0  0.482192  0.019159  0.436578  0.473486  0.483084  0.496483   \n",
       "R2_mean  100.0  0.324230  0.064487  0.212124  0.279896  0.310500  0.391212   \n",
       "\n",
       "              max  \n",
       "Metrics            \n",
       "PRMSE    0.529058  \n",
       "R2_mean  0.430442  "
      ]
     },
     "execution_count": 26,
     "metadata": {},
     "output_type": "execute_result"
    }
   ],
   "source": [
    "df_res.groupby('Metrics')['value'].describe()"
   ]
  },
  {
   "cell_type": "code",
   "execution_count": 27,
   "metadata": {},
   "outputs": [
    {
     "data": {
      "text/plain": [
       "200"
      ]
     },
     "execution_count": 27,
     "metadata": {},
     "output_type": "execute_result"
    }
   ],
   "source": [
    "df_with_h = pd.merge(df_res, df_corr, right_index=True, left_index=True)\n",
    "len(df_with_h)"
   ]
  },
  {
   "cell_type": "code",
   "execution_count": 28,
   "metadata": {},
   "outputs": [
    {
     "data": {
      "text/plain": [
       "<matplotlib.lines.Line2D at 0x1201b0a50>"
      ]
     },
     "execution_count": 28,
     "metadata": {},
     "output_type": "execute_result"
    },
    {
     "data": {
      "image/png": "[encoded data removed]",
      "text/plain": [
       "<Figure size 432x288 with 1 Axes>"
      ]
     },
     "metadata": {
      "needs_background": "light"
     },
     "output_type": "display_data"
    }
   ],
   "source": [
    "ax = sns.scatterplot(x='h1_h2', y='value', hue=\"Metrics\", data=df_with_h.sort_values('value'))\n",
    "ax.axhline(true_r2, color='red')"
   ]
  }
 ],
 "metadata": {
  "kernelspec": {
   "display_name": "Python 3",
   "language": "python",
   "name": "python3"
  },
  "language_info": {
   "codemirror_mode": {
    "name": "ipython",
    "version": 3
   },
   "file_extension": ".py",
   "mimetype": "text/x-python",
   "name": "python",
   "nbconvert_exporter": "python",
   "pygments_lexer": "ipython3",
   "version": "3.7.6"
  }
 },
 "nbformat": 4,
 "nbformat_minor": 4
}
