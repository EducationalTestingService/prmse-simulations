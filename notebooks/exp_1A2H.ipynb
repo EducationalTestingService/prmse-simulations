{
 "cells": [
  {
   "cell_type": "markdown",
   "metadata": {},
   "source": [
    "# Experiment 1A2H\n",
    "\n",
    "Randomly sample 2 raters N times. \n",
    "Evaluate automated scores against different pairs of raters. \n",
    "Show wide spread in r but more stable PRMSE. Hopefully it will be close to what we know to be true PRMSE. "
   ]
  },
  {
   "cell_type": "code",
   "execution_count": 88,
   "metadata": {},
   "outputs": [],
   "source": [
    "import pandas as pd\n",
    "import seaborn as sns\n",
    "from scipy.stats import pearsonr\n",
    "from sklearn.metrics import r2_score\n",
    "\n",
    "import numpy as np\n",
    "\n",
    "import itertools\n",
    "\n",
    "from rsmtool.prmse_utils import compute_prmse"
   ]
  },
  {
   "cell_type": "code",
   "execution_count": 37,
   "metadata": {},
   "outputs": [],
   "source": [
    "df = pd.read_csv('../data/data.csv')\n",
    "N_raters = 1000\n",
    "df['system'] = df['sys_7']"
   ]
  },
  {
   "cell_type": "code",
   "execution_count": 3,
   "metadata": {},
   "outputs": [
    {
     "data": {
      "text/html": [
       "<div>\n",
       "<style scoped>\n",
       "    .dataframe tbody tr th:only-of-type {\n",
       "        vertical-align: middle;\n",
       "    }\n",
       "\n",
       "    .dataframe tbody tr th {\n",
       "        vertical-align: top;\n",
       "    }\n",
       "\n",
       "    .dataframe thead th {\n",
       "        text-align: right;\n",
       "    }\n",
       "</style>\n",
       "<table border=\"1\" class=\"dataframe\">\n",
       "  <thead>\n",
       "    <tr style=\"text-align: right;\">\n",
       "      <th></th>\n",
       "      <th>id</th>\n",
       "      <th>true</th>\n",
       "      <th>h_0</th>\n",
       "      <th>h_1</th>\n",
       "      <th>h_2</th>\n",
       "      <th>h_3</th>\n",
       "      <th>h_4</th>\n",
       "      <th>h_5</th>\n",
       "      <th>h_6</th>\n",
       "      <th>h_7</th>\n",
       "      <th>...</th>\n",
       "      <th>sys_0</th>\n",
       "      <th>sys_1</th>\n",
       "      <th>sys_2</th>\n",
       "      <th>sys_3</th>\n",
       "      <th>sys_4</th>\n",
       "      <th>sys_5</th>\n",
       "      <th>sys_6</th>\n",
       "      <th>sys_7</th>\n",
       "      <th>sys_8</th>\n",
       "      <th>sys_9</th>\n",
       "    </tr>\n",
       "  </thead>\n",
       "  <tbody>\n",
       "    <tr>\n",
       "      <th>0</th>\n",
       "      <td>id_0</td>\n",
       "      <td>1.482912</td>\n",
       "      <td>2.0</td>\n",
       "      <td>2.0</td>\n",
       "      <td>2.0</td>\n",
       "      <td>1.0</td>\n",
       "      <td>1.0</td>\n",
       "      <td>1.0</td>\n",
       "      <td>1.0</td>\n",
       "      <td>2.0</td>\n",
       "      <td>...</td>\n",
       "      <td>1.662256</td>\n",
       "      <td>1.344181</td>\n",
       "      <td>-0.983512</td>\n",
       "      <td>1.542307</td>\n",
       "      <td>1.442852</td>\n",
       "      <td>0.696336</td>\n",
       "      <td>0.421272</td>\n",
       "      <td>1.655732</td>\n",
       "      <td>2.521383</td>\n",
       "      <td>1.348612</td>\n",
       "    </tr>\n",
       "    <tr>\n",
       "      <th>1</th>\n",
       "      <td>id_1</td>\n",
       "      <td>2.928792</td>\n",
       "      <td>3.0</td>\n",
       "      <td>3.0</td>\n",
       "      <td>3.0</td>\n",
       "      <td>3.0</td>\n",
       "      <td>0.0</td>\n",
       "      <td>3.0</td>\n",
       "      <td>4.0</td>\n",
       "      <td>3.0</td>\n",
       "      <td>...</td>\n",
       "      <td>2.992124</td>\n",
       "      <td>3.057749</td>\n",
       "      <td>4.357314</td>\n",
       "      <td>3.024483</td>\n",
       "      <td>2.913744</td>\n",
       "      <td>2.802713</td>\n",
       "      <td>3.428303</td>\n",
       "      <td>3.014486</td>\n",
       "      <td>3.718120</td>\n",
       "      <td>2.920634</td>\n",
       "    </tr>\n",
       "    <tr>\n",
       "      <th>2</th>\n",
       "      <td>id_2</td>\n",
       "      <td>3.488748</td>\n",
       "      <td>3.0</td>\n",
       "      <td>3.0</td>\n",
       "      <td>3.0</td>\n",
       "      <td>3.0</td>\n",
       "      <td>3.0</td>\n",
       "      <td>4.0</td>\n",
       "      <td>6.0</td>\n",
       "      <td>4.0</td>\n",
       "      <td>...</td>\n",
       "      <td>3.447440</td>\n",
       "      <td>3.491013</td>\n",
       "      <td>4.089049</td>\n",
       "      <td>3.422433</td>\n",
       "      <td>3.484840</td>\n",
       "      <td>3.004988</td>\n",
       "      <td>4.201792</td>\n",
       "      <td>3.672021</td>\n",
       "      <td>4.063527</td>\n",
       "      <td>3.454895</td>\n",
       "    </tr>\n",
       "    <tr>\n",
       "      <th>3</th>\n",
       "      <td>id_3</td>\n",
       "      <td>2.517567</td>\n",
       "      <td>2.0</td>\n",
       "      <td>3.0</td>\n",
       "      <td>2.0</td>\n",
       "      <td>3.0</td>\n",
       "      <td>2.0</td>\n",
       "      <td>3.0</td>\n",
       "      <td>3.0</td>\n",
       "      <td>3.0</td>\n",
       "      <td>...</td>\n",
       "      <td>2.472868</td>\n",
       "      <td>2.668394</td>\n",
       "      <td>1.135607</td>\n",
       "      <td>2.461948</td>\n",
       "      <td>2.515371</td>\n",
       "      <td>1.090372</td>\n",
       "      <td>2.306769</td>\n",
       "      <td>2.230356</td>\n",
       "      <td>3.482175</td>\n",
       "      <td>2.541851</td>\n",
       "    </tr>\n",
       "    <tr>\n",
       "      <th>4</th>\n",
       "      <td>id_4</td>\n",
       "      <td>3.370093</td>\n",
       "      <td>3.0</td>\n",
       "      <td>4.0</td>\n",
       "      <td>3.0</td>\n",
       "      <td>3.0</td>\n",
       "      <td>4.0</td>\n",
       "      <td>3.0</td>\n",
       "      <td>3.0</td>\n",
       "      <td>4.0</td>\n",
       "      <td>...</td>\n",
       "      <td>3.252322</td>\n",
       "      <td>3.379907</td>\n",
       "      <td>3.082338</td>\n",
       "      <td>3.295839</td>\n",
       "      <td>3.362012</td>\n",
       "      <td>5.035298</td>\n",
       "      <td>1.939673</td>\n",
       "      <td>3.389967</td>\n",
       "      <td>4.529199</td>\n",
       "      <td>3.338036</td>\n",
       "    </tr>\n",
       "  </tbody>\n",
       "</table>\n",
       "<p>5 rows × 1012 columns</p>\n",
       "</div>"
      ],
      "text/plain": [
       "     id      true  h_0  h_1  h_2  h_3  h_4  h_5  h_6  h_7    ...        sys_0  \\\n",
       "0  id_0  1.482912  2.0  2.0  2.0  1.0  1.0  1.0  1.0  2.0    ...     1.662256   \n",
       "1  id_1  2.928792  3.0  3.0  3.0  3.0  0.0  3.0  4.0  3.0    ...     2.992124   \n",
       "2  id_2  3.488748  3.0  3.0  3.0  3.0  3.0  4.0  6.0  4.0    ...     3.447440   \n",
       "3  id_3  2.517567  2.0  3.0  2.0  3.0  2.0  3.0  3.0  3.0    ...     2.472868   \n",
       "4  id_4  3.370093  3.0  4.0  3.0  3.0  4.0  3.0  3.0  4.0    ...     3.252322   \n",
       "\n",
       "      sys_1     sys_2     sys_3     sys_4     sys_5     sys_6     sys_7  \\\n",
       "0  1.344181 -0.983512  1.542307  1.442852  0.696336  0.421272  1.655732   \n",
       "1  3.057749  4.357314  3.024483  2.913744  2.802713  3.428303  3.014486   \n",
       "2  3.491013  4.089049  3.422433  3.484840  3.004988  4.201792  3.672021   \n",
       "3  2.668394  1.135607  2.461948  2.515371  1.090372  2.306769  2.230356   \n",
       "4  3.379907  3.082338  3.295839  3.362012  5.035298  1.939673  3.389967   \n",
       "\n",
       "      sys_8     sys_9  \n",
       "0  2.521383  1.348612  \n",
       "1  3.718120  2.920634  \n",
       "2  4.063527  3.454895  \n",
       "3  3.482175  2.541851  \n",
       "4  4.529199  3.338036  \n",
       "\n",
       "[5 rows x 1012 columns]"
      ]
     },
     "execution_count": 3,
     "metadata": {},
     "output_type": "execute_result"
    }
   ],
   "source": [
    "df.head()"
   ]
  },
  {
   "cell_type": "code",
   "execution_count": 30,
   "metadata": {},
   "outputs": [],
   "source": [
    "# generate all possible pairs of raters\n",
    "raters = ['h_{}'.format(h) for h in range(0, N_raters)]\n",
    "# we do the following to keep the array unidimensional\n",
    "rater_pairs = ['{}+{}'.format(p[0], p[1]) for p in itertools.combinations(raters, 2)]"
   ]
  },
  {
   "cell_type": "code",
   "execution_count": 33,
   "metadata": {},
   "outputs": [],
   "source": [
    "# randomly sample X pairs\n",
    "N_pairs = 100\n",
    "np.random.seed(100)\n",
    "selected_pairs = np.random.choice(rater_pairs, N_pairs, replace=False)"
   ]
  },
  {
   "cell_type": "code",
   "execution_count": 39,
   "metadata": {},
   "outputs": [
    {
     "data": {
      "text/plain": [
       "1000000"
      ]
     },
     "execution_count": 39,
     "metadata": {},
     "output_type": "execute_result"
    }
   ],
   "source": [
    "# we make one long DF to speed up computation\n",
    "data = []\n",
    "for p in selected_pairs:\n",
    "    (h1, h2) = p.split('+')\n",
    "    df_p = pd.DataFrame({'pair': p,\n",
    "                          'h1': df[h1],\n",
    "                          'h2': df[h2],\n",
    "                          'system': df['system']})\n",
    "    data.append(df_p)\n",
    "df_long = pd.concat(data)"
   ]
  },
  {
   "cell_type": "code",
   "execution_count": 79,
   "metadata": {},
   "outputs": [],
   "source": [
    "# compute mean score\n",
    "df_long['h_mean'] = (df_long['h1'] + df_long['h2'])/2"
   ]
  },
  {
   "cell_type": "markdown",
   "metadata": {},
   "source": [
    "## Correlations"
   ]
  },
  {
   "cell_type": "code",
   "execution_count": 81,
   "metadata": {},
   "outputs": [
    {
     "data": {
      "text/plain": [
       "0.812704770910964"
      ]
     },
     "execution_count": 81,
     "metadata": {},
     "output_type": "execute_result"
    }
   ],
   "source": [
    "true_corr = pearsonr(df['system'], df['true'])[0]\n",
    "true_corr"
   ]
  },
  {
   "cell_type": "code",
   "execution_count": 82,
   "metadata": {},
   "outputs": [
    {
     "data": {
      "text/plain": [
       "100"
      ]
     },
     "execution_count": 82,
     "metadata": {},
     "output_type": "execute_result"
    }
   ],
   "source": [
    "# let's compute correlations\n",
    "df_corr = df_long.groupby('pair').corr().unstack().sort_values(by=('h1', 'h2'))\n",
    "df_corr.columns = ['_'.join(col) for col in df_corr.columns]\n",
    "len(df_corr)"
   ]
  },
  {
   "cell_type": "code",
   "execution_count": 83,
   "metadata": {},
   "outputs": [
    {
     "data": {
      "text/plain": [
       "<seaborn.axisgrid.FacetGrid at 0x11d8ee810>"
      ]
     },
     "execution_count": 83,
     "metadata": {},
     "output_type": "execute_result"
    },
    {
     "data": {
      "image/png": "[encoded data removed]",
      "text/plain": [
       "<Figure size 360x360 with 1 Axes>"
      ]
     },
     "metadata": {
      "needs_background": "light"
     },
     "output_type": "display_data"
    }
   ],
   "source": [
    "sns.lmplot(x='h1_h2', y='h_mean_system', data=df_corr, fit_reg=False)"
   ]
  },
  {
   "cell_type": "markdown",
   "metadata": {},
   "source": [
    "## R2"
   ]
  },
  {
   "cell_type": "code",
   "execution_count": 84,
   "metadata": {},
   "outputs": [
    {
     "data": {
      "text/plain": [
       "0.4806429504711086"
      ]
     },
     "execution_count": 84,
     "metadata": {},
     "output_type": "execute_result"
    }
   ],
   "source": [
    "# baseline: system r2 with true score.\n",
    "true_r2 = r2_score(df['true'], df['system'])\n",
    "true_r2"
   ]
  },
  {
   "cell_type": "code",
   "execution_count": 120,
   "metadata": {},
   "outputs": [],
   "source": [
    "df_r2 = pd.DataFrame(df_long.groupby('pair').apply(lambda x: r2_score(x['h_mean'], x['system'])))\n",
    "df_r2.columns=['value']\n",
    "df_r2['Metrics'] = 'R2'"
   ]
  },
  {
   "cell_type": "code",
   "execution_count": 121,
   "metadata": {},
   "outputs": [],
   "source": [
    "df_prmse_all = df_long.groupby('pair').apply(lambda x: compute_prmse(x,\n",
    "                                                                 system_score_columns=['system'],\n",
    "                                                                 h1_column='h1',\n",
    "                                                                 h2_column='h2')).reset_index(level=1, drop=True)\n",
    "df_prmse = df_prmse_all[['prmse_true']].copy()\n",
    "df_prmse.columns = ['value']\n",
    "df_prmse['Metrics'] = 'PRMSE'"
   ]
  },
  {
   "cell_type": "code",
   "execution_count": 122,
   "metadata": {},
   "outputs": [],
   "source": [
    "df_res = pd.concat([df_r2, df_prmse], sort=True)"
   ]
  },
  {
   "cell_type": "code",
   "execution_count": 126,
   "metadata": {},
   "outputs": [
    {
     "data": {
      "text/plain": [
       "<matplotlib.lines.Line2D at 0x1262fef10>"
      ]
     },
     "execution_count": 126,
     "metadata": {},
     "output_type": "execute_result"
    },
    {
     "data": {
      "image/png": "[encoded data removed]",
      "text/plain": [
       "<Figure size 432x288 with 1 Axes>"
      ]
     },
     "metadata": {
      "needs_background": "light"
     },
     "output_type": "display_data"
    }
   ],
   "source": [
    "ax=sns.boxplot(x='Metrics', y='value', data=df_res)\n",
    "ax.axhline(true_r2, color='red')"
   ]
  },
  {
   "cell_type": "code",
   "execution_count": 127,
   "metadata": {},
   "outputs": [
    {
     "data": {
      "text/html": [
       "<div>\n",
       "<style scoped>\n",
       "    .dataframe tbody tr th:only-of-type {\n",
       "        vertical-align: middle;\n",
       "    }\n",
       "\n",
       "    .dataframe tbody tr th {\n",
       "        vertical-align: top;\n",
       "    }\n",
       "\n",
       "    .dataframe thead th {\n",
       "        text-align: right;\n",
       "    }\n",
       "</style>\n",
       "<table border=\"1\" class=\"dataframe\">\n",
       "  <thead>\n",
       "    <tr style=\"text-align: right;\">\n",
       "      <th></th>\n",
       "      <th>count</th>\n",
       "      <th>mean</th>\n",
       "      <th>std</th>\n",
       "      <th>min</th>\n",
       "      <th>25%</th>\n",
       "      <th>50%</th>\n",
       "      <th>75%</th>\n",
       "      <th>max</th>\n",
       "    </tr>\n",
       "    <tr>\n",
       "      <th>Metrics</th>\n",
       "      <th></th>\n",
       "      <th></th>\n",
       "      <th></th>\n",
       "      <th></th>\n",
       "      <th></th>\n",
       "      <th></th>\n",
       "      <th></th>\n",
       "      <th></th>\n",
       "    </tr>\n",
       "  </thead>\n",
       "  <tbody>\n",
       "    <tr>\n",
       "      <th>PRMSE</th>\n",
       "      <td>100.0</td>\n",
       "      <td>0.478848</td>\n",
       "      <td>0.017787</td>\n",
       "      <td>0.447990</td>\n",
       "      <td>0.465365</td>\n",
       "      <td>0.480751</td>\n",
       "      <td>0.489214</td>\n",
       "      <td>0.521781</td>\n",
       "    </tr>\n",
       "    <tr>\n",
       "      <th>R2</th>\n",
       "      <td>100.0</td>\n",
       "      <td>0.335277</td>\n",
       "      <td>0.065578</td>\n",
       "      <td>0.207647</td>\n",
       "      <td>0.283785</td>\n",
       "      <td>0.316479</td>\n",
       "      <td>0.394589</td>\n",
       "      <td>0.434041</td>\n",
       "    </tr>\n",
       "  </tbody>\n",
       "</table>\n",
       "</div>"
      ],
      "text/plain": [
       "         count      mean       std       min       25%       50%       75%  \\\n",
       "Metrics                                                                      \n",
       "PRMSE    100.0  0.478848  0.017787  0.447990  0.465365  0.480751  0.489214   \n",
       "R2       100.0  0.335277  0.065578  0.207647  0.283785  0.316479  0.394589   \n",
       "\n",
       "              max  \n",
       "Metrics            \n",
       "PRMSE    0.521781  \n",
       "R2       0.434041  "
      ]
     },
     "execution_count": 127,
     "metadata": {},
     "output_type": "execute_result"
    }
   ],
   "source": [
    "df_res.groupby('Metrics')['value'].describe()"
   ]
  },
  {
   "cell_type": "code",
   "execution_count": 131,
   "metadata": {},
   "outputs": [
    {
     "data": {
      "text/plain": [
       "200"
      ]
     },
     "execution_count": 131,
     "metadata": {},
     "output_type": "execute_result"
    }
   ],
   "source": [
    "df_with_h = pd.merge(df_res, df_corr, right_index=True, left_index=True)\n",
    "len(df_with_h)"
   ]
  },
  {
   "cell_type": "code",
   "execution_count": null,
   "metadata": {},
   "outputs": [],
   "source": [
    "ax = sns.catplot(x='h1_h2', y='value', hue=\"Metrics\", data=df_with_h)\n",
    "ax.axhline(true_r2, color='red')"
   ]
  }
 ],
 "metadata": {
  "kernelspec": {
   "display_name": "Python 3",
   "language": "python",
   "name": "python3"
  },
  "language_info": {
   "codemirror_mode": {
    "name": "ipython",
    "version": 3
   },
   "file_extension": ".py",
   "mimetype": "text/x-python",
   "name": "python",
   "nbconvert_exporter": "python",
   "pygments_lexer": "ipython3",
   "version": "3.7.6"
  }
 },
 "nbformat": 4,
 "nbformat_minor": 4
}
