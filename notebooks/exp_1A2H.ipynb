{
 "cells": [
  {
   "cell_type": "markdown",
   "metadata": {},
   "source": [
    "# One system evaluated against multiple pairs of raters\n",
    "\n",
    "In this notebook we show:\n",
    "\n",
    "1. The evaluations for a single system can give very different results depending on the pair of human raters used to do the evaluations. \n",
    "\n",
    "2. Prmse gives stable results across different pairs of raters. "
   ]
  },
  {
   "cell_type": "code",
   "execution_count": 1,
   "metadata": {},
   "outputs": [],
   "source": [
    "import pandas as pd\n",
    "import seaborn as sns\n",
    "from scipy.stats import pearsonr\n",
    "from sklearn.metrics import r2_score\n",
    "\n",
    "from matplotlib import pyplot as plt\n",
    "\n",
    "import numpy as np\n",
    "\n",
    "import itertools\n",
    "\n",
    "from pathlib import Path\n",
    "\n",
    "from rsmtool.utils.prmse import prmse_true\n",
    "from rsmtool.analyzer import Analyzer\n",
    "\n",
    "import json\n",
    "\n",
    "%matplotlib inline"
   ]
  },
  {
   "cell_type": "code",
   "execution_count": 2,
   "metadata": {},
   "outputs": [],
   "source": [
    "# let's define some settings and read the data\n",
    "config = json.load(open('settings.json'))\n",
    "fig_dir = Path('../paper_overleaf/figures')\n",
    "df = pd.read_csv('../data/data.csv')\n",
    "df_raters = pd.read_csv('../data/raters.csv')\n",
    "metrics_dict = json.load(open('metrics_dict.json')) # the dictionary with metrics name we'll use for plots\n",
    "df['system'] = df[config['sample_system']] # we use one sample system as defined in the config"
   ]
  },
  {
   "cell_type": "code",
   "execution_count": 3,
   "metadata": {},
   "outputs": [],
   "source": [
    "def generate_rater_pairs_for_group(df_group, n_pairs):\n",
    "    '''Generate a given number of random pairs of raters\n",
    "    from the dataframe'''\n",
    "    raters = df_group['rater_id']\n",
    "    # get all possible rater pairs\n",
    "    rater_pairs = ['{}+{}'.format(p[0], p[1]) for p in itertools.combinations(raters, 2)]\n",
    "    np.random.seed(100)\n",
    "    selected_pairs = np.random.choice(rater_pairs, n_pairs, replace=False)\n",
    "    return selected_pairs"
   ]
  },
  {
   "cell_type": "code",
   "execution_count": 4,
   "metadata": {},
   "outputs": [],
   "source": [
    "# randomly sample 50 pairs for each group\n",
    "selected_pairs = df_raters.groupby('category').apply(generate_rater_pairs_for_group, n_pairs=50)\n",
    "pair_dict = selected_pairs.to_dict()"
   ]
  },
  {
   "cell_type": "code",
   "execution_count": 5,
   "metadata": {},
   "outputs": [],
   "source": [
    "# we create one long dataframe to speed up computation\n",
    "data = []\n",
    "for category in pair_dict:\n",
    "    pairs = pair_dict[category]\n",
    "    for p in pairs:\n",
    "        (h1, h2) = p.split('+')\n",
    "        df_p = pd.DataFrame({'pair': p, # pair id\n",
    "                             'category': category, # category (quality of human agreement)\n",
    "                              'h1': df[h1], # scores from rater 1\n",
    "                              'h2': df[h2], # scores from rater 2\n",
    "                              'system': df['system'], # system scores\n",
    "                              'hh_corr': pearsonr(df[h1], df[h2])[0]}) # correlation between two humans\n",
    "        data.append(df_p)\n",
    "    df_long = pd.concat(data)"
   ]
  },
  {
   "cell_type": "code",
   "execution_count": 6,
   "metadata": {},
   "outputs": [],
   "source": [
    "# compute average human score for each response\n",
    "df_long['h_mean'] = (df_long['h1'] + df_long['h2'])/2"
   ]
  },
  {
   "cell_type": "markdown",
   "metadata": {},
   "source": [
    "## Conventional metrics\n",
    "\n",
    "Now let's compute various conventional metrics between the system score and the average human score for each pair of raters."
   ]
  },
  {
   "cell_type": "code",
   "execution_count": 35,
   "metadata": {},
   "outputs": [],
   "source": [
    "df_metrics_mean = df_long.groupby('pair').apply(lambda x: Analyzer.metrics_helper(x['h_mean'],\n",
    "                                                                             x['system']))\n",
    "df_metrics_mean['reference'] = 'h1-h2 mean'"
   ]
  },
  {
   "cell_type": "code",
   "execution_count": 22,
   "metadata": {},
   "outputs": [],
   "source": [
    "# now let's compute agreement with r1\n",
    "df_metrics_r1 = df_long.groupby('pair').apply(lambda x: Analyzer.metrics_helper(x['h1'],\n",
    "                                                                             x['system']))\n",
    "df_metrics_r1['reference']='h1'"
   ]
  },
  {
   "cell_type": "code",
   "execution_count": 36,
   "metadata": {},
   "outputs": [],
   "source": [
    "df_metrics = pd.concat([df_metrics_mean, df_metrics_r1])"
   ]
  },
  {
   "cell_type": "code",
   "execution_count": 37,
   "metadata": {},
   "outputs": [
    {
     "data": {
      "text/plain": [
       "400"
      ]
     },
     "execution_count": 37,
     "metadata": {},
     "output_type": "execute_result"
    }
   ],
   "source": [
    "# now let's add rater category to this data\n",
    "df_metrics_with_category = pd.merge(df_metrics, df_long[['pair', 'category', 'hh_corr']].drop_duplicates(), \n",
    "                                    left_index=True, right_on='pair')\n",
    "len(df_metrics_with_category)"
   ]
  },
  {
   "cell_type": "code",
   "execution_count": 38,
   "metadata": {},
   "outputs": [],
   "source": [
    "# we also add degradation since it's not computed by the metrics_helper\n",
    "df_metrics_with_category['degradation'] = df_metrics_with_category['corr'] - df_metrics_with_category['hh_corr']"
   ]
  },
  {
   "cell_type": "code",
   "execution_count": 39,
   "metadata": {},
   "outputs": [],
   "source": [
    "# now let's rename the metrics to something more user friendly and \n",
    "# convert the dataframe to long format\n",
    "\n",
    "df_metrics_with_category = df_metrics_with_category.rename(columns=metrics_dict)\n",
    "\n",
    "df_metrics = df_metrics_with_category.melt(id_vars = ['hh_corr', 'category', 'reference'],\n",
    "                                           value_vars = ['QWK', 'r', 'R2', 'degradation'], \n",
    "                                           var_name='metrics',\n",
    "                                           value_name='value')"
   ]
  },
  {
   "cell_type": "code",
   "execution_count": 40,
   "metadata": {},
   "outputs": [
    {
     "data": {
      "image/png": "[encoded data removed]",
      "text/plain": [
       "<Figure size 1536.5x360 with 4 Axes>"
      ]
     },
     "metadata": {
      "needs_background": "light"
     },
     "output_type": "display_data"
    }
   ],
   "source": [
    "# generate first plot for the paper\n",
    "g = sns.catplot(x='category', y='value', kind='strip',\n",
    "                hue='reference',\n",
    "                col=\"metrics\", data=df_metrics,\n",
    "                col_order=['r', 'QWK', 'R2', 'degradation'],\n",
    "                order=config['rater_categories'],\n",
    "                sharey=False)\n",
    "g.savefig(fig_dir / 'pairs.png')"
   ]
  },
  {
   "cell_type": "markdown",
   "metadata": {},
   "source": [
    "## PRMSE\n",
    "\n",
    "Now we add PRMSE to the data and show how it helps keep the evaluation consistent across pairs. "
   ]
  },
  {
   "cell_type": "code",
   "execution_count": 13,
   "metadata": {},
   "outputs": [],
   "source": [
    "df_prmse = pd.DataFrame(df_long.groupby('pair').apply(lambda x: prmse_true(x['system'],\n",
    "                                                              x[['h1', 'h2']])))\n",
    "df_prmse.columns = ['value']\n",
    "df_prmse['metrics'] = 'PRMSE'"
   ]
  },
  {
   "cell_type": "code",
   "execution_count": 14,
   "metadata": {},
   "outputs": [
    {
     "data": {
      "text/plain": [
       "200"
      ]
     },
     "execution_count": 14,
     "metadata": {},
     "output_type": "execute_result"
    }
   ],
   "source": [
    "# add rater category info\n",
    "df_prmse_with_category = pd.merge(df_prmse, df_long[['pair', 'category', 'hh_corr']].drop_duplicates(), \n",
    "                                    left_index=True, right_on='pair')\n",
    "len(df_prmse_with_category)"
   ]
  },
  {
   "cell_type": "code",
   "execution_count": 15,
   "metadata": {},
   "outputs": [],
   "source": [
    "# combine this df with what we have for other metrics\n",
    "df_all_metrics = pd.concat([df_metrics, df_prmse_with_category], sort=True)"
   ]
  },
  {
   "cell_type": "code",
   "execution_count": 16,
   "metadata": {},
   "outputs": [
    {
     "data": {
      "text/html": [
       "<div>\n",
       "<style scoped>\n",
       "    .dataframe tbody tr th:only-of-type {\n",
       "        vertical-align: middle;\n",
       "    }\n",
       "\n",
       "    .dataframe tbody tr th {\n",
       "        vertical-align: top;\n",
       "    }\n",
       "\n",
       "    .dataframe thead th {\n",
       "        text-align: right;\n",
       "    }\n",
       "</style>\n",
       "<table border=\"1\" class=\"dataframe\">\n",
       "  <thead>\n",
       "    <tr style=\"text-align: right;\">\n",
       "      <th></th>\n",
       "      <th>count</th>\n",
       "      <th>mean</th>\n",
       "      <th>std</th>\n",
       "      <th>min</th>\n",
       "      <th>25%</th>\n",
       "      <th>50%</th>\n",
       "      <th>75%</th>\n",
       "      <th>max</th>\n",
       "    </tr>\n",
       "    <tr>\n",
       "      <th>metrics</th>\n",
       "      <th></th>\n",
       "      <th></th>\n",
       "      <th></th>\n",
       "      <th></th>\n",
       "      <th></th>\n",
       "      <th></th>\n",
       "      <th></th>\n",
       "      <th></th>\n",
       "    </tr>\n",
       "  </thead>\n",
       "  <tbody>\n",
       "    <tr>\n",
       "      <th>PRMSE</th>\n",
       "      <td>200.0</td>\n",
       "      <td>0.794141</td>\n",
       "      <td>0.009431</td>\n",
       "      <td>0.758263</td>\n",
       "      <td>0.789628</td>\n",
       "      <td>0.794766</td>\n",
       "      <td>0.798374</td>\n",
       "      <td>0.832655</td>\n",
       "    </tr>\n",
       "    <tr>\n",
       "      <th>QWK</th>\n",
       "      <td>200.0</td>\n",
       "      <td>0.775653</td>\n",
       "      <td>0.066055</td>\n",
       "      <td>0.671059</td>\n",
       "      <td>0.738151</td>\n",
       "      <td>0.785800</td>\n",
       "      <td>0.822165</td>\n",
       "      <td>0.859862</td>\n",
       "    </tr>\n",
       "    <tr>\n",
       "      <th>R2</th>\n",
       "      <td>200.0</td>\n",
       "      <td>0.583875</td>\n",
       "      <td>0.095180</td>\n",
       "      <td>0.435272</td>\n",
       "      <td>0.525517</td>\n",
       "      <td>0.592963</td>\n",
       "      <td>0.650083</td>\n",
       "      <td>0.713022</td>\n",
       "    </tr>\n",
       "    <tr>\n",
       "      <th>degradation</th>\n",
       "      <td>200.0</td>\n",
       "      <td>0.184248</td>\n",
       "      <td>0.085928</td>\n",
       "      <td>0.052719</td>\n",
       "      <td>0.131924</td>\n",
       "      <td>0.192429</td>\n",
       "      <td>0.245628</td>\n",
       "      <td>0.318442</td>\n",
       "    </tr>\n",
       "    <tr>\n",
       "      <th>r</th>\n",
       "      <td>200.0</td>\n",
       "      <td>0.778818</td>\n",
       "      <td>0.062477</td>\n",
       "      <td>0.680857</td>\n",
       "      <td>0.742459</td>\n",
       "      <td>0.786964</td>\n",
       "      <td>0.822486</td>\n",
       "      <td>0.860097</td>\n",
       "    </tr>\n",
       "  </tbody>\n",
       "</table>\n",
       "</div>"
      ],
      "text/plain": [
       "             count      mean       std       min       25%       50%  \\\n",
       "metrics                                                                \n",
       "PRMSE        200.0  0.794141  0.009431  0.758263  0.789628  0.794766   \n",
       "QWK          200.0  0.775653  0.066055  0.671059  0.738151  0.785800   \n",
       "R2           200.0  0.583875  0.095180  0.435272  0.525517  0.592963   \n",
       "degradation  200.0  0.184248  0.085928  0.052719  0.131924  0.192429   \n",
       "r            200.0  0.778818  0.062477  0.680857  0.742459  0.786964   \n",
       "\n",
       "                  75%       max  \n",
       "metrics                          \n",
       "PRMSE        0.798374  0.832655  \n",
       "QWK          0.822165  0.859862  \n",
       "R2           0.650083  0.713022  \n",
       "degradation  0.245628  0.318442  \n",
       "r            0.822486  0.860097  "
      ]
     },
     "execution_count": 16,
     "metadata": {},
     "output_type": "execute_result"
    }
   ],
   "source": [
    "# Print metrics statistics\n",
    "df_all_metrics.groupby('metrics')['value'].describe()"
   ]
  },
  {
   "cell_type": "code",
   "execution_count": 17,
   "metadata": {},
   "outputs": [
    {
     "data": {
      "image/png": "[encoded data removed]",
      "text/plain": [
       "<Figure size 432x288 with 1 Axes>"
      ]
     },
     "metadata": {
      "needs_background": "light"
     },
     "output_type": "display_data"
    }
   ],
   "source": [
    "# Plot PRMSE and R2\n",
    "ax = sns.stripplot(x='category', y='value', hue=\"metrics\",\n",
    "                  data=df_all_metrics[df_all_metrics['metrics'].isin(['R2', 'PRMSE'])])\n",
    "# we also add a line for r2 with true score\n",
    "true_r2 = r2_score(df['true'], df['system'])\n",
    "ax.axhline(true_r2, color='red')\n",
    "ax.set_title(\"R2 and PRMSE with pairs of raters for the same system\")\n",
    "ax.set_xlabel(\"H1-H2 agreement\");\n",
    "plt.savefig(fig_dir / 'prmse_single.png')"
   ]
  }
 ],
 "metadata": {
  "kernelspec": {
   "display_name": "Python 3",
   "language": "python",
   "name": "python3"
  },
  "language_info": {
   "codemirror_mode": {
    "name": "ipython",
    "version": 3
   },
   "file_extension": ".py",
   "mimetype": "text/x-python",
   "name": "python",
   "nbconvert_exporter": "python",
   "pygments_lexer": "ipython3",
   "version": "3.7.6"
  }
 },
 "nbformat": 4,
 "nbformat_minor": 4
}
