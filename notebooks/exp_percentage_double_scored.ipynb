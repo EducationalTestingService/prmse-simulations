{
 "cells": [
  {
   "cell_type": "markdown",
   "metadata": {},
   "source": [
    "# Digging further: Percentage double-scored\n",
    "\n",
    "In this notebook we look how PRMSE depends on % double-scored responses. \n",
    "We pick 100 rater pairs, sample different % of double-scored responses and compute PRMSE. "
   ]
  },
  {
   "cell_type": "code",
   "execution_count": 2,
   "metadata": {},
   "outputs": [],
   "source": [
    "import pandas as pd\n",
    "import seaborn as sns\n",
    "from scipy.stats import pearsonr\n",
    "from sklearn.metrics import r2_score\n",
    "import itertools\n",
    "import numpy as np\n",
    "\n",
    "import json\n",
    "\n",
    "from rsmtool.utils.prmse import prmse_true\n",
    "from rsmtool.analyzer import Analyzer\n",
    "\n",
    "from matplotlib import pyplot as plt\n",
    "\n",
    "from pathlib import Path\n",
    "\n",
    "%matplotlib inline"
   ]
  },
  {
   "cell_type": "code",
   "execution_count": 3,
   "metadata": {},
   "outputs": [],
   "source": [
    "# let's define some settings and read the data\n",
    "config = json.load(open('settings.json'))\n",
    "fig_dir = Path('../paper_overleaf/figures')\n",
    "df = pd.read_csv('../data/data.csv')\n",
    "df_raters = pd.read_csv('../data/raters.csv')\n",
    "metrics_dict = json.load(open('metrics_dict.json')) # the dictionary with metrics name we'll use for plots\n",
    "df['system'] = df[config['sample_system']] # we use one sample system as defined in the config"
   ]
  },
  {
   "cell_type": "code",
   "execution_count": 4,
   "metadata": {},
   "outputs": [],
   "source": [
    "human_columns = df_raters['rater_id'].values"
   ]
  },
  {
   "cell_type": "code",
   "execution_count": 5,
   "metadata": {},
   "outputs": [],
   "source": [
    "# generate pairs of raters for each group\n",
    "\n",
    "def generate_rater_pairs_for_group(df_group, n_pairs):\n",
    "    raters = df_group['rater_id']\n",
    "    # get all possible rater pairs\n",
    "    rater_pairs = ['{}+{}'.format(p[0], p[1]) for p in itertools.combinations(raters, 2)]\n",
    "    np.random.seed(100)\n",
    "    selected_pairs = np.random.choice(rater_pairs, n_pairs, replace=False)\n",
    "    return selected_pairs"
   ]
  },
  {
   "cell_type": "code",
   "execution_count": 6,
   "metadata": {},
   "outputs": [],
   "source": [
    "# randomly sample 50 pairs for each group\n",
    "selected_pairs = df_raters.groupby('category').apply(generate_rater_pairs_for_group, n_pairs=50)\n",
    "pair_dict = selected_pairs.to_dict()"
   ]
  },
  {
   "cell_type": "code",
   "execution_count": 7,
   "metadata": {},
   "outputs": [],
   "source": [
    "# we make one long DF to speed up computation\n",
    "data = []\n",
    "for c in df_raters['category'].unique():\n",
    "    pairs = pair_dict[c]\n",
    "    for p in pairs:\n",
    "        (h1, h2) = p.split('+')\n",
    "        df_p = pd.DataFrame({'pair': p,\n",
    "                              'h1': df[h1],\n",
    "                              'h2': df[h2],\n",
    "                              'system': df['system'], \n",
    "                              'true': df['true'],\n",
    "                              'category': c})\n",
    "        data.append(df_p)\n",
    "    df_long = pd.concat(data)"
   ]
  },
  {
   "cell_type": "code",
   "execution_count": 8,
   "metadata": {},
   "outputs": [
    {
     "name": "stdout",
     "output_type": "stream",
     "text": [
      "1\n",
      "2.5\n",
      "5\n",
      "10\n",
      "25\n",
      "50\n",
      "100\n"
     ]
    }
   ],
   "source": [
    "# let's now create a DF with different percentage double-scored\n",
    "perc_double_scored = [1, 2.5, 5, 10, 25, 50, 100]\n",
    "# we now create a df with this values\n",
    "np.random.seed(123)\n",
    "df_list = []\n",
    "for p in perc_double_scored:\n",
    "    print(p)\n",
    "    to_sample = int(p/100*len(df_long))\n",
    "    mask  = np.zeros(len(df_long), dtype=int)\n",
    "    mask[: to_sample]=1\n",
    "    np.random.shuffle(mask)\n",
    "    mask = mask.astype(bool)\n",
    "    df_double = df_long[mask].copy()\n",
    "    df_single = df_long[~mask].copy()\n",
    "    df_double['percentage'] = p\n",
    "    df_single['percentage'] = p\n",
    "    df_single['h2'] = None\n",
    "    df_list.extend([df_double, df_single])\n",
    "df_perc = pd.concat(df_list)\n",
    "df_perc['h1'] = pd.to_numeric(df_perc['h1'], errors='coerce')\n",
    "df_perc['h2'] = pd.to_numeric(df_perc['h2'], errors='coerce')"
   ]
  },
  {
   "cell_type": "code",
   "execution_count": 9,
   "metadata": {},
   "outputs": [
    {
     "data": {
      "text/plain": [
       "<matplotlib.axes._subplots.AxesSubplot at 0x124ca3b10>"
      ]
     },
     "execution_count": 9,
     "metadata": {},
     "output_type": "execute_result"
    },
    {
     "data": {
      "image/png": "[encoded data removed]",
      "text/plain": [
       "<Figure size 432x288 with 1 Axes>"
      ]
     },
     "metadata": {
      "needs_background": "light"
     },
     "output_type": "display_data"
    }
   ],
   "source": [
    "# A sanity check plot\n",
    "sns.boxplot(data=df_perc.groupby(['pair', 'percentage']).apply(lambda x: len(x[~x['h2'].isnull()])/len(x)*100).unstack())"
   ]
  },
  {
   "cell_type": "code",
   "execution_count": 10,
   "metadata": {},
   "outputs": [],
   "source": [
    "# now let's compute prmse. This can take a lot of time since we are computing over a large amount of data:\n",
    "# 200 pairs, 7 percentage points. \n",
    "df_prmse  = df_perc.groupby(['pair', 'percentage']).apply(lambda x: prmse_true(x['system'],\n",
    "                                                                               x[['h1', 'h2']])).reset_index()"
   ]
  },
  {
   "cell_type": "code",
   "execution_count": 11,
   "metadata": {},
   "outputs": [],
   "source": [
    "df_prmse.columns = ['pair', 'percentage', 'prmse']\n",
    "df_prmse['N double-scored'] = (df_prmse['percentage']*len(df)/100).astype(int)\n",
    "\n",
    "# add rater category\n",
    "df_prmse['h1'] = df_prmse['pair'].apply(lambda x: x.split(\"+\")[0])\n",
    "df_prmse_with_category = pd.merge(df_prmse, df_raters, left_on='h1', right_on='rater_id')"
   ]
  },
  {
   "cell_type": "code",
   "execution_count": 12,
   "metadata": {},
   "outputs": [
    {
     "data": {
      "image/png": "[encoded data removed]",
      "text/plain": [
       "<Figure size 432x288 with 1 Axes>"
      ]
     },
     "metadata": {
      "needs_background": "light"
     },
     "output_type": "display_data"
    }
   ],
   "source": [
    "# plot by category\n",
    "ax = sns.boxplot(x='N double-scored', y='prmse', hue='category',\n",
    "                 hue_order=config['rater_categories'],\n",
    "                 data=df_prmse_with_category)\n",
    "ax.set_xlabel(\"Number of double-scored responses\")\n",
    "ax.axhline(r2_score(df['true'], df['system']), color='black', ls=':')\n",
    "plt.savefig(fig_dir / 'percentage.png')"
   ]
  },
  {
   "cell_type": "code",
   "execution_count": 13,
   "metadata": {},
   "outputs": [
    {
     "data": {
      "text/plain": [
       "<matplotlib.lines.Line2D at 0x1211c1290>"
      ]
     },
     "execution_count": 13,
     "metadata": {},
     "output_type": "execute_result"
    },
    {
     "data": {
      "image/png": "[encoded data removed]",
      "text/plain": [
       "<Figure size 432x288 with 1 Axes>"
      ]
     },
     "metadata": {
      "needs_background": "light"
     },
     "output_type": "display_data"
    }
   ],
   "source": [
    "# do the same by percentage\n",
    "ax = sns.boxplot(x='category', y='prmse', hue='percentage',\n",
    "                 order=config['rater_categories'],\n",
    "                 data=df_prmse_with_category)\n",
    "ax.set_xlabel(\"Inter-rater agreement\")\n",
    "ax.axhline(r2_score(df['true'], df['system']), color='black', ls=':')\n",
    "#plt.savefig(fig_dir / 'percentage.png')"
   ]
  },
  {
   "cell_type": "code",
   "execution_count": 14,
   "metadata": {},
   "outputs": [
    {
     "data": {
      "text/html": [
       "<div>\n",
       "<style scoped>\n",
       "    .dataframe tbody tr th:only-of-type {\n",
       "        vertical-align: middle;\n",
       "    }\n",
       "\n",
       "    .dataframe tbody tr th {\n",
       "        vertical-align: top;\n",
       "    }\n",
       "\n",
       "    .dataframe thead th {\n",
       "        text-align: right;\n",
       "    }\n",
       "</style>\n",
       "<table border=\"1\" class=\"dataframe\">\n",
       "  <thead>\n",
       "    <tr style=\"text-align: right;\">\n",
       "      <th></th>\n",
       "      <th></th>\n",
       "      <th>count</th>\n",
       "      <th>mean</th>\n",
       "      <th>std</th>\n",
       "      <th>min</th>\n",
       "      <th>25%</th>\n",
       "      <th>50%</th>\n",
       "      <th>75%</th>\n",
       "      <th>max</th>\n",
       "    </tr>\n",
       "    <tr>\n",
       "      <th>category</th>\n",
       "      <th>percentage</th>\n",
       "      <th></th>\n",
       "      <th></th>\n",
       "      <th></th>\n",
       "      <th></th>\n",
       "      <th></th>\n",
       "      <th></th>\n",
       "      <th></th>\n",
       "      <th></th>\n",
       "    </tr>\n",
       "  </thead>\n",
       "  <tbody>\n",
       "    <tr>\n",
       "      <th rowspan=\"7\" valign=\"top\">average</th>\n",
       "      <th>1.0</th>\n",
       "      <td>50.0</td>\n",
       "      <td>0.797375</td>\n",
       "      <td>0.065570</td>\n",
       "      <td>0.690098</td>\n",
       "      <td>0.753711</td>\n",
       "      <td>0.793128</td>\n",
       "      <td>0.838146</td>\n",
       "      <td>0.976487</td>\n",
       "    </tr>\n",
       "    <tr>\n",
       "      <th>2.5</th>\n",
       "      <td>50.0</td>\n",
       "      <td>0.799307</td>\n",
       "      <td>0.041302</td>\n",
       "      <td>0.726475</td>\n",
       "      <td>0.771860</td>\n",
       "      <td>0.789150</td>\n",
       "      <td>0.822939</td>\n",
       "      <td>0.926200</td>\n",
       "    </tr>\n",
       "    <tr>\n",
       "      <th>5.0</th>\n",
       "      <td>50.0</td>\n",
       "      <td>0.795292</td>\n",
       "      <td>0.028088</td>\n",
       "      <td>0.726930</td>\n",
       "      <td>0.776779</td>\n",
       "      <td>0.795177</td>\n",
       "      <td>0.809271</td>\n",
       "      <td>0.885146</td>\n",
       "    </tr>\n",
       "    <tr>\n",
       "      <th>10.0</th>\n",
       "      <td>50.0</td>\n",
       "      <td>0.798842</td>\n",
       "      <td>0.018902</td>\n",
       "      <td>0.749213</td>\n",
       "      <td>0.788979</td>\n",
       "      <td>0.798856</td>\n",
       "      <td>0.810741</td>\n",
       "      <td>0.833599</td>\n",
       "    </tr>\n",
       "    <tr>\n",
       "      <th>25.0</th>\n",
       "      <td>50.0</td>\n",
       "      <td>0.798970</td>\n",
       "      <td>0.010538</td>\n",
       "      <td>0.772304</td>\n",
       "      <td>0.793735</td>\n",
       "      <td>0.798341</td>\n",
       "      <td>0.806717</td>\n",
       "      <td>0.822787</td>\n",
       "    </tr>\n",
       "    <tr>\n",
       "      <th>50.0</th>\n",
       "      <td>50.0</td>\n",
       "      <td>0.797638</td>\n",
       "      <td>0.009296</td>\n",
       "      <td>0.783217</td>\n",
       "      <td>0.789771</td>\n",
       "      <td>0.797648</td>\n",
       "      <td>0.802809</td>\n",
       "      <td>0.816678</td>\n",
       "    </tr>\n",
       "    <tr>\n",
       "      <th>100.0</th>\n",
       "      <td>50.0</td>\n",
       "      <td>0.797993</td>\n",
       "      <td>0.006176</td>\n",
       "      <td>0.786276</td>\n",
       "      <td>0.794200</td>\n",
       "      <td>0.798012</td>\n",
       "      <td>0.801590</td>\n",
       "      <td>0.812113</td>\n",
       "    </tr>\n",
       "    <tr>\n",
       "      <th rowspan=\"7\" valign=\"top\">high</th>\n",
       "      <th>1.0</th>\n",
       "      <td>50.0</td>\n",
       "      <td>0.795679</td>\n",
       "      <td>0.035503</td>\n",
       "      <td>0.724373</td>\n",
       "      <td>0.772605</td>\n",
       "      <td>0.790350</td>\n",
       "      <td>0.814887</td>\n",
       "      <td>0.882525</td>\n",
       "    </tr>\n",
       "    <tr>\n",
       "      <th>2.5</th>\n",
       "      <td>50.0</td>\n",
       "      <td>0.801229</td>\n",
       "      <td>0.020644</td>\n",
       "      <td>0.775189</td>\n",
       "      <td>0.785601</td>\n",
       "      <td>0.794720</td>\n",
       "      <td>0.811302</td>\n",
       "      <td>0.848086</td>\n",
       "    </tr>\n",
       "    <tr>\n",
       "      <th>5.0</th>\n",
       "      <td>50.0</td>\n",
       "      <td>0.796727</td>\n",
       "      <td>0.012820</td>\n",
       "      <td>0.774335</td>\n",
       "      <td>0.788591</td>\n",
       "      <td>0.795629</td>\n",
       "      <td>0.804790</td>\n",
       "      <td>0.825609</td>\n",
       "    </tr>\n",
       "    <tr>\n",
       "      <th>10.0</th>\n",
       "      <td>50.0</td>\n",
       "      <td>0.793199</td>\n",
       "      <td>0.010177</td>\n",
       "      <td>0.759234</td>\n",
       "      <td>0.788899</td>\n",
       "      <td>0.793103</td>\n",
       "      <td>0.799107</td>\n",
       "      <td>0.813665</td>\n",
       "    </tr>\n",
       "    <tr>\n",
       "      <th>25.0</th>\n",
       "      <td>50.0</td>\n",
       "      <td>0.794274</td>\n",
       "      <td>0.006577</td>\n",
       "      <td>0.782355</td>\n",
       "      <td>0.789957</td>\n",
       "      <td>0.794250</td>\n",
       "      <td>0.799012</td>\n",
       "      <td>0.811106</td>\n",
       "    </tr>\n",
       "    <tr>\n",
       "      <th>50.0</th>\n",
       "      <td>50.0</td>\n",
       "      <td>0.794805</td>\n",
       "      <td>0.004878</td>\n",
       "      <td>0.779402</td>\n",
       "      <td>0.792379</td>\n",
       "      <td>0.794668</td>\n",
       "      <td>0.797526</td>\n",
       "      <td>0.804510</td>\n",
       "    </tr>\n",
       "    <tr>\n",
       "      <th>100.0</th>\n",
       "      <td>50.0</td>\n",
       "      <td>0.794571</td>\n",
       "      <td>0.002894</td>\n",
       "      <td>0.789072</td>\n",
       "      <td>0.792730</td>\n",
       "      <td>0.794620</td>\n",
       "      <td>0.796432</td>\n",
       "      <td>0.802677</td>\n",
       "    </tr>\n",
       "    <tr>\n",
       "      <th rowspan=\"7\" valign=\"top\">low</th>\n",
       "      <th>1.0</th>\n",
       "      <td>50.0</td>\n",
       "      <td>0.802066</td>\n",
       "      <td>0.180873</td>\n",
       "      <td>0.574960</td>\n",
       "      <td>0.660486</td>\n",
       "      <td>0.763634</td>\n",
       "      <td>0.901708</td>\n",
       "      <td>1.425568</td>\n",
       "    </tr>\n",
       "    <tr>\n",
       "      <th>2.5</th>\n",
       "      <td>50.0</td>\n",
       "      <td>0.808592</td>\n",
       "      <td>0.104597</td>\n",
       "      <td>0.610011</td>\n",
       "      <td>0.739795</td>\n",
       "      <td>0.784806</td>\n",
       "      <td>0.871556</td>\n",
       "      <td>1.037124</td>\n",
       "    </tr>\n",
       "    <tr>\n",
       "      <th>5.0</th>\n",
       "      <td>50.0</td>\n",
       "      <td>0.791160</td>\n",
       "      <td>0.070193</td>\n",
       "      <td>0.651979</td>\n",
       "      <td>0.749111</td>\n",
       "      <td>0.785497</td>\n",
       "      <td>0.841111</td>\n",
       "      <td>0.990940</td>\n",
       "    </tr>\n",
       "    <tr>\n",
       "      <th>10.0</th>\n",
       "      <td>50.0</td>\n",
       "      <td>0.785622</td>\n",
       "      <td>0.044788</td>\n",
       "      <td>0.694753</td>\n",
       "      <td>0.751780</td>\n",
       "      <td>0.777787</td>\n",
       "      <td>0.813628</td>\n",
       "      <td>0.941502</td>\n",
       "    </tr>\n",
       "    <tr>\n",
       "      <th>25.0</th>\n",
       "      <td>50.0</td>\n",
       "      <td>0.783609</td>\n",
       "      <td>0.027215</td>\n",
       "      <td>0.727720</td>\n",
       "      <td>0.766161</td>\n",
       "      <td>0.783701</td>\n",
       "      <td>0.801179</td>\n",
       "      <td>0.850729</td>\n",
       "    </tr>\n",
       "    <tr>\n",
       "      <th>50.0</th>\n",
       "      <td>50.0</td>\n",
       "      <td>0.787675</td>\n",
       "      <td>0.021847</td>\n",
       "      <td>0.742756</td>\n",
       "      <td>0.775011</td>\n",
       "      <td>0.785537</td>\n",
       "      <td>0.802775</td>\n",
       "      <td>0.840556</td>\n",
       "    </tr>\n",
       "    <tr>\n",
       "      <th>100.0</th>\n",
       "      <td>50.0</td>\n",
       "      <td>0.788335</td>\n",
       "      <td>0.013956</td>\n",
       "      <td>0.758263</td>\n",
       "      <td>0.778119</td>\n",
       "      <td>0.785620</td>\n",
       "      <td>0.796257</td>\n",
       "      <td>0.832655</td>\n",
       "    </tr>\n",
       "    <tr>\n",
       "      <th rowspan=\"7\" valign=\"top\">moderate</th>\n",
       "      <th>1.0</th>\n",
       "      <td>50.0</td>\n",
       "      <td>0.807175</td>\n",
       "      <td>0.079861</td>\n",
       "      <td>0.656875</td>\n",
       "      <td>0.755464</td>\n",
       "      <td>0.793017</td>\n",
       "      <td>0.867577</td>\n",
       "      <td>0.981308</td>\n",
       "    </tr>\n",
       "    <tr>\n",
       "      <th>2.5</th>\n",
       "      <td>50.0</td>\n",
       "      <td>0.820874</td>\n",
       "      <td>0.067302</td>\n",
       "      <td>0.704018</td>\n",
       "      <td>0.772728</td>\n",
       "      <td>0.816271</td>\n",
       "      <td>0.844310</td>\n",
       "      <td>0.983603</td>\n",
       "    </tr>\n",
       "    <tr>\n",
       "      <th>5.0</th>\n",
       "      <td>50.0</td>\n",
       "      <td>0.799756</td>\n",
       "      <td>0.042210</td>\n",
       "      <td>0.727569</td>\n",
       "      <td>0.769671</td>\n",
       "      <td>0.793422</td>\n",
       "      <td>0.812609</td>\n",
       "      <td>0.918756</td>\n",
       "    </tr>\n",
       "    <tr>\n",
       "      <th>10.0</th>\n",
       "      <td>50.0</td>\n",
       "      <td>0.801221</td>\n",
       "      <td>0.028984</td>\n",
       "      <td>0.731826</td>\n",
       "      <td>0.778637</td>\n",
       "      <td>0.797963</td>\n",
       "      <td>0.822267</td>\n",
       "      <td>0.872613</td>\n",
       "    </tr>\n",
       "    <tr>\n",
       "      <th>25.0</th>\n",
       "      <td>50.0</td>\n",
       "      <td>0.799652</td>\n",
       "      <td>0.016287</td>\n",
       "      <td>0.764457</td>\n",
       "      <td>0.786162</td>\n",
       "      <td>0.802690</td>\n",
       "      <td>0.812287</td>\n",
       "      <td>0.831042</td>\n",
       "    </tr>\n",
       "    <tr>\n",
       "      <th>50.0</th>\n",
       "      <td>50.0</td>\n",
       "      <td>0.795126</td>\n",
       "      <td>0.011798</td>\n",
       "      <td>0.773444</td>\n",
       "      <td>0.786412</td>\n",
       "      <td>0.794797</td>\n",
       "      <td>0.803331</td>\n",
       "      <td>0.823871</td>\n",
       "    </tr>\n",
       "    <tr>\n",
       "      <th>100.0</th>\n",
       "      <td>50.0</td>\n",
       "      <td>0.795663</td>\n",
       "      <td>0.008237</td>\n",
       "      <td>0.778666</td>\n",
       "      <td>0.789868</td>\n",
       "      <td>0.795231</td>\n",
       "      <td>0.799917</td>\n",
       "      <td>0.812767</td>\n",
       "    </tr>\n",
       "  </tbody>\n",
       "</table>\n",
       "</div>"
      ],
      "text/plain": [
       "                     count      mean       std       min       25%       50%  \\\n",
       "category percentage                                                            \n",
       "average  1.0          50.0  0.797375  0.065570  0.690098  0.753711  0.793128   \n",
       "         2.5          50.0  0.799307  0.041302  0.726475  0.771860  0.789150   \n",
       "         5.0          50.0  0.795292  0.028088  0.726930  0.776779  0.795177   \n",
       "         10.0         50.0  0.798842  0.018902  0.749213  0.788979  0.798856   \n",
       "         25.0         50.0  0.798970  0.010538  0.772304  0.793735  0.798341   \n",
       "         50.0         50.0  0.797638  0.009296  0.783217  0.789771  0.797648   \n",
       "         100.0        50.0  0.797993  0.006176  0.786276  0.794200  0.798012   \n",
       "high     1.0          50.0  0.795679  0.035503  0.724373  0.772605  0.790350   \n",
       "         2.5          50.0  0.801229  0.020644  0.775189  0.785601  0.794720   \n",
       "         5.0          50.0  0.796727  0.012820  0.774335  0.788591  0.795629   \n",
       "         10.0         50.0  0.793199  0.010177  0.759234  0.788899  0.793103   \n",
       "         25.0         50.0  0.794274  0.006577  0.782355  0.789957  0.794250   \n",
       "         50.0         50.0  0.794805  0.004878  0.779402  0.792379  0.794668   \n",
       "         100.0        50.0  0.794571  0.002894  0.789072  0.792730  0.794620   \n",
       "low      1.0          50.0  0.802066  0.180873  0.574960  0.660486  0.763634   \n",
       "         2.5          50.0  0.808592  0.104597  0.610011  0.739795  0.784806   \n",
       "         5.0          50.0  0.791160  0.070193  0.651979  0.749111  0.785497   \n",
       "         10.0         50.0  0.785622  0.044788  0.694753  0.751780  0.777787   \n",
       "         25.0         50.0  0.783609  0.027215  0.727720  0.766161  0.783701   \n",
       "         50.0         50.0  0.787675  0.021847  0.742756  0.775011  0.785537   \n",
       "         100.0        50.0  0.788335  0.013956  0.758263  0.778119  0.785620   \n",
       "moderate 1.0          50.0  0.807175  0.079861  0.656875  0.755464  0.793017   \n",
       "         2.5          50.0  0.820874  0.067302  0.704018  0.772728  0.816271   \n",
       "         5.0          50.0  0.799756  0.042210  0.727569  0.769671  0.793422   \n",
       "         10.0         50.0  0.801221  0.028984  0.731826  0.778637  0.797963   \n",
       "         25.0         50.0  0.799652  0.016287  0.764457  0.786162  0.802690   \n",
       "         50.0         50.0  0.795126  0.011798  0.773444  0.786412  0.794797   \n",
       "         100.0        50.0  0.795663  0.008237  0.778666  0.789868  0.795231   \n",
       "\n",
       "                          75%       max  \n",
       "category percentage                      \n",
       "average  1.0         0.838146  0.976487  \n",
       "         2.5         0.822939  0.926200  \n",
       "         5.0         0.809271  0.885146  \n",
       "         10.0        0.810741  0.833599  \n",
       "         25.0        0.806717  0.822787  \n",
       "         50.0        0.802809  0.816678  \n",
       "         100.0       0.801590  0.812113  \n",
       "high     1.0         0.814887  0.882525  \n",
       "         2.5         0.811302  0.848086  \n",
       "         5.0         0.804790  0.825609  \n",
       "         10.0        0.799107  0.813665  \n",
       "         25.0        0.799012  0.811106  \n",
       "         50.0        0.797526  0.804510  \n",
       "         100.0       0.796432  0.802677  \n",
       "low      1.0         0.901708  1.425568  \n",
       "         2.5         0.871556  1.037124  \n",
       "         5.0         0.841111  0.990940  \n",
       "         10.0        0.813628  0.941502  \n",
       "         25.0        0.801179  0.850729  \n",
       "         50.0        0.802775  0.840556  \n",
       "         100.0       0.796257  0.832655  \n",
       "moderate 1.0         0.867577  0.981308  \n",
       "         2.5         0.844310  0.983603  \n",
       "         5.0         0.812609  0.918756  \n",
       "         10.0        0.822267  0.872613  \n",
       "         25.0        0.812287  0.831042  \n",
       "         50.0        0.803331  0.823871  \n",
       "         100.0       0.799917  0.812767  "
      ]
     },
     "execution_count": 14,
     "metadata": {},
     "output_type": "execute_result"
    }
   ],
   "source": [
    "df_prmse_with_category.groupby(['category', 'percentage'])['prmse'].describe()"
   ]
  },
  {
   "cell_type": "code",
   "execution_count": 15,
   "metadata": {},
   "outputs": [
    {
     "data": {
      "text/plain": [
       "(14000000, 3870000)"
      ]
     },
     "execution_count": 15,
     "metadata": {},
     "output_type": "execute_result"
    }
   ],
   "source": [
    "# let's check if it's % or number\n",
    "df_double_only = df_perc[~df_perc['h2'].isnull()]\n",
    "len(df_perc), len(df_double_only)"
   ]
  },
  {
   "cell_type": "code",
   "execution_count": 16,
   "metadata": {},
   "outputs": [],
   "source": [
    "# now let's re-compute prmse. This can take a lot of time again since we are computing over a large amount of data:\n",
    "# 200 pairs, 7 percentage points. \n",
    "df_prmse_double  = df_double_only.groupby(['pair', 'percentage']).apply(lambda x: prmse_true(x['system'],\n",
    "                                                                               x[['h1', 'h2']])).reset_index()"
   ]
  },
  {
   "cell_type": "code",
   "execution_count": 17,
   "metadata": {},
   "outputs": [],
   "source": [
    "df_prmse_double.columns = ['pair', 'percentage', 'prmse']\n",
    "\n",
    "df_prmse_double['Total N'] = df_prmse_double['percentage']*len(df)/100\n",
    "\n",
    "# add rater category\n",
    "df_prmse_double['h1'] = df_prmse_double['pair'].apply(lambda x: x.split(\"+\")[0])\n",
    "df_prmse_double_with_category = pd.merge(df_prmse_double, df_raters, left_on='h1', right_on='rater_id')"
   ]
  },
  {
   "cell_type": "code",
   "execution_count": 18,
   "metadata": {},
   "outputs": [
    {
     "data": {
      "text/plain": [
       "<matplotlib.lines.Line2D at 0x12155f5d0>"
      ]
     },
     "execution_count": 18,
     "metadata": {},
     "output_type": "execute_result"
    },
    {
     "data": {
      "image/png": "[encoded data removed]",
      "text/plain": [
       "<Figure size 432x288 with 1 Axes>"
      ]
     },
     "metadata": {
      "needs_background": "light"
     },
     "output_type": "display_data"
    }
   ],
   "source": [
    "# plot by category\n",
    "ax = sns.boxplot(x='Total N', y='prmse', hue='category',\n",
    "                 hue_order=config['rater_categories'],\n",
    "                 data=df_prmse_double_with_category)\n",
    "ax.set_xlabel(\"Total N responses\")\n",
    "ax.axhline(r2_score(df['true'], df['system']), color='black', ls=':')"
   ]
  },
  {
   "cell_type": "code",
   "execution_count": 19,
   "metadata": {},
   "outputs": [],
   "source": [
    "#let's also look at other metrics\n",
    "df_perc['h_mean'] = df_perc[['h1', 'h2']].mean(axis=1)\n",
    "df_metrics = df_perc.groupby(['pair', 'percentage']).apply(lambda x: Analyzer.metrics_helper(x['h_mean'], x['system']))"
   ]
  },
  {
   "cell_type": "code",
   "execution_count": 20,
   "metadata": {},
   "outputs": [],
   "source": [
    "df_metrics.reset_index(inplace=True)"
   ]
  },
  {
   "cell_type": "code",
   "execution_count": 21,
   "metadata": {},
   "outputs": [],
   "source": [
    "df_metrics_long = df_metrics.melt(id_vars = ['pair', 'percentage'],\n",
    "                                 value_vars = ['wtkappa', 'corr', 'R2'],\n",
    "                                 var_name = 'metrics', \n",
    "                                 value_name = 'value')\n",
    "df_metrics_long['h1'] = df_metrics_long['pair'].apply(lambda x: x.split(\"+\")[0])\n",
    "df_metrics_with_category = pd.merge(df_metrics_long, df_raters, left_on='h1', right_on='rater_id')"
   ]
  },
  {
   "cell_type": "code",
   "execution_count": 22,
   "metadata": {},
   "outputs": [
    {
     "data": {
      "image/png": "[encoded data removed]",
      "text/plain": [
       "<Figure size 1145x360 with 3 Axes>"
      ]
     },
     "metadata": {
      "needs_background": "light"
     },
     "output_type": "display_data"
    }
   ],
   "source": [
    "ax = sns.catplot(x='category', y='value', col='metrics',\n",
    "                 hue='percentage', order=config['rater_categories'],\n",
    "                 data=df_metrics_with_category, kind='box',\n",
    "                sharey=False)\n",
    "plt.savefig(fig_dir / 'percentage_other.png')"
   ]
  }
 ],
 "metadata": {
  "kernelspec": {
   "display_name": "Python 3",
   "language": "python",
   "name": "python3"
  },
  "language_info": {
   "codemirror_mode": {
    "name": "ipython",
    "version": 3
   },
   "file_extension": ".py",
   "mimetype": "text/x-python",
   "name": "python",
   "nbconvert_exporter": "python",
   "pygments_lexer": "ipython3",
   "version": "3.7.6"
  }
 },
 "nbformat": 4,
 "nbformat_minor": 4
}
