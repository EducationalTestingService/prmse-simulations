{
 "cells": [
  {
   "cell_type": "markdown",
   "metadata": {},
   "source": [
    "# Digging further: Percentage double-scored\n",
    "\n",
    "In this notebook we look how PRMSE depends on % double-scored responses. \n",
    "We pick 100 rater pairs, sample different % of double-scored responses and compute PRMSE. "
   ]
  },
  {
   "cell_type": "code",
   "execution_count": 1,
   "metadata": {},
   "outputs": [],
   "source": [
    "import pandas as pd\n",
    "import seaborn as sns\n",
    "from scipy.stats import pearsonr\n",
    "from sklearn.metrics import r2_score\n",
    "import itertools\n",
    "import numpy as np\n",
    "\n",
    "import json\n",
    "\n",
    "from rsmtool.utils.prmse import prmse_true\n",
    "from rsmtool.analyzer import Analyzer\n",
    "\n",
    "from matplotlib import pyplot as plt\n",
    "\n",
    "from pathlib import Path\n",
    "\n",
    "%matplotlib inline"
   ]
  },
  {
   "cell_type": "code",
   "execution_count": 2,
   "metadata": {},
   "outputs": [],
   "source": [
    "# let's define some settings and read the data\n",
    "config = json.load(open('settings.json'))\n",
    "fig_dir = Path('../paper_overleaf/figures')\n",
    "df = pd.read_csv('../data/data.csv')\n",
    "df_raters = pd.read_csv('../data/raters.csv')\n",
    "metrics_dict = json.load(open('metrics_dict.json')) # the dictionary with metrics name we'll use for plots\n",
    "df['system'] = df[config['sample_system']] # we use one sample system as defined in the config"
   ]
  },
  {
   "cell_type": "code",
   "execution_count": 3,
   "metadata": {},
   "outputs": [],
   "source": [
    "human_columns = df_raters['rater_id'].values"
   ]
  },
  {
   "cell_type": "code",
   "execution_count": 4,
   "metadata": {},
   "outputs": [],
   "source": [
    "# generate pairs of raters for each group\n",
    "\n",
    "def generate_rater_pairs_for_group(df_group, n_pairs):\n",
    "    raters = df_group['rater_id']\n",
    "    # get all possible rater pairs\n",
    "    rater_pairs = ['{}+{}'.format(p[0], p[1]) for p in itertools.combinations(raters, 2)]\n",
    "    np.random.seed(100)\n",
    "    selected_pairs = np.random.choice(rater_pairs, n_pairs, replace=False)\n",
    "    return selected_pairs"
   ]
  },
  {
   "cell_type": "code",
   "execution_count": 5,
   "metadata": {},
   "outputs": [],
   "source": [
    "# randomly sample 50 pairs for each group\n",
    "selected_pairs = df_raters.groupby('category').apply(generate_rater_pairs_for_group, n_pairs=50)\n",
    "pair_dict = selected_pairs.to_dict()"
   ]
  },
  {
   "cell_type": "code",
   "execution_count": 6,
   "metadata": {},
   "outputs": [],
   "source": [
    "# we make one long DF to speed up computation\n",
    "data = []\n",
    "for c in df_raters['category'].unique():\n",
    "    pairs = pair_dict[c]\n",
    "    for p in pairs:\n",
    "        (h1, h2) = p.split('+')\n",
    "        df_p = pd.DataFrame({'pair': p,\n",
    "                              'h1': df[h1],\n",
    "                              'h2': df[h2],\n",
    "                              'system': df['system'], \n",
    "                              'true': df['true'],\n",
    "                              'category': c})\n",
    "        data.append(df_p)\n",
    "    df_long = pd.concat(data)"
   ]
  },
  {
   "cell_type": "code",
   "execution_count": 7,
   "metadata": {},
   "outputs": [
    {
     "name": "stdout",
     "output_type": "stream",
     "text": [
      "1\n",
      "10\n",
      "25\n",
      "50\n",
      "75\n",
      "90\n",
      "100\n"
     ]
    }
   ],
   "source": [
    "# let's now create a DF with different percentage double-scored\n",
    "perc_double_scored = [1, 10, 25, 50, 75, 90, 100]\n",
    "# we now create a df with this values\n",
    "np.random.seed(123)\n",
    "df_list = []\n",
    "for p in perc_double_scored:\n",
    "    print(p)\n",
    "    to_sample = int(p/100*len(df_long))\n",
    "    mask  = np.zeros(len(df_long), dtype=int)\n",
    "    mask[: to_sample]=1\n",
    "    np.random.shuffle(mask)\n",
    "    mask = mask.astype(bool)\n",
    "    df_double = df_long[mask].copy()\n",
    "    df_single = df_long[~mask].copy()\n",
    "    df_double['percentage'] = p\n",
    "    df_single['percentage'] = p\n",
    "    df_single['h2'] = None\n",
    "    df_list.extend([df_double, df_single])\n",
    "df_perc = pd.concat(df_list)\n",
    "df_perc['h1'] = pd.to_numeric(df_perc['h1'], errors='coerce')\n",
    "df_perc['h2'] = pd.to_numeric(df_perc['h2'], errors='coerce')"
   ]
  },
  {
   "cell_type": "code",
   "execution_count": 8,
   "metadata": {},
   "outputs": [
    {
     "data": {
      "text/plain": [
       "<matplotlib.axes._subplots.AxesSubplot at 0x12b11c650>"
      ]
     },
     "execution_count": 8,
     "metadata": {},
     "output_type": "execute_result"
    },
    {
     "data": {
      "image/png": "[encoded data removed]",
      "text/plain": [
       "<Figure size 432x288 with 1 Axes>"
      ]
     },
     "metadata": {
      "needs_background": "light"
     },
     "output_type": "display_data"
    }
   ],
   "source": [
    "# A sanity check plot\n",
    "sns.boxplot(data=df_perc.groupby(['pair', 'percentage']).apply(lambda x: len(x[~x['h2'].isnull()])/len(x)*100).unstack())"
   ]
  },
  {
   "cell_type": "code",
   "execution_count": 9,
   "metadata": {},
   "outputs": [],
   "source": [
    "# now let's compute prmse. This can take a lot of time since we are computing over a large amount of data:\n",
    "# 200 pairs, 7 percentage points. \n",
    "df_prmse  = df_perc.groupby(['pair', 'percentage']).apply(lambda x: prmse_true(x['system'],\n",
    "                                                                               x[['h1', 'h2']])).reset_index()"
   ]
  },
  {
   "cell_type": "code",
   "execution_count": 30,
   "metadata": {},
   "outputs": [],
   "source": [
    "df_prmse.columns = ['pair', 'percentage', 'prmse']\n",
    "df_prmse['N double-scored'] = (df_prmse['percentage']*len(df)/100).astype(int)\n",
    "\n",
    "# add rater category\n",
    "df_prmse['h1'] = df_prmse['pair'].apply(lambda x: x.split(\"+\")[0])\n",
    "df_prmse_with_category = pd.merge(df_prmse, df_raters, left_on='h1', right_on='rater_id')"
   ]
  },
  {
   "cell_type": "code",
   "execution_count": 34,
   "metadata": {},
   "outputs": [
    {
     "data": {
      "image/png": "[encoded data removed]",
      "text/plain": [
       "<Figure size 432x288 with 1 Axes>"
      ]
     },
     "metadata": {
      "needs_background": "light"
     },
     "output_type": "display_data"
    }
   ],
   "source": [
    "# plot by category\n",
    "ax = sns.boxplot(x='N double-scored', y='prmse', hue='category',\n",
    "                 hue_order=config['rater_categories'],\n",
    "                 data=df_prmse_with_category)\n",
    "ax.set_xlabel(\"Number of double-scored responses\")\n",
    "ax.axhline(r2_score(df['true'], df['system']), color='black', ls=':')\n",
    "plt.savefig(fig_dir / 'percentage.png')"
   ]
  },
  {
   "cell_type": "code",
   "execution_count": 13,
   "metadata": {},
   "outputs": [
    {
     "data": {
      "image/png": "[encoded data removed]",
      "text/plain": [
       "<Figure size 432x288 with 1 Axes>"
      ]
     },
     "metadata": {
      "needs_background": "light"
     },
     "output_type": "display_data"
    }
   ],
   "source": [
    "# do the same by percentage\n",
    "ax = sns.boxplot(x='category', y='prmse', hue='percentage',\n",
    "                 order=config['rater_categories'],\n",
    "                 data=df_prmse_with_category)\n",
    "ax.set_xlabel(\"Inter-rater agreement\")\n",
    "ax.axhline(r2_score(df['true'], df['system']), color='black', ls=':')\n",
    "#plt.savefig(fig_dir / 'percentage.png')"
   ]
  },
  {
   "cell_type": "code",
   "execution_count": 14,
   "metadata": {},
   "outputs": [
    {
     "data": {
      "text/html": [
       "<div>\n",
       "<style scoped>\n",
       "    .dataframe tbody tr th:only-of-type {\n",
       "        vertical-align: middle;\n",
       "    }\n",
       "\n",
       "    .dataframe tbody tr th {\n",
       "        vertical-align: top;\n",
       "    }\n",
       "\n",
       "    .dataframe thead th {\n",
       "        text-align: right;\n",
       "    }\n",
       "</style>\n",
       "<table border=\"1\" class=\"dataframe\">\n",
       "  <thead>\n",
       "    <tr style=\"text-align: right;\">\n",
       "      <th></th>\n",
       "      <th></th>\n",
       "      <th>count</th>\n",
       "      <th>mean</th>\n",
       "      <th>std</th>\n",
       "      <th>min</th>\n",
       "      <th>25%</th>\n",
       "      <th>50%</th>\n",
       "      <th>75%</th>\n",
       "      <th>max</th>\n",
       "    </tr>\n",
       "    <tr>\n",
       "      <th>category</th>\n",
       "      <th>percentage</th>\n",
       "      <th></th>\n",
       "      <th></th>\n",
       "      <th></th>\n",
       "      <th></th>\n",
       "      <th></th>\n",
       "      <th></th>\n",
       "      <th></th>\n",
       "      <th></th>\n",
       "    </tr>\n",
       "  </thead>\n",
       "  <tbody>\n",
       "    <tr>\n",
       "      <th rowspan=\"7\" valign=\"top\">average</th>\n",
       "      <th>1</th>\n",
       "      <td>50.0</td>\n",
       "      <td>0.797375</td>\n",
       "      <td>0.065570</td>\n",
       "      <td>0.690098</td>\n",
       "      <td>0.753711</td>\n",
       "      <td>0.793128</td>\n",
       "      <td>0.838146</td>\n",
       "      <td>0.976487</td>\n",
       "    </tr>\n",
       "    <tr>\n",
       "      <th>10</th>\n",
       "      <td>50.0</td>\n",
       "      <td>0.795000</td>\n",
       "      <td>0.020693</td>\n",
       "      <td>0.756465</td>\n",
       "      <td>0.781277</td>\n",
       "      <td>0.792426</td>\n",
       "      <td>0.809210</td>\n",
       "      <td>0.838948</td>\n",
       "    </tr>\n",
       "    <tr>\n",
       "      <th>25</th>\n",
       "      <td>50.0</td>\n",
       "      <td>0.797651</td>\n",
       "      <td>0.011925</td>\n",
       "      <td>0.772694</td>\n",
       "      <td>0.788087</td>\n",
       "      <td>0.797625</td>\n",
       "      <td>0.806025</td>\n",
       "      <td>0.819420</td>\n",
       "    </tr>\n",
       "    <tr>\n",
       "      <th>50</th>\n",
       "      <td>50.0</td>\n",
       "      <td>0.798757</td>\n",
       "      <td>0.008560</td>\n",
       "      <td>0.779158</td>\n",
       "      <td>0.792135</td>\n",
       "      <td>0.799443</td>\n",
       "      <td>0.805943</td>\n",
       "      <td>0.811096</td>\n",
       "    </tr>\n",
       "    <tr>\n",
       "      <th>75</th>\n",
       "      <td>50.0</td>\n",
       "      <td>0.797986</td>\n",
       "      <td>0.007814</td>\n",
       "      <td>0.777172</td>\n",
       "      <td>0.793984</td>\n",
       "      <td>0.796910</td>\n",
       "      <td>0.802995</td>\n",
       "      <td>0.814352</td>\n",
       "    </tr>\n",
       "    <tr>\n",
       "      <th>90</th>\n",
       "      <td>50.0</td>\n",
       "      <td>0.798372</td>\n",
       "      <td>0.006647</td>\n",
       "      <td>0.783989</td>\n",
       "      <td>0.794802</td>\n",
       "      <td>0.798290</td>\n",
       "      <td>0.802298</td>\n",
       "      <td>0.813672</td>\n",
       "    </tr>\n",
       "    <tr>\n",
       "      <th>100</th>\n",
       "      <td>50.0</td>\n",
       "      <td>0.797993</td>\n",
       "      <td>0.006176</td>\n",
       "      <td>0.786276</td>\n",
       "      <td>0.794200</td>\n",
       "      <td>0.798012</td>\n",
       "      <td>0.801590</td>\n",
       "      <td>0.812113</td>\n",
       "    </tr>\n",
       "    <tr>\n",
       "      <th rowspan=\"7\" valign=\"top\">high</th>\n",
       "      <th>1</th>\n",
       "      <td>50.0</td>\n",
       "      <td>0.795679</td>\n",
       "      <td>0.035503</td>\n",
       "      <td>0.724373</td>\n",
       "      <td>0.772605</td>\n",
       "      <td>0.790350</td>\n",
       "      <td>0.814887</td>\n",
       "      <td>0.882525</td>\n",
       "    </tr>\n",
       "    <tr>\n",
       "      <th>10</th>\n",
       "      <td>50.0</td>\n",
       "      <td>0.796779</td>\n",
       "      <td>0.009310</td>\n",
       "      <td>0.776347</td>\n",
       "      <td>0.791615</td>\n",
       "      <td>0.797982</td>\n",
       "      <td>0.801724</td>\n",
       "      <td>0.813633</td>\n",
       "    </tr>\n",
       "    <tr>\n",
       "      <th>25</th>\n",
       "      <td>50.0</td>\n",
       "      <td>0.794816</td>\n",
       "      <td>0.006275</td>\n",
       "      <td>0.783175</td>\n",
       "      <td>0.791974</td>\n",
       "      <td>0.794602</td>\n",
       "      <td>0.797911</td>\n",
       "      <td>0.807650</td>\n",
       "    </tr>\n",
       "    <tr>\n",
       "      <th>50</th>\n",
       "      <td>50.0</td>\n",
       "      <td>0.794985</td>\n",
       "      <td>0.003731</td>\n",
       "      <td>0.787442</td>\n",
       "      <td>0.792796</td>\n",
       "      <td>0.795281</td>\n",
       "      <td>0.797228</td>\n",
       "      <td>0.805299</td>\n",
       "    </tr>\n",
       "    <tr>\n",
       "      <th>75</th>\n",
       "      <td>50.0</td>\n",
       "      <td>0.794390</td>\n",
       "      <td>0.003575</td>\n",
       "      <td>0.785089</td>\n",
       "      <td>0.792217</td>\n",
       "      <td>0.793973</td>\n",
       "      <td>0.796403</td>\n",
       "      <td>0.803621</td>\n",
       "    </tr>\n",
       "    <tr>\n",
       "      <th>90</th>\n",
       "      <td>50.0</td>\n",
       "      <td>0.794528</td>\n",
       "      <td>0.003135</td>\n",
       "      <td>0.786662</td>\n",
       "      <td>0.792841</td>\n",
       "      <td>0.794548</td>\n",
       "      <td>0.795959</td>\n",
       "      <td>0.802451</td>\n",
       "    </tr>\n",
       "    <tr>\n",
       "      <th>100</th>\n",
       "      <td>50.0</td>\n",
       "      <td>0.794571</td>\n",
       "      <td>0.002894</td>\n",
       "      <td>0.789072</td>\n",
       "      <td>0.792730</td>\n",
       "      <td>0.794620</td>\n",
       "      <td>0.796432</td>\n",
       "      <td>0.802677</td>\n",
       "    </tr>\n",
       "    <tr>\n",
       "      <th rowspan=\"7\" valign=\"top\">low</th>\n",
       "      <th>1</th>\n",
       "      <td>50.0</td>\n",
       "      <td>0.802066</td>\n",
       "      <td>0.180873</td>\n",
       "      <td>0.574960</td>\n",
       "      <td>0.660486</td>\n",
       "      <td>0.763634</td>\n",
       "      <td>0.901708</td>\n",
       "      <td>1.425568</td>\n",
       "    </tr>\n",
       "    <tr>\n",
       "      <th>10</th>\n",
       "      <td>50.0</td>\n",
       "      <td>0.804352</td>\n",
       "      <td>0.050333</td>\n",
       "      <td>0.703783</td>\n",
       "      <td>0.773910</td>\n",
       "      <td>0.816368</td>\n",
       "      <td>0.835257</td>\n",
       "      <td>0.887065</td>\n",
       "    </tr>\n",
       "    <tr>\n",
       "      <th>25</th>\n",
       "      <td>50.0</td>\n",
       "      <td>0.780646</td>\n",
       "      <td>0.023116</td>\n",
       "      <td>0.720156</td>\n",
       "      <td>0.765490</td>\n",
       "      <td>0.783311</td>\n",
       "      <td>0.794327</td>\n",
       "      <td>0.839760</td>\n",
       "    </tr>\n",
       "    <tr>\n",
       "      <th>50</th>\n",
       "      <td>50.0</td>\n",
       "      <td>0.786856</td>\n",
       "      <td>0.018061</td>\n",
       "      <td>0.750427</td>\n",
       "      <td>0.777232</td>\n",
       "      <td>0.785462</td>\n",
       "      <td>0.796407</td>\n",
       "      <td>0.824893</td>\n",
       "    </tr>\n",
       "    <tr>\n",
       "      <th>75</th>\n",
       "      <td>50.0</td>\n",
       "      <td>0.788433</td>\n",
       "      <td>0.016409</td>\n",
       "      <td>0.753408</td>\n",
       "      <td>0.777666</td>\n",
       "      <td>0.787075</td>\n",
       "      <td>0.795640</td>\n",
       "      <td>0.834641</td>\n",
       "    </tr>\n",
       "    <tr>\n",
       "      <th>90</th>\n",
       "      <td>50.0</td>\n",
       "      <td>0.787529</td>\n",
       "      <td>0.015406</td>\n",
       "      <td>0.750708</td>\n",
       "      <td>0.777478</td>\n",
       "      <td>0.785500</td>\n",
       "      <td>0.791915</td>\n",
       "      <td>0.841591</td>\n",
       "    </tr>\n",
       "    <tr>\n",
       "      <th>100</th>\n",
       "      <td>50.0</td>\n",
       "      <td>0.788335</td>\n",
       "      <td>0.013956</td>\n",
       "      <td>0.758263</td>\n",
       "      <td>0.778119</td>\n",
       "      <td>0.785620</td>\n",
       "      <td>0.796257</td>\n",
       "      <td>0.832655</td>\n",
       "    </tr>\n",
       "    <tr>\n",
       "      <th rowspan=\"7\" valign=\"top\">moderate</th>\n",
       "      <th>1</th>\n",
       "      <td>50.0</td>\n",
       "      <td>0.807175</td>\n",
       "      <td>0.079861</td>\n",
       "      <td>0.656875</td>\n",
       "      <td>0.755464</td>\n",
       "      <td>0.793017</td>\n",
       "      <td>0.867577</td>\n",
       "      <td>0.981308</td>\n",
       "    </tr>\n",
       "    <tr>\n",
       "      <th>10</th>\n",
       "      <td>50.0</td>\n",
       "      <td>0.802244</td>\n",
       "      <td>0.031222</td>\n",
       "      <td>0.743850</td>\n",
       "      <td>0.780228</td>\n",
       "      <td>0.796665</td>\n",
       "      <td>0.818217</td>\n",
       "      <td>0.872257</td>\n",
       "    </tr>\n",
       "    <tr>\n",
       "      <th>25</th>\n",
       "      <td>50.0</td>\n",
       "      <td>0.799728</td>\n",
       "      <td>0.016891</td>\n",
       "      <td>0.742764</td>\n",
       "      <td>0.787278</td>\n",
       "      <td>0.801764</td>\n",
       "      <td>0.812580</td>\n",
       "      <td>0.841337</td>\n",
       "    </tr>\n",
       "    <tr>\n",
       "      <th>50</th>\n",
       "      <td>50.0</td>\n",
       "      <td>0.795803</td>\n",
       "      <td>0.010853</td>\n",
       "      <td>0.774778</td>\n",
       "      <td>0.787379</td>\n",
       "      <td>0.796097</td>\n",
       "      <td>0.804753</td>\n",
       "      <td>0.816751</td>\n",
       "    </tr>\n",
       "    <tr>\n",
       "      <th>75</th>\n",
       "      <td>50.0</td>\n",
       "      <td>0.795002</td>\n",
       "      <td>0.008847</td>\n",
       "      <td>0.774774</td>\n",
       "      <td>0.790065</td>\n",
       "      <td>0.796589</td>\n",
       "      <td>0.799116</td>\n",
       "      <td>0.812113</td>\n",
       "    </tr>\n",
       "    <tr>\n",
       "      <th>90</th>\n",
       "      <td>50.0</td>\n",
       "      <td>0.795211</td>\n",
       "      <td>0.008039</td>\n",
       "      <td>0.780488</td>\n",
       "      <td>0.789124</td>\n",
       "      <td>0.793609</td>\n",
       "      <td>0.800079</td>\n",
       "      <td>0.814932</td>\n",
       "    </tr>\n",
       "    <tr>\n",
       "      <th>100</th>\n",
       "      <td>50.0</td>\n",
       "      <td>0.795663</td>\n",
       "      <td>0.008237</td>\n",
       "      <td>0.778666</td>\n",
       "      <td>0.789868</td>\n",
       "      <td>0.795231</td>\n",
       "      <td>0.799917</td>\n",
       "      <td>0.812767</td>\n",
       "    </tr>\n",
       "  </tbody>\n",
       "</table>\n",
       "</div>"
      ],
      "text/plain": [
       "                     count      mean       std       min       25%       50%  \\\n",
       "category percentage                                                            \n",
       "average  1            50.0  0.797375  0.065570  0.690098  0.753711  0.793128   \n",
       "         10           50.0  0.795000  0.020693  0.756465  0.781277  0.792426   \n",
       "         25           50.0  0.797651  0.011925  0.772694  0.788087  0.797625   \n",
       "         50           50.0  0.798757  0.008560  0.779158  0.792135  0.799443   \n",
       "         75           50.0  0.797986  0.007814  0.777172  0.793984  0.796910   \n",
       "         90           50.0  0.798372  0.006647  0.783989  0.794802  0.798290   \n",
       "         100          50.0  0.797993  0.006176  0.786276  0.794200  0.798012   \n",
       "high     1            50.0  0.795679  0.035503  0.724373  0.772605  0.790350   \n",
       "         10           50.0  0.796779  0.009310  0.776347  0.791615  0.797982   \n",
       "         25           50.0  0.794816  0.006275  0.783175  0.791974  0.794602   \n",
       "         50           50.0  0.794985  0.003731  0.787442  0.792796  0.795281   \n",
       "         75           50.0  0.794390  0.003575  0.785089  0.792217  0.793973   \n",
       "         90           50.0  0.794528  0.003135  0.786662  0.792841  0.794548   \n",
       "         100          50.0  0.794571  0.002894  0.789072  0.792730  0.794620   \n",
       "low      1            50.0  0.802066  0.180873  0.574960  0.660486  0.763634   \n",
       "         10           50.0  0.804352  0.050333  0.703783  0.773910  0.816368   \n",
       "         25           50.0  0.780646  0.023116  0.720156  0.765490  0.783311   \n",
       "         50           50.0  0.786856  0.018061  0.750427  0.777232  0.785462   \n",
       "         75           50.0  0.788433  0.016409  0.753408  0.777666  0.787075   \n",
       "         90           50.0  0.787529  0.015406  0.750708  0.777478  0.785500   \n",
       "         100          50.0  0.788335  0.013956  0.758263  0.778119  0.785620   \n",
       "moderate 1            50.0  0.807175  0.079861  0.656875  0.755464  0.793017   \n",
       "         10           50.0  0.802244  0.031222  0.743850  0.780228  0.796665   \n",
       "         25           50.0  0.799728  0.016891  0.742764  0.787278  0.801764   \n",
       "         50           50.0  0.795803  0.010853  0.774778  0.787379  0.796097   \n",
       "         75           50.0  0.795002  0.008847  0.774774  0.790065  0.796589   \n",
       "         90           50.0  0.795211  0.008039  0.780488  0.789124  0.793609   \n",
       "         100          50.0  0.795663  0.008237  0.778666  0.789868  0.795231   \n",
       "\n",
       "                          75%       max  \n",
       "category percentage                      \n",
       "average  1           0.838146  0.976487  \n",
       "         10          0.809210  0.838948  \n",
       "         25          0.806025  0.819420  \n",
       "         50          0.805943  0.811096  \n",
       "         75          0.802995  0.814352  \n",
       "         90          0.802298  0.813672  \n",
       "         100         0.801590  0.812113  \n",
       "high     1           0.814887  0.882525  \n",
       "         10          0.801724  0.813633  \n",
       "         25          0.797911  0.807650  \n",
       "         50          0.797228  0.805299  \n",
       "         75          0.796403  0.803621  \n",
       "         90          0.795959  0.802451  \n",
       "         100         0.796432  0.802677  \n",
       "low      1           0.901708  1.425568  \n",
       "         10          0.835257  0.887065  \n",
       "         25          0.794327  0.839760  \n",
       "         50          0.796407  0.824893  \n",
       "         75          0.795640  0.834641  \n",
       "         90          0.791915  0.841591  \n",
       "         100         0.796257  0.832655  \n",
       "moderate 1           0.867577  0.981308  \n",
       "         10          0.818217  0.872257  \n",
       "         25          0.812580  0.841337  \n",
       "         50          0.804753  0.816751  \n",
       "         75          0.799116  0.812113  \n",
       "         90          0.800079  0.814932  \n",
       "         100         0.799917  0.812767  "
      ]
     },
     "execution_count": 14,
     "metadata": {},
     "output_type": "execute_result"
    }
   ],
   "source": [
    "df_prmse_with_category.groupby(['category', 'percentage'])['prmse'].describe()"
   ]
  },
  {
   "cell_type": "code",
   "execution_count": 21,
   "metadata": {},
   "outputs": [
    {
     "data": {
      "text/plain": [
       "(14000000, 7020000)"
      ]
     },
     "execution_count": 21,
     "metadata": {},
     "output_type": "execute_result"
    }
   ],
   "source": [
    "# let's check if it's % or number\n",
    "df_double_only = df_perc[~df_perc['h2'].isnull()]\n",
    "len(df_perc), len(df_double_only)"
   ]
  },
  {
   "cell_type": "code",
   "execution_count": 22,
   "metadata": {},
   "outputs": [],
   "source": [
    "# now let's re-compute prmse. This can take a lot of time again since we are computing over a large amount of data:\n",
    "# 200 pairs, 7 percentage points. \n",
    "df_prmse_double  = df_double_only.groupby(['pair', 'percentage']).apply(lambda x: prmse_true(x['system'],\n",
    "                                                                               x[['h1', 'h2']])).reset_index()"
   ]
  },
  {
   "cell_type": "code",
   "execution_count": 23,
   "metadata": {},
   "outputs": [],
   "source": [
    "df_prmse_double.columns = ['pair', 'percentage', 'prmse']\n",
    "\n",
    "df_prmse_double['Total N'] = df_prmse_double['percentage']*len(df)/100\n",
    "\n",
    "# add rater category\n",
    "df_prmse_double['h1'] = df_prmse_double['pair'].apply(lambda x: x.split(\"+\")[0])\n",
    "df_prmse_double_with_category = pd.merge(df_prmse_double, df_raters, left_on='h1', right_on='rater_id')"
   ]
  },
  {
   "cell_type": "code",
   "execution_count": 24,
   "metadata": {},
   "outputs": [
    {
     "data": {
      "text/plain": [
       "<matplotlib.lines.Line2D at 0x1298ec250>"
      ]
     },
     "execution_count": 24,
     "metadata": {},
     "output_type": "execute_result"
    },
    {
     "data": {
      "image/png": "[encoded data removed]",
      "text/plain": [
       "<Figure size 432x288 with 1 Axes>"
      ]
     },
     "metadata": {
      "needs_background": "light"
     },
     "output_type": "display_data"
    }
   ],
   "source": [
    "# plot by category\n",
    "ax = sns.boxplot(x='Total N', y='prmse', hue='category',\n",
    "                 hue_order=config['rater_categories'],\n",
    "                 data=df_prmse_double_with_category)\n",
    "ax.set_xlabel(\"Total N responses\")\n",
    "ax.axhline(r2_score(df['true'], df['system']), color='black', ls=':')"
   ]
  },
  {
   "cell_type": "code",
   "execution_count": 17,
   "metadata": {},
   "outputs": [],
   "source": [
    "#let's also look at other metrics\n",
    "df_perc['h_mean'] = df_perc[['h1', 'h2']].mean(axis=1)\n",
    "df_metrics = df_perc.groupby(['pair', 'percentage']).apply(lambda x: Analyzer.metrics_helper(x['h_mean'], x['system']))"
   ]
  },
  {
   "cell_type": "code",
   "execution_count": 18,
   "metadata": {},
   "outputs": [],
   "source": [
    "df_metrics.reset_index(inplace=True)"
   ]
  },
  {
   "cell_type": "code",
   "execution_count": 19,
   "metadata": {},
   "outputs": [],
   "source": [
    "df_metrics_long = df_metrics.melt(id_vars = ['pair', 'percentage'],\n",
    "                                 value_vars = ['wtkappa', 'corr', 'R2'],\n",
    "                                 var_name = 'metrics', \n",
    "                                 value_name = 'value')\n",
    "df_metrics_long['h1'] = df_metrics_long['pair'].apply(lambda x: x.split(\"+\")[0])\n",
    "df_metrics_with_category = pd.merge(df_metrics_long, df_raters, left_on='h1', right_on='rater_id')"
   ]
  },
  {
   "cell_type": "code",
   "execution_count": 20,
   "metadata": {},
   "outputs": [
    {
     "data": {
      "image/png": "[encoded data removed]",
      "text/plain": [
       "<Figure size 1145x360 with 3 Axes>"
      ]
     },
     "metadata": {
      "needs_background": "light"
     },
     "output_type": "display_data"
    }
   ],
   "source": [
    "ax = sns.catplot(x='category', y='value', col='metrics',\n",
    "                 hue='percentage', order=config['rater_categories'],\n",
    "                 data=df_metrics_with_category, kind='box',\n",
    "                sharey=False)\n",
    "plt.savefig(fig_dir / 'percentage_other.png')"
   ]
  }
 ],
 "metadata": {
  "kernelspec": {
   "display_name": "Python 3",
   "language": "python",
   "name": "python3"
  },
  "language_info": {
   "codemirror_mode": {
    "name": "ipython",
    "version": 3
   },
   "file_extension": ".py",
   "mimetype": "text/x-python",
   "name": "python",
   "nbconvert_exporter": "python",
   "pygments_lexer": "ipython3",
   "version": "3.7.6"
  }
 },
 "nbformat": 4,
 "nbformat_minor": 4
}
