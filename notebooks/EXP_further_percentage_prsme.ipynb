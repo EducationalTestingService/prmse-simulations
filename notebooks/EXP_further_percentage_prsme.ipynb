{
 "cells": [
  {
   "cell_type": "markdown",
   "metadata": {},
   "source": [
    "# Digging further: Percentage double-scored\n",
    "\n",
    "In this notebook we look how PRMSE depends on % double-scored responses. \n",
    "We pick 100 rater pairs, sample different % of double-scored responses and compute PRMSE. "
   ]
  },
  {
   "cell_type": "code",
   "execution_count": 1,
   "metadata": {},
   "outputs": [],
   "source": [
    "import pandas as pd\n",
    "import seaborn as sns\n",
    "from scipy.stats import pearsonr\n",
    "from sklearn.metrics import r2_score\n",
    "import itertools\n",
    "import numpy as np\n",
    "\n",
    "import json\n",
    "\n",
    "from rsmtool.utils.prmse import prmse_true\n",
    "\n",
    "from matplotlib import pyplot as plt\n",
    "\n",
    "from pathlib import Path\n",
    "\n",
    "%matplotlib inline"
   ]
  },
  {
   "cell_type": "code",
   "execution_count": 2,
   "metadata": {},
   "outputs": [],
   "source": [
    "# let's define some settings and read the data\n",
    "config = json.load(open('settings.json'))\n",
    "fig_dir = Path('../paper_overleaf/figures')\n",
    "df = pd.read_csv('../data/data.csv')\n",
    "df_raters = pd.read_csv('../data/raters.csv')\n",
    "metrics_dict = json.load(open('metrics_dict.json')) # the dictionary with metrics name we'll use for plots\n",
    "df['system'] = df[config['sample_system']] # we use one sample system as defined in the config"
   ]
  },
  {
   "cell_type": "code",
   "execution_count": 3,
   "metadata": {},
   "outputs": [],
   "source": [
    "human_columns = df_raters['rater_id'].values"
   ]
  },
  {
   "cell_type": "code",
   "execution_count": 4,
   "metadata": {},
   "outputs": [],
   "source": [
    "# generate pairs of raters for each group\n",
    "\n",
    "def generate_rater_pairs_for_group(df_group, n_pairs):\n",
    "    raters = df_group['rater_id']\n",
    "    # get all possible rater pairs\n",
    "    rater_pairs = ['{}+{}'.format(p[0], p[1]) for p in itertools.combinations(raters, 2)]\n",
    "    np.random.seed(100)\n",
    "    selected_pairs = np.random.choice(rater_pairs, n_pairs, replace=False)\n",
    "    return selected_pairs"
   ]
  },
  {
   "cell_type": "code",
   "execution_count": 5,
   "metadata": {},
   "outputs": [],
   "source": [
    "# randomly sample 50 pairs for each group\n",
    "selected_pairs = df_raters.groupby('category').apply(generate_rater_pairs_for_group, n_pairs=50)\n",
    "pair_dict = selected_pairs.to_dict()"
   ]
  },
  {
   "cell_type": "code",
   "execution_count": 6,
   "metadata": {},
   "outputs": [],
   "source": [
    "# we make one long DF to speed up computation\n",
    "data = []\n",
    "for c in df_raters['category'].unique():\n",
    "    pairs = pair_dict[c]\n",
    "    for p in pairs:\n",
    "        (h1, h2) = p.split('+')\n",
    "        df_p = pd.DataFrame({'pair': p,\n",
    "                              'h1': df[h1],\n",
    "                              'h2': df[h2],\n",
    "                              'system': df['system'], \n",
    "                              'true': df['true'],\n",
    "                              'category': c})\n",
    "        data.append(df_p)\n",
    "    df_long = pd.concat(data)"
   ]
  },
  {
   "cell_type": "code",
   "execution_count": 7,
   "metadata": {},
   "outputs": [
    {
     "name": "stdout",
     "output_type": "stream",
     "text": [
      "1\n",
      "10\n",
      "25\n",
      "50\n",
      "75\n",
      "90\n",
      "100\n"
     ]
    }
   ],
   "source": [
    "# let's now create a DF with different percentage double-scored\n",
    "perc_double_scored = [1, 10, 25, 50, 75, 90, 100]\n",
    "# we now create a df with this values\n",
    "np.random.seed(123)\n",
    "df_list = []\n",
    "for p in perc_double_scored:\n",
    "    print(p)\n",
    "    to_sample = int(p/100*len(df_long))\n",
    "    mask  = np.zeros(len(df_long), dtype=int)\n",
    "    mask[: to_sample]=1\n",
    "    np.random.shuffle(mask)\n",
    "    mask = mask.astype(bool)\n",
    "    df_double = df_long[mask].copy()\n",
    "    df_single = df_long[~mask].copy()\n",
    "    df_double['percentage'] = p\n",
    "    df_single['percentage'] = p\n",
    "    df_single['h2'] = None\n",
    "    df_list.extend([df_double, df_single])\n",
    "df_perc = pd.concat(df_list)\n",
    "df_perc['h1'] = pd.to_numeric(df_perc['h1'], errors='coerce')\n",
    "df_perc['h2'] = pd.to_numeric(df_perc['h2'], errors='coerce')"
   ]
  },
  {
   "cell_type": "code",
   "execution_count": 8,
   "metadata": {},
   "outputs": [
    {
     "data": {
      "text/plain": [
       "<matplotlib.axes._subplots.AxesSubplot at 0x1216d8790>"
      ]
     },
     "execution_count": 8,
     "metadata": {},
     "output_type": "execute_result"
    },
    {
     "data": {
      "image/png": "[encoded data removed]",
      "text/plain": [
       "<Figure size 432x288 with 1 Axes>"
      ]
     },
     "metadata": {
      "needs_background": "light"
     },
     "output_type": "display_data"
    }
   ],
   "source": [
    "# A sanity check plot\n",
    "sns.boxplot(data=df_perc.groupby(['pair', 'percentage']).apply(lambda x: len(x[~x['h2'].isnull()])/len(x)*100).unstack())"
   ]
  },
  {
   "cell_type": "code",
   "execution_count": 10,
   "metadata": {},
   "outputs": [],
   "source": [
    "# now let's compute prmse. This can take a lot of time since we are computing over a large amount of data:\n",
    "# 200 pairs, 7 percentage points. \n",
    "df_prmse  = df_perc.groupby(['pair', 'percentage']).apply(lambda x: prmse_true(x['system'],\n",
    "                                                                               x[['h1', 'h2']])).reset_index()"
   ]
  },
  {
   "cell_type": "code",
   "execution_count": 11,
   "metadata": {},
   "outputs": [],
   "source": [
    "df_prmse.columns = ['pair', 'percentage', 'prmse']"
   ]
  },
  {
   "cell_type": "code",
   "execution_count": 12,
   "metadata": {},
   "outputs": [
    {
     "data": {
      "text/plain": [
       "Text(0.5, 0, 'Percentage double-scored')"
      ]
     },
     "execution_count": 12,
     "metadata": {},
     "output_type": "execute_result"
    },
    {
     "data": {
      "image/png": "[encoded data removed]",
      "text/plain": [
       "<Figure size 432x288 with 1 Axes>"
      ]
     },
     "metadata": {
      "needs_background": "light"
     },
     "output_type": "display_data"
    }
   ],
   "source": [
    "ax = sns.boxplot(x='percentage', y='prmse', data=df_prmse)\n",
    "ax.set_ylim([0, 1]);\n",
    "ax.set_xlabel(\"Percentage double-scored\")"
   ]
  },
  {
   "cell_type": "code",
   "execution_count": 13,
   "metadata": {},
   "outputs": [],
   "source": [
    "#let's also look at system correlations\n",
    "df_perc['h_mean'] = df_perc[['h1', 'h2']].mean(axis=1)\n",
    "df_system_corr = df_perc.groupby(['pair', 'percentage'])[['h_mean', 'system']].corr().unstack().reset_index()\n",
    "df_system_corr.columns = ['-'.join(col) if col[1] !='' else col[0] for col in df_system_corr.columns]"
   ]
  },
  {
   "cell_type": "code",
   "execution_count": 14,
   "metadata": {},
   "outputs": [
    {
     "data": {
      "text/plain": [
       "Text(0.5, 0, 'Percentage double-scored')"
      ]
     },
     "execution_count": 14,
     "metadata": {},
     "output_type": "execute_result"
    },
    {
     "data": {
      "image/png": "[encoded data removed]",
      "text/plain": [
       "<Figure size 432x288 with 1 Axes>"
      ]
     },
     "metadata": {
      "needs_background": "light"
     },
     "output_type": "display_data"
    }
   ],
   "source": [
    "ax = sns.boxplot(x='percentage', y='h_mean-system', data=df_system_corr)\n",
    "ax.set_ylim([0, 1]);\n",
    "ax.set_xlabel(\"Percentage double-scored\")"
   ]
  }
 ],
 "metadata": {
  "kernelspec": {
   "display_name": "Python 3",
   "language": "python",
   "name": "python3"
  },
  "language_info": {
   "codemirror_mode": {
    "name": "ipython",
    "version": 3
   },
   "file_extension": ".py",
   "mimetype": "text/x-python",
   "name": "python",
   "nbconvert_exporter": "python",
   "pygments_lexer": "ipython3",
   "version": "3.7.6"
  }
 },
 "nbformat": 4,
 "nbformat_minor": 4
}
