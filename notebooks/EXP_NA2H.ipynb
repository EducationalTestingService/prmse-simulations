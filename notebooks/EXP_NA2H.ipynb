{
 "cells": [
  {
   "cell_type": "markdown",
   "metadata": {},
   "source": [
    "# Ranking of multiple systems\n",
    "\n",
    "In this notebook we simulate situation where we have multiple system scores. We then evaluate them against different pairs of raters with different level of human agreement."
   ]
  },
  {
   "cell_type": "code",
   "execution_count": 9,
   "metadata": {},
   "outputs": [],
   "source": [
    "import pandas as pd\n",
    "import seaborn as sns\n",
    "from scipy.stats import pearsonr\n",
    "from sklearn.metrics import r2_score\n",
    "import itertools\n",
    "import numpy as np\n",
    "\n",
    "from rsmtool.analyzer import Analyzer\n",
    "\n",
    "from pathlib import Path\n",
    "\n",
    "import json\n",
    "\n",
    "from rsmtool.utils.prmse import prmse_true\n",
    "\n",
    "from matplotlib import pyplot as plt\n",
    "\n",
    "%matplotlib inline"
   ]
  },
  {
   "cell_type": "code",
   "execution_count": 22,
   "metadata": {},
   "outputs": [],
   "source": [
    "# read in various settings\n",
    "df = pd.read_csv('../data/data.csv')\n",
    "config = json.load(open('settings.json'))\n",
    "df_systems = pd.read_csv('../data/systems.csv')\n",
    "df_raters = pd.read_csv('../data/raters.csv')\n",
    "metrics_dict = json.load(open('metrics_dict.json'))\n",
    "fig_dir = Path('../../../../OneDrive - Educational Testing Service/Dissemination/Papers/2020_bea_prmse/figures')"
   ]
  },
  {
   "cell_type": "code",
   "execution_count": 4,
   "metadata": {},
   "outputs": [
    {
     "data": {
      "text/plain": [
       "30"
      ]
     },
     "execution_count": 4,
     "metadata": {},
     "output_type": "execute_result"
    }
   ],
   "source": [
    "# get the total number of systems we have simulated\n",
    "total_n_systems = sum(config['n_systems'])\n",
    "total_n_systems"
   ]
  },
  {
   "cell_type": "markdown",
   "metadata": {},
   "source": [
    "## All systems evaluated against the same pair of raters. \n",
    "\n",
    "Let's first look at a random pair of average raters and how are systems compare. These results are not in the paper right now."
   ]
  },
  {
   "cell_type": "code",
   "execution_count": 41,
   "metadata": {},
   "outputs": [
    {
     "name": "stdout",
     "output_type": "stream",
     "text": [
      "We selected h_131 and h_101 with HH correlation = 0.6462254158317621\n"
     ]
    }
   ],
   "source": [
    "human = df_raters[df_raters['category']=='average']['rater_id'].sample(n=2, random_state=32626).values\n",
    "df['human'] = df[human].mean(axis=1)\n",
    "h_corr = pearsonr(df[human[0]], df[human[1]])[0]\n",
    "print(\"We selected {} and {} with HH correlation = {}\".format(human[0], human[1], h_corr))"
   ]
  },
  {
   "cell_type": "code",
   "execution_count": 6,
   "metadata": {},
   "outputs": [],
   "source": [
    "system_columns = df_systems['system_id']"
   ]
  },
  {
   "cell_type": "code",
   "execution_count": 47,
   "metadata": {},
   "outputs": [],
   "source": [
    "# compute evaluations for each systems against the selected pair of raters. We compute\n",
    "# prmse in the same loop to keep things simple. This can take some time. \n",
    "evals = []\n",
    "for s in system_columns:\n",
    "    df_system_eval = pd.DataFrame(Analyzer.metrics_helper(df['human'], df[s])).transpose()\n",
    "    df_system_eval.index = [s]\n",
    "    df_system_eval['PRMSE'] = prmse_true(df[s], df[human])\n",
    "    evals.append(df_system_eval)\n",
    "df_evals = pd.concat(evals)"
   ]
  },
  {
   "cell_type": "code",
   "execution_count": 82,
   "metadata": {},
   "outputs": [],
   "source": [
    "# compute degradataion, rename the metrics and merge the data frame with the system metadata\n",
    "df_evals = df_evals.rename(columns=metrics_dict)\n",
    "df_evals['degradation'] = df_evals['r'] - h_corr\n",
    "df_evals_with_metadata = pd.merge(df_evals, df_systems, left_index=True, right_on='system_id')"
   ]
  },
  {
   "cell_type": "code",
   "execution_count": 83,
   "metadata": {},
   "outputs": [],
   "source": [
    "# melt the data frame\n",
    "df_evals_long = df_evals_with_metadata.melt(id_vars=['system_id', 'exp_r2_true'],\n",
    "                                            value_vars=['QWK', 'r', 'R2', 'PRMSE', 'degradation'],\n",
    "                                            var_name='metrics',\n",
    "                                            value_name='value')"
   ]
  },
  {
   "cell_type": "code",
   "execution_count": 84,
   "metadata": {},
   "outputs": [],
   "source": [
    "## define the function to get the system ranking\n",
    "def get_rank(df_m):\n",
    "    if df_m['metrics'].values[0] == 'degradation':\n",
    "        asc = False\n",
    "    else:\n",
    "        asc = True\n",
    "    df_m = df_m.sort_values(by='value', ascending=asc)\n",
    "    df_m['rank'] = range(1, len(df_m)+1)\n",
    "    return(df_m)"
   ]
  },
  {
   "cell_type": "code",
   "execution_count": 85,
   "metadata": {},
   "outputs": [],
   "source": [
    "df_2h_with_rank = df_evals_long.groupby('metrics').apply(lambda x: get_rank(x)).reset_index(drop=True)"
   ]
  },
  {
   "cell_type": "code",
   "execution_count": 86,
   "metadata": {},
   "outputs": [
    {
     "data": {
      "text/plain": [
       "<seaborn.axisgrid.FacetGrid at 0x12e6b4fd0>"
      ]
     },
     "execution_count": 86,
     "metadata": {},
     "output_type": "execute_result"
    },
    {
     "data": {
      "image/png": "[encoded data removed]",
      "text/plain": [
       "<Figure size 1800x360 with 5 Axes>"
      ]
     },
     "metadata": {
      "needs_background": "light"
     },
     "output_type": "display_data"
    }
   ],
   "source": [
    "# plot the ranks: we expect  that all systems will be ranked correctly.\n",
    "sns.catplot(x='exp_r2_true', y='rank', data=df_2h_with_rank,\n",
    "           col='metrics', kind='box')"
   ]
  },
  {
   "cell_type": "markdown",
   "metadata": {},
   "source": [
    "## Compare different system on different pairs\n",
    "\n",
    "We now pick a different pair of raters to evaluate each system."
   ]
  },
  {
   "cell_type": "code",
   "execution_count": 87,
   "metadata": {},
   "outputs": [],
   "source": [
    "# generate pairs of raters for each group\n",
    "\n",
    "def generate_rater_pairs_for_group(df_group):\n",
    "    raters = df_group['rater_id']\n",
    "    # get all possible rater pairs\n",
    "    rater_pairs = ['{}+{}'.format(p[0], p[1]) for p in itertools.combinations(raters, 2)]\n",
    "    return rater_pairs"
   ]
  },
  {
   "cell_type": "code",
   "execution_count": 88,
   "metadata": {},
   "outputs": [
    {
     "data": {
      "text/plain": [
       "4900"
      ]
     },
     "execution_count": 88,
     "metadata": {},
     "output_type": "execute_result"
    }
   ],
   "source": [
    "# generate all possible pairs from each group and flatten them\n",
    "selected_pairs = df_raters.groupby('category').apply(generate_rater_pairs_for_group)\n",
    "all_pairs = [p for category in selected_pairs for p in category]\n",
    "len(all_pairs)"
   ]
  },
  {
   "cell_type": "code",
   "execution_count": 89,
   "metadata": {},
   "outputs": [
    {
     "data": {
      "text/plain": [
       "30"
      ]
     },
     "execution_count": 89,
     "metadata": {},
     "output_type": "execute_result"
    }
   ],
   "source": [
    "# randomly sample a pair for each system\n",
    "N_pairs = total_n_systems\n",
    "np.random.seed(14436323)\n",
    "final_selected_pairs = np.random.choice(all_pairs, N_pairs, replace=False)\n",
    "len(final_selected_pairs)"
   ]
  },
  {
   "cell_type": "code",
   "execution_count": null,
   "metadata": {},
   "outputs": [],
   "source": [
    "out = []\n",
    "for i in range(total_n_systems):\n",
    "    if i+1 % 10 == 0:\n",
    "        print('{}/{}'.format(i, total_n_systems))\n",
    "    humans = final_selected_pairs[i].split('+')\n",
    "    system = system_columns[i]\n",
    "    mean = df[humans].mean(axis=1)\n",
    "    df_out = pd.DataFrame(Analyzer.metrics_helper(mean, df[system])).transpose()\n",
    "    df_out['PRMSE'] = prmse_true(df[system], df[humans])\n",
    "    df_out['humans'] = final_selected_pairs[i]\n",
    "    df_out['h1'] = humans[0]       \n",
    "    df_out['hh_corr'] = pearsonr(df[humans[0]], df[humans[1]])[0]\n",
    "    df_out['system'] = [system]\n",
    "    out.append(df_out)\n",
    "df_nh_evals = pd.concat(out)"
   ]
  },
  {
   "cell_type": "code",
   "execution_count": 91,
   "metadata": {},
   "outputs": [],
   "source": [
    "# Add the information about the category.\n",
    "# We can use h1 sincethe pairs are always drawn from the same groups of raters\n",
    "df_nh_with_category = pd.merge(df_nh_evals, df_raters, left_on='h1', right_on='rater_id' )\n",
    "# Add information about the system\n",
    "df_nh = pd.merge(df_nh_with_category, df_systems, left_on='system', right_on='system_id')"
   ]
  },
  {
   "cell_type": "code",
   "execution_count": 93,
   "metadata": {},
   "outputs": [
    {
     "name": "stdout",
     "output_type": "stream",
     "text": [
      "\\begin{tabular}{lrrrr}\n",
      "\\toprule\n",
      "category &  low &  moderate &  average &  high \\\\\n",
      "exp\\_r2\\_true &      &           &          &       \\\\\n",
      "\\midrule\n",
      "0.00        &    1 &         0 &        1 &     3 \\\\\n",
      "0.40        &    2 &         1 &        2 &     0 \\\\\n",
      "0.65        &    2 &         2 &        0 &     1 \\\\\n",
      "0.80        &    2 &         2 &        0 &     1 \\\\\n",
      "0.95        &    1 &         1 &        2 &     1 \\\\\n",
      "0.99        &    2 &         2 &        1 &     0 \\\\\n",
      "\\bottomrule\n",
      "\\end{tabular}\n",
      "\n"
     ]
    }
   ],
   "source": [
    "# Get the table with distribution between system performance and rater agreement\n",
    "\n",
    "print(pd.crosstab(df_nh['exp_r2_true'], df_nh['category'])[config['rater_categories']].to_latex(float_format='%.2f'))"
   ]
  },
  {
   "cell_type": "code",
   "execution_count": 94,
   "metadata": {},
   "outputs": [],
   "source": [
    "# now compute degradation, rename the metrics and melt the data frame\n",
    "df_nh = df_nh.rename(columns=metrics_dict)\n",
    "df_nh['degradation'] = df_nh['r']  - df_nh['hh_corr']\n",
    "df_nh_long = df_nh.melt(id_vars = ['humans', 'category', 'system', 'exp_r2_true'],\n",
    "                                  value_vars = ['r', 'R2', 'QWK', 'degradation', 'prmse'],\n",
    "                                  var_name = 'metrics', value_name = 'value')"
   ]
  },
  {
   "cell_type": "code",
   "execution_count": 95,
   "metadata": {},
   "outputs": [
    {
     "data": {
      "image/png": "[encoded data removed]",
      "text/plain": [
       "<Figure size 1800x360 with 5 Axes>"
      ]
     },
     "metadata": {
      "needs_background": "light"
     },
     "output_type": "display_data"
    }
   ],
   "source": [
    "# Plot the raw values by known system prformance\n",
    "ax = sns.catplot(col='metrics', y='value', x='exp_r2_true', data=df_nh_long,\n",
    "                kind='box')"
   ]
  },
  {
   "cell_type": "code",
   "execution_count": 96,
   "metadata": {},
   "outputs": [],
   "source": [
    "# now add ranks\n",
    "\n",
    "df_nh_with_rank = df_nh_long.groupby('metrics').apply(lambda x: get_rank(x)).reset_index(drop=True)"
   ]
  },
  {
   "cell_type": "code",
   "execution_count": 99,
   "metadata": {},
   "outputs": [
    {
     "data": {
      "text/plain": [
       "R2             30\n",
       "QWK            30\n",
       "r              30\n",
       "degradation    30\n",
       "Name: metrics, dtype: int64"
      ]
     },
     "execution_count": 99,
     "metadata": {},
     "output_type": "execute_result"
    }
   ],
   "source": [
    "data_for_plot['metrics'].value_counts()"
   ]
  },
  {
   "cell_type": "code",
   "execution_count": 101,
   "metadata": {},
   "outputs": [
    {
     "data": {
      "image/png": "[encoded data removed]",
      "text/plain": [
       "<Figure size 864x432 with 4 Axes>"
      ]
     },
     "metadata": {
      "needs_background": "light"
     },
     "output_type": "display_data"
    }
   ],
   "source": [
    "# plot the ranks. We overlay the ranks we computed for the same pair in the first part of this notebook.\n",
    "\n",
    "plot_metrics = ['r', 'QWK', 'R2', 'degradation']\n",
    "\n",
    "fig, axes = plt.subplots(ncols=len(plot_metrics), sharex=True, sharey=True, figsize=(12, 6))\n",
    "\n",
    "data_for_plot = df_nh_with_rank[df_nh_with_rank['metrics'].isin(plot_metrics)]\n",
    "\n",
    "for ax, (n, grp) in zip(axes, data_for_plot.groupby(\"metrics\")):\n",
    "    sns.boxplot(x=\"exp_r2_true\", y=\"rank\", data=grp, ax=ax, color='grey')\n",
    "    ref_data = df_2h_with_rank[df_2h_with_rank['metrics']==n]\n",
    "    sns.stripplot(x=\"exp_r2_true\", y=\"rank\", data=ref_data, color='red', ax=ax)\n",
    "    ax.set_title(n)\n",
    "#axes[-1].get_legend().remove()\n",
    "plt.show()\n",
    "fig.savefig(fig_dir / 'system_comparison.png')"
   ]
  },
  {
   "cell_type": "code",
   "execution_count": 106,
   "metadata": {},
   "outputs": [
    {
     "data": {
      "image/png": "[encoded data removed]",
      "text/plain": [
       "<Figure size 432x288 with 1 Axes>"
      ]
     },
     "metadata": {
      "needs_background": "light"
     },
     "output_type": "display_data"
    }
   ],
   "source": [
    "# Now let's plot PRMSE and R2 only \n",
    "\n",
    "data_for_plot = df_nh_with_rank[df_nh_with_rank['metrics'].isin(['PRMSE', 'R2'])]\n",
    "\n",
    "ax = sns.boxplot(x=\"exp_r2_true\", y=\"rank\", data=data_for_plot, hue='metrics',\n",
    "                 hue_order=['r2_observed', 'prmse'])\n",
    "#axes[-1].get_legend().remove()\n",
    "#plt.show()\n",
    "plt.savefig(fig_dir / 'prmse_comparison.png')"
   ]
  },
  {
   "cell_type": "code",
   "execution_count": null,
   "metadata": {},
   "outputs": [],
   "source": []
  }
 ],
 "metadata": {
  "kernelspec": {
   "display_name": "Python 3",
   "language": "python",
   "name": "python3"
  },
  "language_info": {
   "codemirror_mode": {
    "name": "ipython",
    "version": 3
   },
   "file_extension": ".py",
   "mimetype": "text/x-python",
   "name": "python",
   "nbconvert_exporter": "python",
   "pygments_lexer": "ipython3",
   "version": "3.7.6"
  }
 },
 "nbformat": 4,
 "nbformat_minor": 4
}
